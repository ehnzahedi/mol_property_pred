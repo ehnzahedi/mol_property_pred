{
 "cells": [
  {
   "cell_type": "code",
   "execution_count": 24,
   "metadata": {},
   "outputs": [],
   "source": [
    "import numpy as np\n",
    "import matplotlib.pyplot as plt\n",
    "from sklearn.metrics import hamming_loss\n",
    "import tensorflow as tf\n",
    "from feature_extractor import fingerprint_features\n",
    "\n",
    "from classifiers.model1 import FeatureExtractedClassifier\n",
    "from classifiers.model2 import SmilePredictor\n",
    "from get_data import fetch_single_label_data, fetch_multi_label_data\n",
    "from utils import plot_cm, plot_metrics"
   ]
  },
  {
   "cell_type": "markdown",
   "metadata": {},
   "source": [
    "# Model 1"
   ]
  },
  {
   "cell_type": "code",
   "execution_count": 4,
   "metadata": {},
   "outputs": [],
   "source": [
    "def preprocess_smile(s):\n",
    "    s = str(s)\n",
    "    extracted_features = np.array(fingerprint_features(s, size=2048))\n",
    "    extracted_features = extracted_features.reshape(1, -1)\n",
    "    return extracted_features"
   ]
  },
  {
   "cell_type": "code",
   "execution_count": 5,
   "metadata": {},
   "outputs": [
    {
     "name": "stdout",
     "output_type": "stream",
     "text": [
      "class weights: {0: 2.81, 1: 0.61}\n"
     ]
    }
   ],
   "source": [
    "# we use class weight since the data is imbalanced\n",
    "# the following class weights is calculated in the data_exploration file\n",
    "class_weight = {0: 2.81, 1: 0.61}\n",
    "print(f\"class weights: {class_weight}\")\n",
    "\n",
    "METRICS = [\n",
    "    tf.keras.metrics.BinaryAccuracy(name='accuracy'),\n",
    "    tf.keras.metrics.Precision(name='precision'),\n",
    "    tf.keras.metrics.Recall(name='recall'),\n",
    "    tf.keras.metrics.AUC(name='auc')\n",
    "]"
   ]
  },
  {
   "cell_type": "code",
   "execution_count": 6,
   "metadata": {},
   "outputs": [],
   "source": [
    "X_train, X_test, y_train, y_test = fetch_single_label_data(\n",
    "    get_extracted_features=True)"
   ]
  },
  {
   "cell_type": "code",
   "execution_count": 7,
   "metadata": {},
   "outputs": [],
   "source": [
    "clf = FeatureExtractedClassifier(epochs=100,\n",
    "                                 batch_size=16,\n",
    "                                 metrics=METRICS,\n",
    "                                 optimizer=tf.keras.optimizers.Adam(lr=1e-5),\n",
    "                                 class_weight=class_weight,\n",
    "                                 verbose=2\n",
    "                                 )"
   ]
  },
  {
   "cell_type": "code",
   "execution_count": 8,
   "metadata": {
    "scrolled": true
   },
   "outputs": [
    {
     "name": "stdout",
     "output_type": "stream",
     "text": [
      "Train on 3199 samples, validate on 800 samples\n",
      "Epoch 1/100\n",
      "3199/3199 - 4s - loss: 1.1490 - accuracy: 0.4720 - precision: 0.4720 - recall: 0.4720 - auc: 0.4752 - val_loss: 0.6944 - val_accuracy: 0.3887 - val_precision: 0.3887 - val_recall: 0.3887 - val_auc: 0.3423\n",
      "Epoch 2/100\n",
      "3199/3199 - 1s - loss: 1.1119 - accuracy: 0.4945 - precision: 0.4945 - recall: 0.4945 - auc: 0.4957 - val_loss: 0.7188 - val_accuracy: 0.3363 - val_precision: 0.3363 - val_recall: 0.3363 - val_auc: 0.2882\n",
      "Epoch 3/100\n",
      "3199/3199 - 1s - loss: 1.1020 - accuracy: 0.4945 - precision: 0.4945 - recall: 0.4945 - auc: 0.4980 - val_loss: 0.7589 - val_accuracy: 0.3212 - val_precision: 0.3212 - val_recall: 0.3212 - val_auc: 0.2740\n",
      "Epoch 4/100\n",
      "3199/3199 - 1s - loss: 1.0344 - accuracy: 0.4751 - precision: 0.4751 - recall: 0.4751 - auc: 0.4889 - val_loss: 0.7767 - val_accuracy: 0.3125 - val_precision: 0.3125 - val_recall: 0.3125 - val_auc: 0.2644\n",
      "Epoch 5/100\n",
      "3199/3199 - 1s - loss: 0.9850 - accuracy: 0.4776 - precision: 0.4776 - recall: 0.4776 - auc: 0.4880 - val_loss: 0.7747 - val_accuracy: 0.3162 - val_precision: 0.3162 - val_recall: 0.3162 - val_auc: 0.2636\n",
      "Epoch 6/100\n",
      "3199/3199 - 1s - loss: 1.0064 - accuracy: 0.4805 - precision: 0.4805 - recall: 0.4805 - auc: 0.4919 - val_loss: 0.7639 - val_accuracy: 0.3088 - val_precision: 0.3088 - val_recall: 0.3088 - val_auc: 0.2577\n",
      "Epoch 7/100\n",
      "3199/3199 - 1s - loss: 0.9423 - accuracy: 0.4820 - precision: 0.4820 - recall: 0.4820 - auc: 0.5036 - val_loss: 0.7580 - val_accuracy: 0.3113 - val_precision: 0.3113 - val_recall: 0.3113 - val_auc: 0.2561\n",
      "Epoch 8/100\n",
      "3199/3199 - 1s - loss: 0.9244 - accuracy: 0.4939 - precision: 0.4939 - recall: 0.4939 - auc: 0.5012 - val_loss: 0.7616 - val_accuracy: 0.2900 - val_precision: 0.2900 - val_recall: 0.2900 - val_auc: 0.2416\n",
      "Epoch 9/100\n",
      "3199/3199 - 1s - loss: 0.8663 - accuracy: 0.4870 - precision: 0.4870 - recall: 0.4870 - auc: 0.4980 - val_loss: 0.7538 - val_accuracy: 0.2887 - val_precision: 0.2887 - val_recall: 0.2887 - val_auc: 0.2454\n",
      "Epoch 10/100\n",
      "3199/3199 - 1s - loss: 0.8970 - accuracy: 0.4745 - precision: 0.4745 - recall: 0.4745 - auc: 0.4860 - val_loss: 0.7478 - val_accuracy: 0.2875 - val_precision: 0.2875 - val_recall: 0.2875 - val_auc: 0.2446\n",
      "Epoch 11/100\n",
      "3199/3199 - 1s - loss: 0.8651 - accuracy: 0.4761 - precision: 0.4761 - recall: 0.4761 - auc: 0.4878 - val_loss: 0.7412 - val_accuracy: 0.2850 - val_precision: 0.2850 - val_recall: 0.2850 - val_auc: 0.2462\n",
      "Epoch 12/100\n",
      "3199/3199 - 1s - loss: 0.8440 - accuracy: 0.4927 - precision: 0.4927 - recall: 0.4927 - auc: 0.5011 - val_loss: 0.7365 - val_accuracy: 0.2875 - val_precision: 0.2875 - val_recall: 0.2875 - val_auc: 0.2462\n",
      "Epoch 13/100\n",
      "3199/3199 - 1s - loss: 0.8448 - accuracy: 0.4905 - precision: 0.4905 - recall: 0.4905 - auc: 0.5038 - val_loss: 0.7300 - val_accuracy: 0.3038 - val_precision: 0.3038 - val_recall: 0.3038 - val_auc: 0.2614\n",
      "Epoch 14/100\n",
      "3199/3199 - 1s - loss: 0.8548 - accuracy: 0.4902 - precision: 0.4902 - recall: 0.4902 - auc: 0.4946 - val_loss: 0.7284 - val_accuracy: 0.3113 - val_precision: 0.3113 - val_recall: 0.3113 - val_auc: 0.2614\n",
      "Epoch 15/100\n",
      "3199/3199 - 1s - loss: 0.8366 - accuracy: 0.4967 - precision: 0.4967 - recall: 0.4967 - auc: 0.5005 - val_loss: 0.7223 - val_accuracy: 0.3237 - val_precision: 0.3237 - val_recall: 0.3237 - val_auc: 0.2825\n",
      "Epoch 16/100\n",
      "3199/3199 - 1s - loss: 0.8134 - accuracy: 0.4808 - precision: 0.4808 - recall: 0.4808 - auc: 0.4939 - val_loss: 0.7194 - val_accuracy: 0.3350 - val_precision: 0.3350 - val_recall: 0.3350 - val_auc: 0.2908\n",
      "Epoch 17/100\n",
      "3199/3199 - 1s - loss: 0.8062 - accuracy: 0.5173 - precision: 0.5173 - recall: 0.5173 - auc: 0.5240 - val_loss: 0.7169 - val_accuracy: 0.3375 - val_precision: 0.3375 - val_recall: 0.3375 - val_auc: 0.2970\n",
      "Epoch 18/100\n",
      "3199/3199 - 1s - loss: 0.7976 - accuracy: 0.5127 - precision: 0.5127 - recall: 0.5127 - auc: 0.5240 - val_loss: 0.7135 - val_accuracy: 0.3512 - val_precision: 0.3512 - val_recall: 0.3512 - val_auc: 0.3051\n",
      "Epoch 19/100\n",
      "3199/3199 - 1s - loss: 0.8036 - accuracy: 0.5017 - precision: 0.5017 - recall: 0.5017 - auc: 0.5108 - val_loss: 0.7098 - val_accuracy: 0.3600 - val_precision: 0.3600 - val_recall: 0.3600 - val_auc: 0.3199\n",
      "Epoch 20/100\n",
      "3199/3199 - 1s - loss: 0.7898 - accuracy: 0.4933 - precision: 0.4933 - recall: 0.4933 - auc: 0.5148 - val_loss: 0.7054 - val_accuracy: 0.3675 - val_precision: 0.3675 - val_recall: 0.3675 - val_auc: 0.3324\n",
      "Epoch 21/100\n",
      "3199/3199 - 1s - loss: 0.7830 - accuracy: 0.5055 - precision: 0.5055 - recall: 0.5055 - auc: 0.5221 - val_loss: 0.7037 - val_accuracy: 0.3725 - val_precision: 0.3725 - val_recall: 0.3725 - val_auc: 0.3324\n",
      "Epoch 22/100\n",
      "3199/3199 - 1s - loss: 0.7608 - accuracy: 0.5127 - precision: 0.5127 - recall: 0.5127 - auc: 0.5363 - val_loss: 0.7027 - val_accuracy: 0.3650 - val_precision: 0.3650 - val_recall: 0.3650 - val_auc: 0.3284\n",
      "Epoch 23/100\n",
      "3199/3199 - 1s - loss: 0.7590 - accuracy: 0.5133 - precision: 0.5133 - recall: 0.5133 - auc: 0.5299 - val_loss: 0.6993 - val_accuracy: 0.3725 - val_precision: 0.3725 - val_recall: 0.3725 - val_auc: 0.3429\n",
      "Epoch 24/100\n",
      "3199/3199 - 1s - loss: 0.7540 - accuracy: 0.5061 - precision: 0.5061 - recall: 0.5061 - auc: 0.5337 - val_loss: 0.6967 - val_accuracy: 0.3688 - val_precision: 0.3688 - val_recall: 0.3688 - val_auc: 0.3418\n",
      "Epoch 25/100\n",
      "3199/3199 - 1s - loss: 0.7298 - accuracy: 0.5383 - precision: 0.5383 - recall: 0.5383 - auc: 0.5628 - val_loss: 0.6937 - val_accuracy: 0.3875 - val_precision: 0.3875 - val_recall: 0.3875 - val_auc: 0.3591\n",
      "Epoch 26/100\n",
      "3199/3199 - 1s - loss: 0.7466 - accuracy: 0.5227 - precision: 0.5227 - recall: 0.5227 - auc: 0.5425 - val_loss: 0.6924 - val_accuracy: 0.3875 - val_precision: 0.3875 - val_recall: 0.3875 - val_auc: 0.3504\n",
      "Epoch 27/100\n",
      "3199/3199 - 1s - loss: 0.7533 - accuracy: 0.5061 - precision: 0.5061 - recall: 0.5061 - auc: 0.5303 - val_loss: 0.6892 - val_accuracy: 0.4038 - val_precision: 0.4038 - val_recall: 0.4038 - val_auc: 0.3684\n",
      "Epoch 28/100\n",
      "3199/3199 - 1s - loss: 0.7330 - accuracy: 0.5217 - precision: 0.5217 - recall: 0.5217 - auc: 0.5480 - val_loss: 0.6883 - val_accuracy: 0.4050 - val_precision: 0.4050 - val_recall: 0.4050 - val_auc: 0.3697\n",
      "Epoch 29/100\n",
      "3199/3199 - 1s - loss: 0.7357 - accuracy: 0.5308 - precision: 0.5308 - recall: 0.5308 - auc: 0.5463 - val_loss: 0.6857 - val_accuracy: 0.4100 - val_precision: 0.4100 - val_recall: 0.4100 - val_auc: 0.3799\n",
      "Epoch 30/100\n",
      "3199/3199 - 1s - loss: 0.7405 - accuracy: 0.5192 - precision: 0.5192 - recall: 0.5192 - auc: 0.5424 - val_loss: 0.6857 - val_accuracy: 0.3887 - val_precision: 0.3887 - val_recall: 0.3887 - val_auc: 0.3630\n",
      "Epoch 31/100\n",
      "3199/3199 - 1s - loss: 0.7416 - accuracy: 0.5333 - precision: 0.5333 - recall: 0.5333 - auc: 0.5579 - val_loss: 0.6824 - val_accuracy: 0.4000 - val_precision: 0.4000 - val_recall: 0.4000 - val_auc: 0.3749\n",
      "Epoch 32/100\n",
      "3199/3199 - 1s - loss: 0.7296 - accuracy: 0.5189 - precision: 0.5189 - recall: 0.5189 - auc: 0.5488 - val_loss: 0.6832 - val_accuracy: 0.3900 - val_precision: 0.3900 - val_recall: 0.3900 - val_auc: 0.3634\n",
      "Epoch 33/100\n",
      "3199/3199 - 1s - loss: 0.7283 - accuracy: 0.5286 - precision: 0.5286 - recall: 0.5286 - auc: 0.5592 - val_loss: 0.6810 - val_accuracy: 0.4025 - val_precision: 0.4025 - val_recall: 0.4025 - val_auc: 0.3756\n",
      "Epoch 34/100\n",
      "3199/3199 - 1s - loss: 0.7175 - accuracy: 0.5402 - precision: 0.5402 - recall: 0.5402 - auc: 0.5617 - val_loss: 0.6785 - val_accuracy: 0.4150 - val_precision: 0.4150 - val_recall: 0.4150 - val_auc: 0.3888\n",
      "Epoch 35/100\n",
      "3199/3199 - 1s - loss: 0.7071 - accuracy: 0.5333 - precision: 0.5333 - recall: 0.5333 - auc: 0.5645 - val_loss: 0.6764 - val_accuracy: 0.4212 - val_precision: 0.4212 - val_recall: 0.4212 - val_auc: 0.4018\n",
      "Epoch 36/100\n",
      "3199/3199 - 1s - loss: 0.7149 - accuracy: 0.5433 - precision: 0.5433 - recall: 0.5433 - auc: 0.5683 - val_loss: 0.6759 - val_accuracy: 0.4137 - val_precision: 0.4137 - val_recall: 0.4137 - val_auc: 0.3949\n",
      "Epoch 37/100\n",
      "3199/3199 - 1s - loss: 0.6994 - accuracy: 0.5439 - precision: 0.5439 - recall: 0.5439 - auc: 0.5728 - val_loss: 0.6743 - val_accuracy: 0.4250 - val_precision: 0.4250 - val_recall: 0.4250 - val_auc: 0.4012\n",
      "Epoch 38/100\n",
      "3199/3199 - 1s - loss: 0.6989 - accuracy: 0.5392 - precision: 0.5392 - recall: 0.5392 - auc: 0.5726 - val_loss: 0.6725 - val_accuracy: 0.4350 - val_precision: 0.4350 - val_recall: 0.4350 - val_auc: 0.4130\n"
     ]
    },
    {
     "name": "stdout",
     "output_type": "stream",
     "text": [
      "Epoch 39/100\n",
      "3199/3199 - 1s - loss: 0.6924 - accuracy: 0.5430 - precision: 0.5430 - recall: 0.5430 - auc: 0.5723 - val_loss: 0.6710 - val_accuracy: 0.4375 - val_precision: 0.4375 - val_recall: 0.4375 - val_auc: 0.4179\n",
      "Epoch 40/100\n",
      "3199/3199 - 1s - loss: 0.7057 - accuracy: 0.5377 - precision: 0.5377 - recall: 0.5377 - auc: 0.5719 - val_loss: 0.6668 - val_accuracy: 0.4700 - val_precision: 0.4700 - val_recall: 0.4700 - val_auc: 0.4513\n",
      "Epoch 41/100\n",
      "3199/3199 - 1s - loss: 0.6846 - accuracy: 0.5586 - precision: 0.5586 - recall: 0.5586 - auc: 0.5900 - val_loss: 0.6672 - val_accuracy: 0.4650 - val_precision: 0.4650 - val_recall: 0.4650 - val_auc: 0.4432\n",
      "Epoch 42/100\n",
      "3199/3199 - 1s - loss: 0.6629 - accuracy: 0.5708 - precision: 0.5708 - recall: 0.5708 - auc: 0.6086 - val_loss: 0.6669 - val_accuracy: 0.4588 - val_precision: 0.4588 - val_recall: 0.4588 - val_auc: 0.4424\n",
      "Epoch 43/100\n",
      "3199/3199 - 1s - loss: 0.6885 - accuracy: 0.5617 - precision: 0.5617 - recall: 0.5617 - auc: 0.5932 - val_loss: 0.6655 - val_accuracy: 0.4650 - val_precision: 0.4650 - val_recall: 0.4650 - val_auc: 0.4486\n",
      "Epoch 44/100\n",
      "3199/3199 - 1s - loss: 0.6675 - accuracy: 0.5717 - precision: 0.5717 - recall: 0.5717 - auc: 0.6087 - val_loss: 0.6632 - val_accuracy: 0.4775 - val_precision: 0.4775 - val_recall: 0.4775 - val_auc: 0.4668\n",
      "Epoch 45/100\n",
      "3199/3199 - 1s - loss: 0.6667 - accuracy: 0.5627 - precision: 0.5627 - recall: 0.5627 - auc: 0.6095 - val_loss: 0.6643 - val_accuracy: 0.4638 - val_precision: 0.4638 - val_recall: 0.4638 - val_auc: 0.4503\n",
      "Epoch 46/100\n",
      "3199/3199 - 1s - loss: 0.6605 - accuracy: 0.5595 - precision: 0.5595 - recall: 0.5595 - auc: 0.6054 - val_loss: 0.6615 - val_accuracy: 0.4837 - val_precision: 0.4837 - val_recall: 0.4837 - val_auc: 0.4706\n",
      "Epoch 47/100\n",
      "3199/3199 - 1s - loss: 0.6609 - accuracy: 0.5805 - precision: 0.5805 - recall: 0.5805 - auc: 0.6137 - val_loss: 0.6615 - val_accuracy: 0.4787 - val_precision: 0.4787 - val_recall: 0.4787 - val_auc: 0.4680\n",
      "Epoch 48/100\n",
      "3199/3199 - 1s - loss: 0.6632 - accuracy: 0.5617 - precision: 0.5617 - recall: 0.5617 - auc: 0.6093 - val_loss: 0.6606 - val_accuracy: 0.4737 - val_precision: 0.4737 - val_recall: 0.4737 - val_auc: 0.4763\n",
      "Epoch 49/100\n",
      "3199/3199 - 1s - loss: 0.6741 - accuracy: 0.5686 - precision: 0.5686 - recall: 0.5686 - auc: 0.6055 - val_loss: 0.6616 - val_accuracy: 0.4737 - val_precision: 0.4737 - val_recall: 0.4737 - val_auc: 0.4679\n",
      "Epoch 50/100\n",
      "3199/3199 - 1s - loss: 0.6607 - accuracy: 0.5814 - precision: 0.5814 - recall: 0.5814 - auc: 0.6191 - val_loss: 0.6595 - val_accuracy: 0.4787 - val_precision: 0.4787 - val_recall: 0.4787 - val_auc: 0.4830\n",
      "Epoch 51/100\n",
      "3199/3199 - 1s - loss: 0.6524 - accuracy: 0.5902 - precision: 0.5902 - recall: 0.5902 - auc: 0.6235 - val_loss: 0.6587 - val_accuracy: 0.4888 - val_precision: 0.4888 - val_recall: 0.4888 - val_auc: 0.4903\n",
      "Epoch 52/100\n",
      "3199/3199 - 1s - loss: 0.6526 - accuracy: 0.5883 - precision: 0.5883 - recall: 0.5883 - auc: 0.6314 - val_loss: 0.6580 - val_accuracy: 0.5000 - val_precision: 0.5000 - val_recall: 0.5000 - val_auc: 0.5008\n",
      "Epoch 53/100\n",
      "3199/3199 - 1s - loss: 0.6579 - accuracy: 0.5692 - precision: 0.5692 - recall: 0.5692 - auc: 0.6122 - val_loss: 0.6567 - val_accuracy: 0.5013 - val_precision: 0.5013 - val_recall: 0.5013 - val_auc: 0.5052\n",
      "Epoch 54/100\n",
      "3199/3199 - 1s - loss: 0.6342 - accuracy: 0.5949 - precision: 0.5949 - recall: 0.5949 - auc: 0.6422 - val_loss: 0.6556 - val_accuracy: 0.5100 - val_precision: 0.5100 - val_recall: 0.5100 - val_auc: 0.5133\n",
      "Epoch 55/100\n",
      "3199/3199 - 1s - loss: 0.6479 - accuracy: 0.5880 - precision: 0.5880 - recall: 0.5880 - auc: 0.6293 - val_loss: 0.6547 - val_accuracy: 0.5113 - val_precision: 0.5113 - val_recall: 0.5113 - val_auc: 0.5164\n",
      "Epoch 56/100\n",
      "3199/3199 - 1s - loss: 0.6369 - accuracy: 0.5964 - precision: 0.5964 - recall: 0.5964 - auc: 0.6482 - val_loss: 0.6524 - val_accuracy: 0.5250 - val_precision: 0.5250 - val_recall: 0.5250 - val_auc: 0.5359\n",
      "Epoch 57/100\n",
      "3199/3199 - 1s - loss: 0.6317 - accuracy: 0.5936 - precision: 0.5936 - recall: 0.5936 - auc: 0.6454 - val_loss: 0.6526 - val_accuracy: 0.5250 - val_precision: 0.5250 - val_recall: 0.5250 - val_auc: 0.5312\n",
      "Epoch 58/100\n",
      "3199/3199 - 1s - loss: 0.6380 - accuracy: 0.6049 - precision: 0.6049 - recall: 0.6049 - auc: 0.6459 - val_loss: 0.6516 - val_accuracy: 0.5275 - val_precision: 0.5275 - val_recall: 0.5275 - val_auc: 0.5377\n",
      "Epoch 59/100\n",
      "3199/3199 - 1s - loss: 0.6115 - accuracy: 0.6099 - precision: 0.6099 - recall: 0.6099 - auc: 0.6645 - val_loss: 0.6511 - val_accuracy: 0.5350 - val_precision: 0.5350 - val_recall: 0.5350 - val_auc: 0.5424\n",
      "Epoch 60/100\n",
      "3199/3199 - 1s - loss: 0.6270 - accuracy: 0.6168 - precision: 0.6168 - recall: 0.6168 - auc: 0.6591 - val_loss: 0.6495 - val_accuracy: 0.5487 - val_precision: 0.5487 - val_recall: 0.5487 - val_auc: 0.5575\n",
      "Epoch 61/100\n",
      "3199/3199 - 1s - loss: 0.6295 - accuracy: 0.5983 - precision: 0.5983 - recall: 0.5983 - auc: 0.6449 - val_loss: 0.6489 - val_accuracy: 0.5500 - val_precision: 0.5500 - val_recall: 0.5500 - val_auc: 0.5674\n",
      "Epoch 62/100\n",
      "3199/3199 - 1s - loss: 0.6299 - accuracy: 0.5958 - precision: 0.5958 - recall: 0.5958 - auc: 0.6478 - val_loss: 0.6498 - val_accuracy: 0.5500 - val_precision: 0.5500 - val_recall: 0.5500 - val_auc: 0.5566\n",
      "Epoch 63/100\n",
      "3199/3199 - 1s - loss: 0.6255 - accuracy: 0.6074 - precision: 0.6074 - recall: 0.6074 - auc: 0.6560 - val_loss: 0.6479 - val_accuracy: 0.5525 - val_precision: 0.5525 - val_recall: 0.5525 - val_auc: 0.5743\n",
      "Epoch 64/100\n",
      "3199/3199 - 1s - loss: 0.6197 - accuracy: 0.6239 - precision: 0.6239 - recall: 0.6239 - auc: 0.6667 - val_loss: 0.6490 - val_accuracy: 0.5525 - val_precision: 0.5525 - val_recall: 0.5525 - val_auc: 0.5658\n",
      "Epoch 65/100\n",
      "3199/3199 - 1s - loss: 0.6149 - accuracy: 0.6274 - precision: 0.6274 - recall: 0.6274 - auc: 0.6767 - val_loss: 0.6487 - val_accuracy: 0.5537 - val_precision: 0.5537 - val_recall: 0.5537 - val_auc: 0.5672\n",
      "Epoch 66/100\n",
      "3199/3199 - 1s - loss: 0.5943 - accuracy: 0.6349 - precision: 0.6349 - recall: 0.6349 - auc: 0.6834 - val_loss: 0.6494 - val_accuracy: 0.5500 - val_precision: 0.5500 - val_recall: 0.5500 - val_auc: 0.5645\n",
      "Epoch 67/100\n",
      "3199/3199 - 1s - loss: 0.6160 - accuracy: 0.6133 - precision: 0.6133 - recall: 0.6133 - auc: 0.6652 - val_loss: 0.6484 - val_accuracy: 0.5512 - val_precision: 0.5512 - val_recall: 0.5512 - val_auc: 0.5708\n",
      "Epoch 68/100\n",
      "3199/3199 - 1s - loss: 0.6039 - accuracy: 0.6364 - precision: 0.6364 - recall: 0.6364 - auc: 0.6826 - val_loss: 0.6488 - val_accuracy: 0.5550 - val_precision: 0.5550 - val_recall: 0.5550 - val_auc: 0.5794\n",
      "Epoch 69/100\n",
      "3199/3199 - 1s - loss: 0.5973 - accuracy: 0.6277 - precision: 0.6277 - recall: 0.6277 - auc: 0.6796 - val_loss: 0.6482 - val_accuracy: 0.5612 - val_precision: 0.5612 - val_recall: 0.5612 - val_auc: 0.5849\n",
      "Epoch 70/100\n",
      "3199/3199 - 1s - loss: 0.5957 - accuracy: 0.6324 - precision: 0.6324 - recall: 0.6324 - auc: 0.6846 - val_loss: 0.6502 - val_accuracy: 0.5550 - val_precision: 0.5550 - val_recall: 0.5550 - val_auc: 0.5681\n",
      "Epoch 71/100\n",
      "3199/3199 - 1s - loss: 0.5865 - accuracy: 0.6458 - precision: 0.6458 - recall: 0.6458 - auc: 0.6948 - val_loss: 0.6488 - val_accuracy: 0.5700 - val_precision: 0.5700 - val_recall: 0.5700 - val_auc: 0.5863\n",
      "Epoch 72/100\n",
      "3199/3199 - 1s - loss: 0.5794 - accuracy: 0.6424 - precision: 0.6424 - recall: 0.6424 - auc: 0.6980 - val_loss: 0.6484 - val_accuracy: 0.5725 - val_precision: 0.5725 - val_recall: 0.5725 - val_auc: 0.5984\n",
      "Epoch 73/100\n",
      "3199/3199 - 1s - loss: 0.5870 - accuracy: 0.6508 - precision: 0.6508 - recall: 0.6508 - auc: 0.7039 - val_loss: 0.6485 - val_accuracy: 0.5775 - val_precision: 0.5775 - val_recall: 0.5775 - val_auc: 0.6083\n",
      "Epoch 74/100\n",
      "3199/3199 - 1s - loss: 0.5866 - accuracy: 0.6521 - precision: 0.6521 - recall: 0.6521 - auc: 0.7023 - val_loss: 0.6489 - val_accuracy: 0.5788 - val_precision: 0.5788 - val_recall: 0.5788 - val_auc: 0.6053\n",
      "Epoch 75/100\n",
      "3199/3199 - 1s - loss: 0.5731 - accuracy: 0.6574 - precision: 0.6574 - recall: 0.6574 - auc: 0.7117 - val_loss: 0.6504 - val_accuracy: 0.5788 - val_precision: 0.5788 - val_recall: 0.5788 - val_auc: 0.5961\n",
      "Epoch 76/100\n",
      "3199/3199 - 1s - loss: 0.5713 - accuracy: 0.6536 - precision: 0.6536 - recall: 0.6536 - auc: 0.7119 - val_loss: 0.6498 - val_accuracy: 0.5775 - val_precision: 0.5775 - val_recall: 0.5775 - val_auc: 0.6017\n"
     ]
    },
    {
     "name": "stdout",
     "output_type": "stream",
     "text": [
      "Epoch 77/100\n",
      "3199/3199 - 1s - loss: 0.5695 - accuracy: 0.6565 - precision: 0.6565 - recall: 0.6565 - auc: 0.7091 - val_loss: 0.6492 - val_accuracy: 0.5788 - val_precision: 0.5788 - val_recall: 0.5788 - val_auc: 0.6090\n",
      "Epoch 78/100\n",
      "3199/3199 - 1s - loss: 0.5559 - accuracy: 0.6777 - precision: 0.6777 - recall: 0.6777 - auc: 0.7309 - val_loss: 0.6490 - val_accuracy: 0.5825 - val_precision: 0.5825 - val_recall: 0.5825 - val_auc: 0.6171\n",
      "Epoch 79/100\n",
      "3199/3199 - 1s - loss: 0.5563 - accuracy: 0.6655 - precision: 0.6655 - recall: 0.6655 - auc: 0.7202 - val_loss: 0.6502 - val_accuracy: 0.5838 - val_precision: 0.5838 - val_recall: 0.5838 - val_auc: 0.6151\n",
      "Epoch 80/100\n",
      "3199/3199 - 1s - loss: 0.5510 - accuracy: 0.6780 - precision: 0.6780 - recall: 0.6780 - auc: 0.7345 - val_loss: 0.6493 - val_accuracy: 0.5925 - val_precision: 0.5925 - val_recall: 0.5925 - val_auc: 0.6255\n",
      "Epoch 81/100\n",
      "3199/3199 - 1s - loss: 0.5498 - accuracy: 0.6693 - precision: 0.6693 - recall: 0.6693 - auc: 0.7311 - val_loss: 0.6499 - val_accuracy: 0.5888 - val_precision: 0.5888 - val_recall: 0.5888 - val_auc: 0.6176\n",
      "Epoch 82/100\n",
      "3199/3199 - 1s - loss: 0.5444 - accuracy: 0.6818 - precision: 0.6818 - recall: 0.6818 - auc: 0.7335 - val_loss: 0.6509 - val_accuracy: 0.5925 - val_precision: 0.5925 - val_recall: 0.5925 - val_auc: 0.6271\n",
      "Epoch 83/100\n",
      "3199/3199 - 1s - loss: 0.5501 - accuracy: 0.6724 - precision: 0.6724 - recall: 0.6724 - auc: 0.7288 - val_loss: 0.6506 - val_accuracy: 0.5938 - val_precision: 0.5938 - val_recall: 0.5938 - val_auc: 0.6291\n",
      "Epoch 84/100\n",
      "3199/3199 - 1s - loss: 0.5291 - accuracy: 0.7043 - precision: 0.7043 - recall: 0.7043 - auc: 0.7555 - val_loss: 0.6525 - val_accuracy: 0.5925 - val_precision: 0.5925 - val_recall: 0.5925 - val_auc: 0.6289\n",
      "Epoch 85/100\n",
      "3199/3199 - 1s - loss: 0.5390 - accuracy: 0.6793 - precision: 0.6793 - recall: 0.6793 - auc: 0.7392 - val_loss: 0.6526 - val_accuracy: 0.5962 - val_precision: 0.5962 - val_recall: 0.5962 - val_auc: 0.6353\n",
      "Epoch 86/100\n",
      "3199/3199 - 1s - loss: 0.5319 - accuracy: 0.6921 - precision: 0.6921 - recall: 0.6921 - auc: 0.7506 - val_loss: 0.6513 - val_accuracy: 0.6012 - val_precision: 0.6012 - val_recall: 0.6012 - val_auc: 0.6354\n",
      "Epoch 87/100\n",
      "3199/3199 - 1s - loss: 0.5363 - accuracy: 0.6899 - precision: 0.6899 - recall: 0.6899 - auc: 0.7477 - val_loss: 0.6516 - val_accuracy: 0.6050 - val_precision: 0.6050 - val_recall: 0.6050 - val_auc: 0.6424\n",
      "Epoch 88/100\n",
      "3199/3199 - 1s - loss: 0.5265 - accuracy: 0.7015 - precision: 0.7015 - recall: 0.7015 - auc: 0.7566 - val_loss: 0.6530 - val_accuracy: 0.6037 - val_precision: 0.6037 - val_recall: 0.6037 - val_auc: 0.6309\n",
      "Epoch 89/100\n",
      "3199/3199 - 1s - loss: 0.5165 - accuracy: 0.7105 - precision: 0.7105 - recall: 0.7105 - auc: 0.7699 - val_loss: 0.6524 - val_accuracy: 0.6112 - val_precision: 0.6112 - val_recall: 0.6112 - val_auc: 0.6519\n",
      "Epoch 90/100\n",
      "3199/3199 - 1s - loss: 0.5116 - accuracy: 0.7149 - precision: 0.7149 - recall: 0.7149 - auc: 0.7689 - val_loss: 0.6534 - val_accuracy: 0.6162 - val_precision: 0.6162 - val_recall: 0.6162 - val_auc: 0.6572\n",
      "Epoch 91/100\n",
      "3199/3199 - 1s - loss: 0.5103 - accuracy: 0.7046 - precision: 0.7046 - recall: 0.7046 - auc: 0.7725 - val_loss: 0.6540 - val_accuracy: 0.6175 - val_precision: 0.6175 - val_recall: 0.6175 - val_auc: 0.6562\n",
      "Epoch 92/100\n",
      "3199/3199 - 1s - loss: 0.5059 - accuracy: 0.7090 - precision: 0.7090 - recall: 0.7090 - auc: 0.7704 - val_loss: 0.6547 - val_accuracy: 0.6212 - val_precision: 0.6212 - val_recall: 0.6212 - val_auc: 0.6579\n",
      "Epoch 93/100\n",
      "3199/3199 - 1s - loss: 0.4997 - accuracy: 0.7224 - precision: 0.7224 - recall: 0.7224 - auc: 0.7815 - val_loss: 0.6547 - val_accuracy: 0.6325 - val_precision: 0.6325 - val_recall: 0.6325 - val_auc: 0.6658\n",
      "Epoch 94/100\n",
      "3199/3199 - 1s - loss: 0.5145 - accuracy: 0.7209 - precision: 0.7209 - recall: 0.7209 - auc: 0.7788 - val_loss: 0.6548 - val_accuracy: 0.6338 - val_precision: 0.6338 - val_recall: 0.6338 - val_auc: 0.6708\n",
      "Epoch 95/100\n",
      "3199/3199 - 1s - loss: 0.5140 - accuracy: 0.7209 - precision: 0.7209 - recall: 0.7209 - auc: 0.7829 - val_loss: 0.6556 - val_accuracy: 0.6350 - val_precision: 0.6350 - val_recall: 0.6350 - val_auc: 0.6703\n",
      "Epoch 96/100\n",
      "3199/3199 - 1s - loss: 0.4932 - accuracy: 0.7346 - precision: 0.7346 - recall: 0.7346 - auc: 0.7889 - val_loss: 0.6553 - val_accuracy: 0.6375 - val_precision: 0.6375 - val_recall: 0.6375 - val_auc: 0.6707\n",
      "Epoch 97/100\n",
      "3199/3199 - 1s - loss: 0.4931 - accuracy: 0.7284 - precision: 0.7284 - recall: 0.7284 - auc: 0.7934 - val_loss: 0.6564 - val_accuracy: 0.6350 - val_precision: 0.6350 - val_recall: 0.6350 - val_auc: 0.6628\n",
      "Epoch 98/100\n",
      "3199/3199 - 1s - loss: 0.5020 - accuracy: 0.7309 - precision: 0.7309 - recall: 0.7309 - auc: 0.7883 - val_loss: 0.6559 - val_accuracy: 0.6388 - val_precision: 0.6388 - val_recall: 0.6388 - val_auc: 0.6776\n",
      "Epoch 99/100\n",
      "3199/3199 - 1s - loss: 0.4733 - accuracy: 0.7446 - precision: 0.7446 - recall: 0.7446 - auc: 0.8047 - val_loss: 0.6576 - val_accuracy: 0.6363 - val_precision: 0.6363 - val_recall: 0.6363 - val_auc: 0.6694\n",
      "Epoch 100/100\n",
      "3199/3199 - 1s - loss: 0.4887 - accuracy: 0.7399 - precision: 0.7399 - recall: 0.7399 - auc: 0.8028 - val_loss: 0.6596 - val_accuracy: 0.6450 - val_precision: 0.6450 - val_recall: 0.6450 - val_auc: 0.6847\n"
     ]
    },
    {
     "data": {
      "text/plain": [
       "FeatureExtractedClassifier(activation='relu', batch_size=16,\n",
       "                           class_weight={0: 2.81, 1: 0.61}, epochs=100,\n",
       "                           is_multi_label=False,\n",
       "                           loss='categorical_crossentropy',\n",
       "                           metrics=[<tensorflow.python.keras.metrics.BinaryAccuracy object at 0x000002076795C940>,\n",
       "                                    <tensorflow.python.keras.metrics.Precision object at 0x000002076795CF60>,\n",
       "                                    <tensorflow.python.keras.metrics.Recall object at 0x000002076797A2B0>,\n",
       "                                    <tensorflow.python.keras.metrics.AUC object at 0x000002076797A8D0>],\n",
       "                           optimizer=<tensorflow.python.keras.optimizer_v2.adam.Adam object at 0x000002076795C898>,\n",
       "                           output_activation='softmax', validation_split=0.2)"
      ]
     },
     "execution_count": 8,
     "metadata": {},
     "output_type": "execute_result"
    }
   ],
   "source": [
    "clf.fit(X_train, y_train)"
   ]
  },
  {
   "cell_type": "code",
   "execution_count": 9,
   "metadata": {},
   "outputs": [
    {
     "name": "stdout",
     "output_type": "stream",
     "text": [
      "loss : 0.6294\n",
      "accuracy : 0.6760\n",
      "precision : 0.6760\n",
      "recall : 0.6760\n",
      "auc : 0.7185\n"
     ]
    },
    {
     "data": {
      "image/png": "[encoded data removed]",
      "text/plain": [
       "<Figure size 432x288 with 4 Axes>"
      ]
     },
     "metadata": {
      "needs_background": "light"
     },
     "output_type": "display_data"
    }
   ],
   "source": [
    "# Evaluation\n",
    "\n",
    "plot_metrics(clf.history)\n",
    "\n",
    "results = clf.history.model.evaluate(X_test, y_test, verbose=0)\n",
    "for name, value in zip(clf.history.model.metrics_names, results):\n",
    "    print(f\"{name} : {value:.4f}\")\n",
    "\n",
    "\n",
    "\n"
   ]
  },
  {
   "cell_type": "code",
   "execution_count": 10,
   "metadata": {},
   "outputs": [
    {
     "name": "stdout",
     "output_type": "stream",
     "text": [
      "              precision    recall  f1-score   support\n",
      "\n",
      "           0       0.27      0.49      0.35       178\n",
      "           1       0.87      0.72      0.78       822\n",
      "\n",
      "    accuracy                           0.68      1000\n",
      "   macro avg       0.57      0.60      0.57      1000\n",
      "weighted avg       0.76      0.68      0.71      1000\n",
      "\n"
     ]
    },
    {
     "data": {
      "image/png": "[encoded data removed]",
      "text/plain": [
       "<Figure size 360x360 with 2 Axes>"
      ]
     },
     "metadata": {
      "needs_background": "light"
     },
     "output_type": "display_data"
    }
   ],
   "source": [
    "test_pred = clf.predict(X_test)\n",
    "plot_cm(y_test, test_pred)\n",
    "plt.show()"
   ]
  },
  {
   "cell_type": "markdown",
   "metadata": {},
   "source": [
    "# Model2"
   ]
  },
  {
   "cell_type": "code",
   "execution_count": 11,
   "metadata": {},
   "outputs": [],
   "source": [
    "X_train, X_test, y_train, y_test = fetch_single_label_data(\n",
    "    get_extracted_features=False)"
   ]
  },
  {
   "cell_type": "code",
   "execution_count": 12,
   "metadata": {},
   "outputs": [],
   "source": [
    "clf2 = SmilePredictor(epochs=150,\n",
    "                      batch_size=16,\n",
    "                      loss='binary_crossentropy',\n",
    "                      optimizer=tf.keras.optimizers.SGD(learning_rate=0.001,\n",
    "                                                        momentum=0.0,\n",
    "                                                        nesterov=False),\n",
    "                      metrics=METRICS,\n",
    "                      class_weight=class_weight,\n",
    "                      validation_split=0.2,\n",
    "                      verbose=3\n",
    "                      )"
   ]
  },
  {
   "cell_type": "code",
   "execution_count": 13,
   "metadata": {
    "scrolled": true
   },
   "outputs": [
    {
     "name": "stdout",
     "output_type": "stream",
     "text": [
      "Train on 3199 samples, validate on 800 samples\n",
      "Epoch 1/150\n",
      "3199/3199 - 4s - loss: 0.6938 - accuracy: 0.4070 - precision: 0.8717 - recall: 0.3239 - auc: 0.5659 - val_loss: 0.6746 - val_accuracy: 0.4712 - val_precision: 0.8805 - val_recall: 0.4211 - val_auc: 0.5953\n",
      "Epoch 2/150\n",
      "3199/3199 - 2s - loss: 0.6928 - accuracy: 0.4839 - precision: 0.8577 - recall: 0.4437 - auc: 0.5701 - val_loss: 0.6718 - val_accuracy: 0.5288 - val_precision: 0.8830 - val_recall: 0.4992 - val_auc: 0.6017\n",
      "Epoch 3/150\n",
      "3199/3199 - 2s - loss: 0.6913 - accuracy: 0.4952 - precision: 0.8619 - recall: 0.4571 - auc: 0.5777 - val_loss: 0.6701 - val_accuracy: 0.5763 - val_precision: 0.8671 - val_recall: 0.5789 - val_auc: 0.6029\n",
      "Epoch 4/150\n",
      "3199/3199 - 2s - loss: 0.6916 - accuracy: 0.5286 - precision: 0.8574 - recall: 0.5093 - auc: 0.5747 - val_loss: 0.6697 - val_accuracy: 0.5387 - val_precision: 0.8776 - val_recall: 0.5173 - val_auc: 0.6041\n",
      "Epoch 5/150\n",
      "3199/3199 - 2s - loss: 0.6918 - accuracy: 0.5167 - precision: 0.8543 - recall: 0.4945 - auc: 0.5680 - val_loss: 0.6695 - val_accuracy: 0.5225 - val_precision: 0.8835 - val_recall: 0.4902 - val_auc: 0.6093\n",
      "Epoch 6/150\n",
      "3199/3199 - 2s - loss: 0.6913 - accuracy: 0.5211 - precision: 0.8552 - recall: 0.5002 - auc: 0.5733 - val_loss: 0.6692 - val_accuracy: 0.5163 - val_precision: 0.8861 - val_recall: 0.4797 - val_auc: 0.6107\n",
      "Epoch 7/150\n",
      "3199/3199 - 2s - loss: 0.6905 - accuracy: 0.5280 - precision: 0.8582 - recall: 0.5078 - auc: 0.5782 - val_loss: 0.6696 - val_accuracy: 0.4650 - val_precision: 0.9044 - val_recall: 0.3985 - val_auc: 0.6150\n",
      "Epoch 8/150\n",
      "3199/3199 - 2s - loss: 0.6900 - accuracy: 0.4848 - precision: 0.8617 - recall: 0.4422 - auc: 0.5826 - val_loss: 0.6675 - val_accuracy: 0.5437 - val_precision: 0.8788 - val_recall: 0.5233 - val_auc: 0.6160\n",
      "Epoch 9/150\n",
      "3199/3199 - 2s - loss: 0.6891 - accuracy: 0.5361 - precision: 0.8516 - recall: 0.5254 - auc: 0.5875 - val_loss: 0.6673 - val_accuracy: 0.5275 - val_precision: 0.8806 - val_recall: 0.4992 - val_auc: 0.6175\n",
      "Epoch 10/150\n",
      "3199/3199 - 2s - loss: 0.6891 - accuracy: 0.5349 - precision: 0.8611 - recall: 0.5155 - auc: 0.5841 - val_loss: 0.6672 - val_accuracy: 0.5200 - val_precision: 0.8914 - val_recall: 0.4812 - val_auc: 0.6173\n",
      "Epoch 11/150\n",
      "3199/3199 - 2s - loss: 0.6886 - accuracy: 0.5173 - precision: 0.8626 - recall: 0.4887 - auc: 0.5874 - val_loss: 0.6664 - val_accuracy: 0.5300 - val_precision: 0.8813 - val_recall: 0.5023 - val_auc: 0.6206\n",
      "Epoch 12/150\n",
      "3199/3199 - 2s - loss: 0.6884 - accuracy: 0.5424 - precision: 0.8609 - recall: 0.5265 - auc: 0.5899 - val_loss: 0.6660 - val_accuracy: 0.5350 - val_precision: 0.8825 - val_recall: 0.5083 - val_auc: 0.6224\n",
      "Epoch 13/150\n",
      "3199/3199 - 2s - loss: 0.6884 - accuracy: 0.5183 - precision: 0.8654 - recall: 0.4880 - auc: 0.5885 - val_loss: 0.6652 - val_accuracy: 0.5750 - val_precision: 0.8842 - val_recall: 0.5624 - val_auc: 0.6232\n",
      "Epoch 14/150\n",
      "3199/3199 - 2s - loss: 0.6883 - accuracy: 0.5527 - precision: 0.8597 - recall: 0.5425 - auc: 0.5883 - val_loss: 0.6652 - val_accuracy: 0.5462 - val_precision: 0.8852 - val_recall: 0.5218 - val_auc: 0.6249\n",
      "Epoch 15/150\n",
      "3199/3199 - 2s - loss: 0.6877 - accuracy: 0.5277 - precision: 0.8632 - recall: 0.5032 - auc: 0.5910 - val_loss: 0.6646 - val_accuracy: 0.5587 - val_precision: 0.8842 - val_recall: 0.5398 - val_auc: 0.6288\n",
      "Epoch 16/150\n",
      "3199/3199 - 2s - loss: 0.6870 - accuracy: 0.5495 - precision: 0.8656 - recall: 0.5330 - auc: 0.5964 - val_loss: 0.6643 - val_accuracy: 0.5663 - val_precision: 0.8841 - val_recall: 0.5504 - val_auc: 0.6282\n",
      "Epoch 17/150\n",
      "3199/3199 - 2s - loss: 0.6876 - accuracy: 0.5449 - precision: 0.8602 - recall: 0.5307 - auc: 0.5928 - val_loss: 0.6643 - val_accuracy: 0.5462 - val_precision: 0.8932 - val_recall: 0.5158 - val_auc: 0.6314\n",
      "Epoch 18/150\n",
      "3199/3199 - 2s - loss: 0.6868 - accuracy: 0.5405 - precision: 0.8586 - recall: 0.5258 - auc: 0.5955 - val_loss: 0.6640 - val_accuracy: 0.5487 - val_precision: 0.8958 - val_recall: 0.5173 - val_auc: 0.6308\n",
      "Epoch 19/150\n",
      "3199/3199 - 2s - loss: 0.6864 - accuracy: 0.5270 - precision: 0.8708 - recall: 0.4964 - auc: 0.5992 - val_loss: 0.6631 - val_accuracy: 0.5800 - val_precision: 0.8817 - val_recall: 0.5714 - val_auc: 0.6337\n",
      "Epoch 20/150\n",
      "3199/3199 - 2s - loss: 0.6857 - accuracy: 0.5520 - precision: 0.8622 - recall: 0.5395 - auc: 0.5998 - val_loss: 0.6633 - val_accuracy: 0.5525 - val_precision: 0.8987 - val_recall: 0.5203 - val_auc: 0.6341\n",
      "Epoch 21/150\n",
      "3199/3199 - 2s - loss: 0.6861 - accuracy: 0.5420 - precision: 0.8595 - recall: 0.5273 - auc: 0.5975 - val_loss: 0.6631 - val_accuracy: 0.5437 - val_precision: 0.8968 - val_recall: 0.5098 - val_auc: 0.6376\n",
      "Epoch 22/150\n",
      "3199/3199 - 2s - loss: 0.6858 - accuracy: 0.5395 - precision: 0.8656 - recall: 0.5185 - auc: 0.6023 - val_loss: 0.6621 - val_accuracy: 0.5838 - val_precision: 0.8860 - val_recall: 0.5729 - val_auc: 0.6372\n",
      "Epoch 23/150\n",
      "3199/3199 - 2s - loss: 0.6849 - accuracy: 0.5530 - precision: 0.8669 - recall: 0.5368 - auc: 0.6045 - val_loss: 0.6618 - val_accuracy: 0.5788 - val_precision: 0.8868 - val_recall: 0.5654 - val_auc: 0.6371\n",
      "Epoch 24/150\n",
      "3199/3199 - 2s - loss: 0.6853 - accuracy: 0.5427 - precision: 0.8646 - recall: 0.5238 - auc: 0.6049 - val_loss: 0.6612 - val_accuracy: 0.6025 - val_precision: 0.8847 - val_recall: 0.6000 - val_auc: 0.6390\n",
      "Epoch 25/150\n",
      "3199/3199 - 2s - loss: 0.6837 - accuracy: 0.5686 - precision: 0.8627 - recall: 0.5631 - auc: 0.6100 - val_loss: 0.6616 - val_accuracy: 0.5663 - val_precision: 0.9015 - val_recall: 0.5368 - val_auc: 0.6411\n",
      "Epoch 26/150\n",
      "3199/3199 - 2s - loss: 0.6835 - accuracy: 0.5461 - precision: 0.8688 - recall: 0.5254 - auc: 0.6102 - val_loss: 0.6612 - val_accuracy: 0.5650 - val_precision: 0.9013 - val_recall: 0.5353 - val_auc: 0.6422\n",
      "Epoch 27/150\n",
      "3199/3199 - 2s - loss: 0.6837 - accuracy: 0.5633 - precision: 0.8682 - recall: 0.5506 - auc: 0.6122 - val_loss: 0.6606 - val_accuracy: 0.5863 - val_precision: 0.8957 - val_recall: 0.5684 - val_auc: 0.6412\n",
      "Epoch 28/150\n",
      "3199/3199 - 2s - loss: 0.6834 - accuracy: 0.5480 - precision: 0.8660 - recall: 0.5303 - auc: 0.6109 - val_loss: 0.6608 - val_accuracy: 0.5600 - val_precision: 0.9023 - val_recall: 0.5278 - val_auc: 0.6430\n",
      "Epoch 29/150\n",
      "3199/3199 - 2s - loss: 0.6827 - accuracy: 0.5886 - precision: 0.8676 - recall: 0.5876 - auc: 0.6174 - val_loss: 0.6610 - val_accuracy: 0.5325 - val_precision: 0.9030 - val_recall: 0.4902 - val_auc: 0.6463\n",
      "Epoch 30/150\n",
      "3199/3199 - 2s - loss: 0.6820 - accuracy: 0.5392 - precision: 0.8688 - recall: 0.5155 - auc: 0.6205 - val_loss: 0.6596 - val_accuracy: 0.5838 - val_precision: 0.8952 - val_recall: 0.5654 - val_auc: 0.6461\n",
      "Epoch 31/150\n",
      "3199/3199 - 2s - loss: 0.6826 - accuracy: 0.5777 - precision: 0.8662 - recall: 0.5731 - auc: 0.6134 - val_loss: 0.6606 - val_accuracy: 0.5300 - val_precision: 0.9117 - val_recall: 0.4812 - val_auc: 0.6496\n",
      "Epoch 32/150\n",
      "3199/3199 - 2s - loss: 0.6834 - accuracy: 0.5289 - precision: 0.8694 - recall: 0.5002 - auc: 0.6116 - val_loss: 0.6590 - val_accuracy: 0.5800 - val_precision: 0.8907 - val_recall: 0.5639 - val_auc: 0.6498\n",
      "Epoch 33/150\n",
      "3199/3199 - 2s - loss: 0.6826 - accuracy: 0.5708 - precision: 0.8599 - recall: 0.5689 - auc: 0.6140 - val_loss: 0.6599 - val_accuracy: 0.5425 - val_precision: 0.9074 - val_recall: 0.5008 - val_auc: 0.6524\n",
      "Epoch 34/150\n",
      "3199/3199 - 2s - loss: 0.6813 - accuracy: 0.5586 - precision: 0.8711 - recall: 0.5414 - auc: 0.6231 - val_loss: 0.6582 - val_accuracy: 0.6000 - val_precision: 0.8947 - val_recall: 0.5880 - val_auc: 0.6520\n",
      "Epoch 35/150\n",
      "3199/3199 - 2s - loss: 0.6815 - accuracy: 0.5614 - precision: 0.8700 - recall: 0.5464 - auc: 0.6203 - val_loss: 0.6579 - val_accuracy: 0.6037 - val_precision: 0.8919 - val_recall: 0.5955 - val_auc: 0.6518\n",
      "Epoch 36/150\n",
      "3199/3199 - 2s - loss: 0.6814 - accuracy: 0.5608 - precision: 0.8685 - recall: 0.5467 - auc: 0.6206 - val_loss: 0.6580 - val_accuracy: 0.5863 - val_precision: 0.8976 - val_recall: 0.5669 - val_auc: 0.6549\n",
      "Epoch 37/150\n",
      "3199/3199 - 2s - loss: 0.6808 - accuracy: 0.5733 - precision: 0.8703 - recall: 0.5631 - auc: 0.6227 - val_loss: 0.6578 - val_accuracy: 0.5888 - val_precision: 0.8981 - val_recall: 0.5699 - val_auc: 0.6555\n",
      "Epoch 38/150\n",
      "3199/3199 - 2s - loss: 0.6814 - accuracy: 0.5570 - precision: 0.8662 - recall: 0.5433 - auc: 0.6194 - val_loss: 0.6581 - val_accuracy: 0.5625 - val_precision: 0.9049 - val_recall: 0.5293 - val_auc: 0.6565\n"
     ]
    },
    {
     "name": "stdout",
     "output_type": "stream",
     "text": [
      "Epoch 39/150\n",
      "3199/3199 - 2s - loss: 0.6801 - accuracy: 0.5655 - precision: 0.8765 - recall: 0.5467 - auc: 0.6275 - val_loss: 0.6568 - val_accuracy: 0.6000 - val_precision: 0.8929 - val_recall: 0.5895 - val_auc: 0.6554\n",
      "Epoch 40/150\n",
      "3199/3199 - 2s - loss: 0.6797 - accuracy: 0.5711 - precision: 0.8724 - recall: 0.5582 - auc: 0.6256 - val_loss: 0.6563 - val_accuracy: 0.6175 - val_precision: 0.8928 - val_recall: 0.6135 - val_auc: 0.6573\n",
      "Epoch 41/150\n",
      "3199/3199 - 2s - loss: 0.6799 - accuracy: 0.5814 - precision: 0.8744 - recall: 0.5712 - auc: 0.6252 - val_loss: 0.6562 - val_accuracy: 0.6025 - val_precision: 0.8952 - val_recall: 0.5910 - val_auc: 0.6579\n",
      "Epoch 42/150\n",
      "3199/3199 - 2s - loss: 0.6789 - accuracy: 0.5633 - precision: 0.8682 - recall: 0.5506 - auc: 0.6275 - val_loss: 0.6564 - val_accuracy: 0.5863 - val_precision: 0.8957 - val_recall: 0.5684 - val_auc: 0.6599\n",
      "Epoch 43/150\n",
      "3199/3199 - 2s - loss: 0.6803 - accuracy: 0.5821 - precision: 0.8690 - recall: 0.5769 - auc: 0.6249 - val_loss: 0.6560 - val_accuracy: 0.5850 - val_precision: 0.8918 - val_recall: 0.5699 - val_auc: 0.6612\n",
      "Epoch 44/150\n",
      "3199/3199 - 2s - loss: 0.6794 - accuracy: 0.5777 - precision: 0.8709 - recall: 0.5689 - auc: 0.6275 - val_loss: 0.6560 - val_accuracy: 0.5788 - val_precision: 0.8942 - val_recall: 0.5594 - val_auc: 0.6615\n",
      "Epoch 45/150\n",
      "3199/3199 - 2s - loss: 0.6784 - accuracy: 0.5611 - precision: 0.8704 - recall: 0.5456 - auc: 0.6306 - val_loss: 0.6556 - val_accuracy: 0.5875 - val_precision: 0.8941 - val_recall: 0.5714 - val_auc: 0.6617\n",
      "Epoch 46/150\n",
      "3199/3199 - 2s - loss: 0.6798 - accuracy: 0.5677 - precision: 0.8733 - recall: 0.5525 - auc: 0.6247 - val_loss: 0.6556 - val_accuracy: 0.5738 - val_precision: 0.8913 - val_recall: 0.5549 - val_auc: 0.6633\n",
      "Epoch 47/150\n",
      "3199/3199 - 2s - loss: 0.6794 - accuracy: 0.5774 - precision: 0.8704 - recall: 0.5689 - auc: 0.6267 - val_loss: 0.6549 - val_accuracy: 0.6087 - val_precision: 0.8964 - val_recall: 0.5985 - val_auc: 0.6633\n",
      "Epoch 48/150\n",
      "3199/3199 - 2s - loss: 0.6776 - accuracy: 0.5939 - precision: 0.8760 - recall: 0.5876 - auc: 0.6354 - val_loss: 0.6551 - val_accuracy: 0.5825 - val_precision: 0.8931 - val_recall: 0.5654 - val_auc: 0.6638\n",
      "Epoch 49/150\n",
      "3199/3199 - 2s - loss: 0.6779 - accuracy: 0.5802 - precision: 0.8724 - recall: 0.5712 - auc: 0.6336 - val_loss: 0.6552 - val_accuracy: 0.5700 - val_precision: 0.9023 - val_recall: 0.5414 - val_auc: 0.6631\n",
      "Epoch 50/150\n",
      "3199/3199 - 2s - loss: 0.6784 - accuracy: 0.5683 - precision: 0.8771 - recall: 0.5502 - auc: 0.6300 - val_loss: 0.6544 - val_accuracy: 0.5950 - val_precision: 0.8938 - val_recall: 0.5820 - val_auc: 0.6637\n",
      "Epoch 51/150\n",
      "3199/3199 - 2s - loss: 0.6769 - accuracy: 0.5780 - precision: 0.8754 - recall: 0.5654 - auc: 0.6368 - val_loss: 0.6539 - val_accuracy: 0.6087 - val_precision: 0.8964 - val_recall: 0.5985 - val_auc: 0.6611\n",
      "Epoch 52/150\n",
      "3199/3199 - 2s - loss: 0.6777 - accuracy: 0.5633 - precision: 0.8778 - recall: 0.5425 - auc: 0.6294 - val_loss: 0.6536 - val_accuracy: 0.6150 - val_precision: 0.8958 - val_recall: 0.6075 - val_auc: 0.6629\n",
      "Epoch 53/150\n",
      "3199/3199 - 2s - loss: 0.6757 - accuracy: 0.5858 - precision: 0.8772 - recall: 0.5750 - auc: 0.6408 - val_loss: 0.6538 - val_accuracy: 0.5913 - val_precision: 0.8930 - val_recall: 0.5774 - val_auc: 0.6646\n",
      "Epoch 54/150\n",
      "3199/3199 - 2s - loss: 0.6766 - accuracy: 0.5955 - precision: 0.8725 - recall: 0.5929 - auc: 0.6376 - val_loss: 0.6540 - val_accuracy: 0.5713 - val_precision: 0.8966 - val_recall: 0.5474 - val_auc: 0.6657\n",
      "Epoch 55/150\n",
      "3199/3199 - 2s - loss: 0.6767 - accuracy: 0.5683 - precision: 0.8730 - recall: 0.5536 - auc: 0.6372 - val_loss: 0.6535 - val_accuracy: 0.5813 - val_precision: 0.8929 - val_recall: 0.5639 - val_auc: 0.6674\n",
      "Epoch 56/150\n",
      "3199/3199 - 2s - loss: 0.6766 - accuracy: 0.5964 - precision: 0.8761 - recall: 0.5910 - auc: 0.6395 - val_loss: 0.6533 - val_accuracy: 0.5863 - val_precision: 0.8957 - val_recall: 0.5684 - val_auc: 0.6665\n",
      "Epoch 57/150\n",
      "3199/3199 - 2s - loss: 0.6757 - accuracy: 0.5892 - precision: 0.8802 - recall: 0.5773 - auc: 0.6421 - val_loss: 0.6527 - val_accuracy: 0.6037 - val_precision: 0.8937 - val_recall: 0.5940 - val_auc: 0.6668\n",
      "Epoch 58/150\n",
      "3199/3199 - 2s - loss: 0.6761 - accuracy: 0.5736 - precision: 0.8704 - recall: 0.5635 - auc: 0.6356 - val_loss: 0.6528 - val_accuracy: 0.5913 - val_precision: 0.8967 - val_recall: 0.5744 - val_auc: 0.6684\n",
      "Epoch 59/150\n",
      "3199/3199 - 2s - loss: 0.6757 - accuracy: 0.5821 - precision: 0.8768 - recall: 0.5700 - auc: 0.6382 - val_loss: 0.6522 - val_accuracy: 0.6062 - val_precision: 0.8959 - val_recall: 0.5955 - val_auc: 0.6677\n",
      "Epoch 60/150\n",
      "3199/3199 - 2s - loss: 0.6757 - accuracy: 0.5680 - precision: 0.8775 - recall: 0.5494 - auc: 0.6393 - val_loss: 0.6519 - val_accuracy: 0.6125 - val_precision: 0.8971 - val_recall: 0.6030 - val_auc: 0.6703\n",
      "Epoch 61/150\n",
      "3199/3199 - 2s - loss: 0.6761 - accuracy: 0.5886 - precision: 0.8809 - recall: 0.5757 - auc: 0.6368 - val_loss: 0.6517 - val_accuracy: 0.6175 - val_precision: 0.8980 - val_recall: 0.6090 - val_auc: 0.6704\n",
      "Epoch 62/150\n",
      "3199/3199 - 2s - loss: 0.6740 - accuracy: 0.5733 - precision: 0.8825 - recall: 0.5528 - auc: 0.6458 - val_loss: 0.6511 - val_accuracy: 0.6363 - val_precision: 0.8962 - val_recall: 0.6361 - val_auc: 0.6715\n",
      "Epoch 63/150\n",
      "3199/3199 - 2s - loss: 0.6751 - accuracy: 0.6005 - precision: 0.8728 - recall: 0.5998 - auc: 0.6392 - val_loss: 0.6519 - val_accuracy: 0.5813 - val_precision: 0.8929 - val_recall: 0.5639 - val_auc: 0.6715\n",
      "Epoch 64/150\n",
      "3199/3199 - 2s - loss: 0.6744 - accuracy: 0.5989 - precision: 0.8700 - recall: 0.6002 - auc: 0.6400 - val_loss: 0.6526 - val_accuracy: 0.5575 - val_precision: 0.9039 - val_recall: 0.5233 - val_auc: 0.6718\n",
      "Epoch 65/150\n",
      "3199/3199 - 2s - loss: 0.6750 - accuracy: 0.5739 - precision: 0.8744 - recall: 0.5605 - auc: 0.6389 - val_loss: 0.6521 - val_accuracy: 0.5650 - val_precision: 0.9033 - val_recall: 0.5338 - val_auc: 0.6731\n",
      "Epoch 66/150\n",
      "3199/3199 - 2s - loss: 0.6760 - accuracy: 0.5749 - precision: 0.8782 - recall: 0.5586 - auc: 0.6379 - val_loss: 0.6511 - val_accuracy: 0.5975 - val_precision: 0.8961 - val_recall: 0.5835 - val_auc: 0.6741\n",
      "Epoch 67/150\n",
      "3199/3199 - 2s - loss: 0.6747 - accuracy: 0.5914 - precision: 0.8741 - recall: 0.5857 - auc: 0.6423 - val_loss: 0.6509 - val_accuracy: 0.5975 - val_precision: 0.8961 - val_recall: 0.5835 - val_auc: 0.6734\n",
      "Epoch 68/150\n",
      "3199/3199 - 2s - loss: 0.6746 - accuracy: 0.5636 - precision: 0.8845 - recall: 0.5376 - auc: 0.6437 - val_loss: 0.6498 - val_accuracy: 0.6288 - val_precision: 0.8966 - val_recall: 0.6256 - val_auc: 0.6752\n",
      "Epoch 69/150\n",
      "3199/3199 - 2s - loss: 0.6747 - accuracy: 0.6011 - precision: 0.8793 - recall: 0.5948 - auc: 0.6423 - val_loss: 0.6508 - val_accuracy: 0.5813 - val_precision: 0.8986 - val_recall: 0.5594 - val_auc: 0.6778\n",
      "Epoch 70/150\n",
      "3199/3199 - 2s - loss: 0.6741 - accuracy: 0.5786 - precision: 0.8809 - recall: 0.5616 - auc: 0.6428 - val_loss: 0.6501 - val_accuracy: 0.6037 - val_precision: 0.8991 - val_recall: 0.5895 - val_auc: 0.6779\n",
      "Epoch 71/150\n",
      "3199/3199 - 2s - loss: 0.6732 - accuracy: 0.5677 - precision: 0.8779 - recall: 0.5486 - auc: 0.6477 - val_loss: 0.6493 - val_accuracy: 0.6275 - val_precision: 0.8963 - val_recall: 0.6241 - val_auc: 0.6777\n",
      "Epoch 72/150\n",
      "3199/3199 - 2s - loss: 0.6747 - accuracy: 0.5992 - precision: 0.8810 - recall: 0.5906 - auc: 0.6409 - val_loss: 0.6490 - val_accuracy: 0.6425 - val_precision: 0.8956 - val_recall: 0.6451 - val_auc: 0.6781\n",
      "Epoch 73/150\n",
      "3199/3199 - 2s - loss: 0.6731 - accuracy: 0.6036 - precision: 0.8803 - recall: 0.5975 - auc: 0.6468 - val_loss: 0.6496 - val_accuracy: 0.6025 - val_precision: 0.8989 - val_recall: 0.5880 - val_auc: 0.6791\n",
      "Epoch 74/150\n",
      "3199/3199 - 2s - loss: 0.6727 - accuracy: 0.5939 - precision: 0.8773 - recall: 0.5864 - auc: 0.6467 - val_loss: 0.6494 - val_accuracy: 0.6050 - val_precision: 0.9011 - val_recall: 0.5895 - val_auc: 0.6784\n",
      "Epoch 75/150\n",
      "3199/3199 - 2s - loss: 0.6727 - accuracy: 0.5877 - precision: 0.8834 - recall: 0.5723 - auc: 0.6489 - val_loss: 0.6487 - val_accuracy: 0.6137 - val_precision: 0.8973 - val_recall: 0.6045 - val_auc: 0.6782\n",
      "Epoch 76/150\n",
      "3199/3199 - 2s - loss: 0.6720 - accuracy: 0.5802 - precision: 0.8840 - recall: 0.5612 - auc: 0.6486 - val_loss: 0.6481 - val_accuracy: 0.6375 - val_precision: 0.8964 - val_recall: 0.6376 - val_auc: 0.6794\n"
     ]
    },
    {
     "name": "stdout",
     "output_type": "stream",
     "text": [
      "Epoch 77/150\n",
      "3199/3199 - 2s - loss: 0.6732 - accuracy: 0.6111 - precision: 0.8732 - recall: 0.6147 - auc: 0.6442 - val_loss: 0.6490 - val_accuracy: 0.5900 - val_precision: 0.8983 - val_recall: 0.5714 - val_auc: 0.6799\n",
      "Epoch 78/150\n",
      "3199/3199 - 2s - loss: 0.6722 - accuracy: 0.5852 - precision: 0.8824 - recall: 0.5696 - auc: 0.6487 - val_loss: 0.6481 - val_accuracy: 0.6150 - val_precision: 0.8993 - val_recall: 0.6045 - val_auc: 0.6807\n",
      "Epoch 79/150\n",
      "3199/3199 - 2s - loss: 0.6714 - accuracy: 0.5814 - precision: 0.8757 - recall: 0.5700 - auc: 0.6519 - val_loss: 0.6481 - val_accuracy: 0.6112 - val_precision: 0.9005 - val_recall: 0.5985 - val_auc: 0.6815\n",
      "Epoch 80/150\n",
      "3199/3199 - 2s - loss: 0.6716 - accuracy: 0.5896 - precision: 0.8825 - recall: 0.5757 - auc: 0.6519 - val_loss: 0.6472 - val_accuracy: 0.6400 - val_precision: 0.8952 - val_recall: 0.6421 - val_auc: 0.6810\n",
      "Epoch 81/150\n",
      "3199/3199 - 2s - loss: 0.6707 - accuracy: 0.6108 - precision: 0.8789 - recall: 0.6089 - auc: 0.6523 - val_loss: 0.6483 - val_accuracy: 0.5863 - val_precision: 0.8995 - val_recall: 0.5654 - val_auc: 0.6818\n",
      "Epoch 82/150\n",
      "3199/3199 - 2s - loss: 0.6724 - accuracy: 0.5777 - precision: 0.8825 - recall: 0.5589 - auc: 0.6475 - val_loss: 0.6471 - val_accuracy: 0.6313 - val_precision: 0.8970 - val_recall: 0.6286 - val_auc: 0.6811\n",
      "Epoch 83/150\n",
      "3199/3199 - 2s - loss: 0.6713 - accuracy: 0.5952 - precision: 0.8806 - recall: 0.5853 - auc: 0.6497 - val_loss: 0.6469 - val_accuracy: 0.6212 - val_precision: 0.8969 - val_recall: 0.6150 - val_auc: 0.6821\n",
      "Epoch 84/150\n",
      "3199/3199 - 2s - loss: 0.6694 - accuracy: 0.6127 - precision: 0.8809 - recall: 0.6097 - auc: 0.6565 - val_loss: 0.6475 - val_accuracy: 0.6050 - val_precision: 0.8993 - val_recall: 0.5910 - val_auc: 0.6801\n",
      "Epoch 85/150\n",
      "3199/3199 - 2s - loss: 0.6696 - accuracy: 0.6108 - precision: 0.8789 - recall: 0.6089 - auc: 0.6556 - val_loss: 0.6484 - val_accuracy: 0.5663 - val_precision: 0.8995 - val_recall: 0.5383 - val_auc: 0.6799\n",
      "Epoch 86/150\n",
      "3199/3199 - 2s - loss: 0.6711 - accuracy: 0.5511 - precision: 0.8820 - recall: 0.5219 - auc: 0.6471 - val_loss: 0.6462 - val_accuracy: 0.6550 - val_precision: 0.8978 - val_recall: 0.6602 - val_auc: 0.6809\n",
      "Epoch 87/150\n",
      "3199/3199 - 2s - loss: 0.6698 - accuracy: 0.6068 - precision: 0.8801 - recall: 0.6021 - auc: 0.6547 - val_loss: 0.6467 - val_accuracy: 0.6187 - val_precision: 0.8982 - val_recall: 0.6105 - val_auc: 0.6803\n",
      "Epoch 88/150\n",
      "3199/3199 - 2s - loss: 0.6703 - accuracy: 0.5902 - precision: 0.8808 - recall: 0.5780 - auc: 0.6506 - val_loss: 0.6467 - val_accuracy: 0.6125 - val_precision: 0.9007 - val_recall: 0.6000 - val_auc: 0.6818\n",
      "Epoch 89/150\n",
      "3199/3199 - 2s - loss: 0.6686 - accuracy: 0.5889 - precision: 0.8792 - recall: 0.5776 - auc: 0.6555 - val_loss: 0.6459 - val_accuracy: 0.6400 - val_precision: 0.8935 - val_recall: 0.6436 - val_auc: 0.6812\n",
      "Epoch 90/150\n",
      "3199/3199 - 2s - loss: 0.6709 - accuracy: 0.6055 - precision: 0.8798 - recall: 0.6005 - auc: 0.6497 - val_loss: 0.6467 - val_accuracy: 0.5938 - val_precision: 0.8972 - val_recall: 0.5774 - val_auc: 0.6818\n",
      "Epoch 91/150\n",
      "3199/3199 - 2s - loss: 0.6689 - accuracy: 0.5864 - precision: 0.8845 - recall: 0.5696 - auc: 0.6565 - val_loss: 0.6456 - val_accuracy: 0.6388 - val_precision: 0.8983 - val_recall: 0.6376 - val_auc: 0.6825\n",
      "Epoch 92/150\n",
      "3199/3199 - 2s - loss: 0.6691 - accuracy: 0.6196 - precision: 0.8762 - recall: 0.6238 - auc: 0.6558 - val_loss: 0.6474 - val_accuracy: 0.5675 - val_precision: 0.8997 - val_recall: 0.5398 - val_auc: 0.6838\n",
      "Epoch 93/150\n",
      "3199/3199 - 2s - loss: 0.6690 - accuracy: 0.5924 - precision: 0.8800 - recall: 0.5818 - auc: 0.6546 - val_loss: 0.6457 - val_accuracy: 0.6162 - val_precision: 0.9013 - val_recall: 0.6045 - val_auc: 0.6828\n",
      "Epoch 94/150\n",
      "3199/3199 - 2s - loss: 0.6697 - accuracy: 0.5827 - precision: 0.8796 - recall: 0.5685 - auc: 0.6508 - val_loss: 0.6461 - val_accuracy: 0.5850 - val_precision: 0.8955 - val_recall: 0.5669 - val_auc: 0.6844\n",
      "Epoch 95/150\n",
      "3199/3199 - 2s - loss: 0.6691 - accuracy: 0.5846 - precision: 0.8827 - recall: 0.5685 - auc: 0.6521 - val_loss: 0.6456 - val_accuracy: 0.6012 - val_precision: 0.8986 - val_recall: 0.5865 - val_auc: 0.6848\n",
      "Epoch 96/150\n",
      "3199/3199 - 2s - loss: 0.6687 - accuracy: 0.5986 - precision: 0.8840 - recall: 0.5872 - auc: 0.6564 - val_loss: 0.6452 - val_accuracy: 0.6150 - val_precision: 0.8976 - val_recall: 0.6060 - val_auc: 0.6838\n",
      "Epoch 97/150\n",
      "3199/3199 - 2s - loss: 0.6694 - accuracy: 0.5889 - precision: 0.8775 - recall: 0.5792 - auc: 0.6537 - val_loss: 0.6448 - val_accuracy: 0.6300 - val_precision: 0.8985 - val_recall: 0.6256 - val_auc: 0.6841\n",
      "Epoch 98/150\n",
      "3199/3199 - 2s - loss: 0.6683 - accuracy: 0.6083 - precision: 0.8817 - recall: 0.6028 - auc: 0.6566 - val_loss: 0.6457 - val_accuracy: 0.5813 - val_precision: 0.8966 - val_recall: 0.5609 - val_auc: 0.6861\n",
      "Epoch 99/150\n",
      "3199/3199 - 2s - loss: 0.6694 - accuracy: 0.5971 - precision: 0.8863 - recall: 0.5830 - auc: 0.6557 - val_loss: 0.6456 - val_accuracy: 0.5738 - val_precision: 0.8971 - val_recall: 0.5504 - val_auc: 0.6880\n",
      "Epoch 100/150\n",
      "3199/3199 - 2s - loss: 0.6679 - accuracy: 0.5952 - precision: 0.8841 - recall: 0.5822 - auc: 0.6590 - val_loss: 0.6446 - val_accuracy: 0.6075 - val_precision: 0.8944 - val_recall: 0.5985 - val_auc: 0.6886\n",
      "Epoch 101/150\n",
      "3199/3199 - 2s - loss: 0.6685 - accuracy: 0.6024 - precision: 0.8809 - recall: 0.5952 - auc: 0.6562 - val_loss: 0.6453 - val_accuracy: 0.5725 - val_precision: 0.8968 - val_recall: 0.5489 - val_auc: 0.6874\n",
      "Epoch 102/150\n",
      "3199/3199 - 2s - loss: 0.6673 - accuracy: 0.5892 - precision: 0.8833 - recall: 0.5746 - auc: 0.6582 - val_loss: 0.6445 - val_accuracy: 0.5962 - val_precision: 0.8995 - val_recall: 0.5789 - val_auc: 0.6882\n",
      "Epoch 103/150\n",
      "3199/3199 - 2s - loss: 0.6675 - accuracy: 0.6058 - precision: 0.8842 - recall: 0.5971 - auc: 0.6607 - val_loss: 0.6438 - val_accuracy: 0.6313 - val_precision: 0.8987 - val_recall: 0.6271 - val_auc: 0.6872\n",
      "Epoch 104/150\n",
      "3199/3199 - 2s - loss: 0.6658 - accuracy: 0.6008 - precision: 0.8827 - recall: 0.5914 - auc: 0.6643 - val_loss: 0.6441 - val_accuracy: 0.6012 - val_precision: 0.8986 - val_recall: 0.5865 - val_auc: 0.6873\n",
      "Epoch 105/150\n",
      "3199/3199 - 2s - loss: 0.6672 - accuracy: 0.5911 - precision: 0.8828 - recall: 0.5776 - auc: 0.6588 - val_loss: 0.6433 - val_accuracy: 0.6237 - val_precision: 0.8974 - val_recall: 0.6180 - val_auc: 0.6871\n",
      "Epoch 106/150\n",
      "3199/3199 - 2s - loss: 0.6665 - accuracy: 0.5914 - precision: 0.8820 - recall: 0.5788 - auc: 0.6618 - val_loss: 0.6427 - val_accuracy: 0.6463 - val_precision: 0.8996 - val_recall: 0.6466 - val_auc: 0.6889\n",
      "Epoch 107/150\n",
      "3199/3199 - 2s - loss: 0.6663 - accuracy: 0.6155 - precision: 0.8862 - recall: 0.6089 - auc: 0.6628 - val_loss: 0.6445 - val_accuracy: 0.5700 - val_precision: 0.8983 - val_recall: 0.5444 - val_auc: 0.6895\n",
      "Epoch 108/150\n",
      "3199/3199 - 2s - loss: 0.6683 - accuracy: 0.5858 - precision: 0.8825 - recall: 0.5704 - auc: 0.6545 - val_loss: 0.6426 - val_accuracy: 0.6275 - val_precision: 0.8980 - val_recall: 0.6226 - val_auc: 0.6895\n",
      "Epoch 109/150\n",
      "3199/3199 - 2s - loss: 0.6667 - accuracy: 0.6080 - precision: 0.8829 - recall: 0.6013 - auc: 0.6598 - val_loss: 0.6444 - val_accuracy: 0.5650 - val_precision: 0.9033 - val_recall: 0.5338 - val_auc: 0.6912\n",
      "Epoch 110/150\n",
      "3199/3199 - 2s - loss: 0.6671 - accuracy: 0.6083 - precision: 0.8813 - recall: 0.6032 - auc: 0.6575 - val_loss: 0.6429 - val_accuracy: 0.6037 - val_precision: 0.8973 - val_recall: 0.5910 - val_auc: 0.6909\n",
      "Epoch 111/150\n",
      "3199/3199 - 2s - loss: 0.6653 - accuracy: 0.5952 - precision: 0.8859 - recall: 0.5807 - auc: 0.6634 - val_loss: 0.6426 - val_accuracy: 0.5987 - val_precision: 0.8945 - val_recall: 0.5865 - val_auc: 0.6926\n",
      "Epoch 112/150\n",
      "3199/3199 - 2s - loss: 0.6655 - accuracy: 0.6105 - precision: 0.8796 - recall: 0.6078 - auc: 0.6611 - val_loss: 0.6417 - val_accuracy: 0.6488 - val_precision: 0.8983 - val_recall: 0.6511 - val_auc: 0.6892\n",
      "Epoch 113/150\n",
      "3199/3199 - 2s - loss: 0.6667 - accuracy: 0.5902 - precision: 0.8791 - recall: 0.5795 - auc: 0.6580 - val_loss: 0.6413 - val_accuracy: 0.6575 - val_precision: 0.8998 - val_recall: 0.6617 - val_auc: 0.6906\n",
      "Epoch 114/150\n",
      "3199/3199 - 2s - loss: 0.6635 - accuracy: 0.6227 - precision: 0.8855 - recall: 0.6196 - auc: 0.6667 - val_loss: 0.6431 - val_accuracy: 0.5713 - val_precision: 0.8985 - val_recall: 0.5459 - val_auc: 0.6916\n"
     ]
    },
    {
     "name": "stdout",
     "output_type": "stream",
     "text": [
      "Epoch 115/150\n",
      "3199/3199 - 2s - loss: 0.6657 - accuracy: 0.6036 - precision: 0.8833 - recall: 0.5948 - auc: 0.6610 - val_loss: 0.6431 - val_accuracy: 0.5688 - val_precision: 0.9020 - val_recall: 0.5398 - val_auc: 0.6931\n",
      "Epoch 116/150\n",
      "3199/3199 - 2s - loss: 0.6620 - accuracy: 0.5833 - precision: 0.8884 - recall: 0.5620 - auc: 0.6756 - val_loss: 0.6404 - val_accuracy: 0.6837 - val_precision: 0.9039 - val_recall: 0.6932 - val_auc: 0.6922\n",
      "Epoch 117/150\n",
      "3199/3199 - 2s - loss: 0.6652 - accuracy: 0.6071 - precision: 0.8814 - recall: 0.6013 - auc: 0.6603 - val_loss: 0.6415 - val_accuracy: 0.6012 - val_precision: 0.8968 - val_recall: 0.5880 - val_auc: 0.6935\n",
      "Epoch 118/150\n",
      "3199/3199 - 2s - loss: 0.6647 - accuracy: 0.6068 - precision: 0.8883 - recall: 0.5948 - auc: 0.6658 - val_loss: 0.6406 - val_accuracy: 0.6687 - val_precision: 0.9016 - val_recall: 0.6752 - val_auc: 0.6919\n",
      "Epoch 119/150\n",
      "3199/3199 - 2s - loss: 0.6646 - accuracy: 0.5999 - precision: 0.8786 - recall: 0.5937 - auc: 0.6610 - val_loss: 0.6415 - val_accuracy: 0.6025 - val_precision: 0.8989 - val_recall: 0.5880 - val_auc: 0.6927\n",
      "Epoch 120/150\n",
      "3199/3199 - 2s - loss: 0.6652 - accuracy: 0.6064 - precision: 0.8896 - recall: 0.5933 - auc: 0.6628 - val_loss: 0.6406 - val_accuracy: 0.6313 - val_precision: 0.8970 - val_recall: 0.6286 - val_auc: 0.6918\n",
      "Epoch 121/150\n",
      "3199/3199 - 2s - loss: 0.6638 - accuracy: 0.6052 - precision: 0.8832 - recall: 0.5971 - auc: 0.6635 - val_loss: 0.6416 - val_accuracy: 0.5938 - val_precision: 0.8972 - val_recall: 0.5774 - val_auc: 0.6910\n",
      "Epoch 122/150\n",
      "3199/3199 - 2s - loss: 0.6629 - accuracy: 0.6268 - precision: 0.8867 - recall: 0.6242 - auc: 0.6709 - val_loss: 0.6435 - val_accuracy: 0.5550 - val_precision: 0.9055 - val_recall: 0.5188 - val_auc: 0.6924\n",
      "Epoch 123/150\n",
      "3199/3199 - 2s - loss: 0.6645 - accuracy: 0.5902 - precision: 0.8876 - recall: 0.5723 - auc: 0.6639 - val_loss: 0.6409 - val_accuracy: 0.6012 - val_precision: 0.8986 - val_recall: 0.5865 - val_auc: 0.6935\n",
      "Epoch 124/150\n",
      "3199/3199 - 2s - loss: 0.6635 - accuracy: 0.6146 - precision: 0.8868 - recall: 0.6070 - auc: 0.6667 - val_loss: 0.6410 - val_accuracy: 0.5913 - val_precision: 0.8967 - val_recall: 0.5744 - val_auc: 0.6929\n",
      "Epoch 125/150\n",
      "3199/3199 - 2s - loss: 0.6643 - accuracy: 0.6058 - precision: 0.8803 - recall: 0.6005 - auc: 0.6626 - val_loss: 0.6403 - val_accuracy: 0.6137 - val_precision: 0.8991 - val_recall: 0.6030 - val_auc: 0.6931\n",
      "Epoch 126/150\n",
      "3199/3199 - 2s - loss: 0.6646 - accuracy: 0.5967 - precision: 0.8831 - recall: 0.5853 - auc: 0.6613 - val_loss: 0.6414 - val_accuracy: 0.5788 - val_precision: 0.9020 - val_recall: 0.5534 - val_auc: 0.6945\n",
      "Epoch 127/150\n",
      "3199/3199 - 2s - loss: 0.6628 - accuracy: 0.6177 - precision: 0.8853 - recall: 0.6127 - auc: 0.6666 - val_loss: 0.6408 - val_accuracy: 0.5913 - val_precision: 0.8986 - val_recall: 0.5729 - val_auc: 0.6936\n",
      "Epoch 128/150\n",
      "3199/3199 - 2s - loss: 0.6634 - accuracy: 0.5974 - precision: 0.8864 - recall: 0.5834 - auc: 0.6664 - val_loss: 0.6397 - val_accuracy: 0.6087 - val_precision: 0.8982 - val_recall: 0.5970 - val_auc: 0.6952\n",
      "Epoch 129/150\n",
      "3199/3199 - 2s - loss: 0.6609 - accuracy: 0.6102 - precision: 0.8838 - recall: 0.6036 - auc: 0.6718 - val_loss: 0.6401 - val_accuracy: 0.5925 - val_precision: 0.8970 - val_recall: 0.5759 - val_auc: 0.6952\n",
      "Epoch 130/150\n",
      "3199/3199 - 2s - loss: 0.6600 - accuracy: 0.6086 - precision: 0.8878 - recall: 0.5979 - auc: 0.6737 - val_loss: 0.6409 - val_accuracy: 0.5788 - val_precision: 0.9039 - val_recall: 0.5519 - val_auc: 0.6947\n",
      "Epoch 131/150\n",
      "3199/3199 - 2s - loss: 0.6647 - accuracy: 0.6027 - precision: 0.8835 - recall: 0.5933 - auc: 0.6642 - val_loss: 0.6393 - val_accuracy: 0.6100 - val_precision: 0.8984 - val_recall: 0.5985 - val_auc: 0.6954\n",
      "Epoch 132/150\n",
      "3199/3199 - 2s - loss: 0.6640 - accuracy: 0.5902 - precision: 0.8871 - recall: 0.5727 - auc: 0.6630 - val_loss: 0.6382 - val_accuracy: 0.6862 - val_precision: 0.9027 - val_recall: 0.6977 - val_auc: 0.6949\n",
      "Epoch 133/150\n",
      "3199/3199 - 2s - loss: 0.6629 - accuracy: 0.6143 - precision: 0.8800 - recall: 0.6127 - auc: 0.6641 - val_loss: 0.6395 - val_accuracy: 0.6062 - val_precision: 0.8977 - val_recall: 0.5940 - val_auc: 0.6948\n",
      "Epoch 134/150\n",
      "3199/3199 - 2s - loss: 0.6627 - accuracy: 0.5967 - precision: 0.8880 - recall: 0.5811 - auc: 0.6667 - val_loss: 0.6387 - val_accuracy: 0.6212 - val_precision: 0.8952 - val_recall: 0.6165 - val_auc: 0.6964\n",
      "Epoch 135/150\n",
      "3199/3199 - 2s - loss: 0.6632 - accuracy: 0.6105 - precision: 0.8843 - recall: 0.6036 - auc: 0.6642 - val_loss: 0.6387 - val_accuracy: 0.6263 - val_precision: 0.8944 - val_recall: 0.6241 - val_auc: 0.6951\n",
      "Epoch 136/150\n",
      "3199/3199 - 2s - loss: 0.6625 - accuracy: 0.6161 - precision: 0.8850 - recall: 0.6108 - auc: 0.6666 - val_loss: 0.6404 - val_accuracy: 0.5800 - val_precision: 0.9062 - val_recall: 0.5519 - val_auc: 0.6969\n",
      "Epoch 137/150\n",
      "3199/3199 - 2s - loss: 0.6630 - accuracy: 0.5905 - precision: 0.8867 - recall: 0.5734 - auc: 0.6645 - val_loss: 0.6379 - val_accuracy: 0.6712 - val_precision: 0.9020 - val_recall: 0.6782 - val_auc: 0.6970\n",
      "Epoch 138/150\n",
      "3199/3199 - 2s - loss: 0.6626 - accuracy: 0.6133 - precision: 0.8794 - recall: 0.6120 - auc: 0.6652 - val_loss: 0.6380 - val_accuracy: 0.6300 - val_precision: 0.8968 - val_recall: 0.6271 - val_auc: 0.6971\n",
      "Epoch 139/150\n",
      "3199/3199 - 2s - loss: 0.6614 - accuracy: 0.6211 - precision: 0.8890 - recall: 0.6143 - auc: 0.6698 - val_loss: 0.6397 - val_accuracy: 0.5863 - val_precision: 0.9053 - val_recall: 0.5609 - val_auc: 0.6967\n",
      "Epoch 140/150\n",
      "3199/3199 - 2s - loss: 0.6619 - accuracy: 0.5899 - precision: 0.8825 - recall: 0.5761 - auc: 0.6680 - val_loss: 0.6379 - val_accuracy: 0.6300 - val_precision: 0.8951 - val_recall: 0.6286 - val_auc: 0.6975\n",
      "Epoch 141/150\n",
      "3199/3199 - 2s - loss: 0.6613 - accuracy: 0.6064 - precision: 0.8834 - recall: 0.5986 - auc: 0.6680 - val_loss: 0.6376 - val_accuracy: 0.6438 - val_precision: 0.8975 - val_recall: 0.6451 - val_auc: 0.6968\n",
      "Epoch 142/150\n",
      "3199/3199 - 2s - loss: 0.6617 - accuracy: 0.6139 - precision: 0.8859 - recall: 0.6070 - auc: 0.6695 - val_loss: 0.6377 - val_accuracy: 0.6388 - val_precision: 0.8966 - val_recall: 0.6391 - val_auc: 0.6964\n",
      "Epoch 143/150\n",
      "3199/3199 - 2s - loss: 0.6594 - accuracy: 0.5921 - precision: 0.8857 - recall: 0.5765 - auc: 0.6726 - val_loss: 0.6374 - val_accuracy: 0.6275 - val_precision: 0.8980 - val_recall: 0.6226 - val_auc: 0.6981\n",
      "Epoch 144/150\n",
      "3199/3199 - 2s - loss: 0.6610 - accuracy: 0.6080 - precision: 0.8873 - recall: 0.5975 - auc: 0.6685 - val_loss: 0.6379 - val_accuracy: 0.6050 - val_precision: 0.9011 - val_recall: 0.5895 - val_auc: 0.6990\n",
      "Epoch 145/150\n",
      "3199/3199 - 2s - loss: 0.6622 - accuracy: 0.6155 - precision: 0.8828 - recall: 0.6120 - auc: 0.6700 - val_loss: 0.6376 - val_accuracy: 0.6187 - val_precision: 0.8965 - val_recall: 0.6120 - val_auc: 0.6974\n",
      "Epoch 146/150\n",
      "3199/3199 - 2s - loss: 0.6611 - accuracy: 0.5992 - precision: 0.8837 - recall: 0.5883 - auc: 0.6688 - val_loss: 0.6376 - val_accuracy: 0.6150 - val_precision: 0.9011 - val_recall: 0.6030 - val_auc: 0.6979\n",
      "Epoch 147/150\n",
      "3199/3199 - 2s - loss: 0.6611 - accuracy: 0.6089 - precision: 0.8831 - recall: 0.6024 - auc: 0.6677 - val_loss: 0.6376 - val_accuracy: 0.6187 - val_precision: 0.8965 - val_recall: 0.6120 - val_auc: 0.6967\n",
      "Epoch 148/150\n",
      "3199/3199 - 2s - loss: 0.6602 - accuracy: 0.6093 - precision: 0.8879 - recall: 0.5986 - auc: 0.6701 - val_loss: 0.6378 - val_accuracy: 0.6075 - val_precision: 0.8998 - val_recall: 0.5940 - val_auc: 0.6979\n",
      "Epoch 149/150\n",
      "3199/3199 - 2s - loss: 0.6602 - accuracy: 0.6052 - precision: 0.8815 - recall: 0.5986 - auc: 0.6722 - val_loss: 0.6378 - val_accuracy: 0.5975 - val_precision: 0.8998 - val_recall: 0.5805 - val_auc: 0.6978\n",
      "Epoch 150/150\n",
      "3199/3199 - 2s - loss: 0.6601 - accuracy: 0.6133 - precision: 0.8840 - recall: 0.6078 - auc: 0.6714 - val_loss: 0.6377 - val_accuracy: 0.6025 - val_precision: 0.8970 - val_recall: 0.5895 - val_auc: 0.6965\n"
     ]
    },
    {
     "data": {
      "text/plain": [
       "SmilePredictor(activation='relu', batch_size=16,\n",
       "               class_weight={0: 2.81, 1: 0.61}, epochs=150,\n",
       "               loss='binary_crossentropy', max_length=74,\n",
       "               metrics=[<tensorflow.python.keras.metrics.BinaryAccuracy object at 0x000002076795C940>,\n",
       "                        <tensorflow.python.keras.metrics.Precision object at 0x000002076795CF60>,\n",
       "                        <tensorflow.python.keras.metrics.Recall object at 0x000002076797A2B0>,\n",
       "                        <tensorflow.python.keras.metrics.AUC object at 0x000002076797A8D0>],\n",
       "               optimizer=<tensorflow.python.keras.optimizer_v2.gradient_descent.SGD object at 0x00000207710DA978>,\n",
       "               validation_split=0.2)"
      ]
     },
     "execution_count": 13,
     "metadata": {},
     "output_type": "execute_result"
    }
   ],
   "source": [
    "clf2.fit(X_train, y_train)"
   ]
  },
  {
   "cell_type": "code",
   "execution_count": 14,
   "metadata": {},
   "outputs": [
    {
     "data": {
      "image/png": "[encoded data removed]",
      "text/plain": [
       "<Figure size 432x288 with 4 Axes>"
      ]
     },
     "metadata": {
      "needs_background": "light"
     },
     "output_type": "display_data"
    }
   ],
   "source": [
    "# Evaluation\n",
    "\n",
    "plot_metrics(clf2.history)"
   ]
  },
  {
   "cell_type": "code",
   "execution_count": 15,
   "metadata": {},
   "outputs": [
    {
     "name": "stdout",
     "output_type": "stream",
     "text": [
      "              precision    recall  f1-score   support\n",
      "\n",
      "           0       0.23      0.59      0.33       178\n",
      "           1       0.86      0.57      0.68       822\n",
      "\n",
      "    accuracy                           0.57      1000\n",
      "   macro avg       0.55      0.58      0.51      1000\n",
      "weighted avg       0.75      0.57      0.62      1000\n",
      "\n"
     ]
    },
    {
     "data": {
      "image/png": "[encoded data removed]",
      "text/plain": [
       "<Figure size 360x360 with 2 Axes>"
      ]
     },
     "metadata": {
      "needs_background": "light"
     },
     "output_type": "display_data"
    }
   ],
   "source": [
    "test_pred = clf2.predict(X_test)\n",
    "plot_cm(y_test, test_pred)\n",
    "plt.show()"
   ]
  },
  {
   "cell_type": "code",
   "execution_count": 16,
   "metadata": {},
   "outputs": [
    {
     "name": "stdout",
     "output_type": "stream",
     "text": [
      "smile property prediction: P1=[[1]]\n"
     ]
    }
   ],
   "source": [
    "# Precict \n",
    "smile = 'Cc1cccc(N2CCN(C(=O)C34CC5CC(CC(C5)C3)C4)CC2)c1C'\n",
    "print(f\"smile property prediction: P1={clf2.predict(smile)}\")"
   ]
  },
  {
   "cell_type": "markdown",
   "metadata": {},
   "source": [
    "# Model3"
   ]
  },
  {
   "cell_type": "code",
   "execution_count": 19,
   "metadata": {},
   "outputs": [],
   "source": [
    "X_train, X_test, y_train, y_test = fetch_multi_label_data(\n",
    "    get_extracted_features=True)"
   ]
  },
  {
   "cell_type": "markdown",
   "metadata": {},
   "source": [
    "#### We should claculate  class_weight for all the P1, P2, ..., P9 and pass it to the model to get better results. "
   ]
  },
  {
   "cell_type": "code",
   "execution_count": 20,
   "metadata": {},
   "outputs": [],
   "source": [
    "clf3 = FeatureExtractedClassifier(epochs=100,\n",
    "                                 batch_size=16,\n",
    "                                 metrics=METRICS,\n",
    "                                 loss='binary_crossentropy',\n",
    "                                 output_activation='sigmoid',\n",
    "                                 optimizer=tf.keras.optimizers.Adam(lr=1e-5),\n",
    "                                 # class_weight=class_weight,\n",
    "                                 is_multi_label=True\n",
    "                                 )"
   ]
  },
  {
   "cell_type": "code",
   "execution_count": 21,
   "metadata": {
    "scrolled": true
   },
   "outputs": [
    {
     "name": "stdout",
     "output_type": "stream",
     "text": [
      "Train on 3199 samples, validate on 800 samples\n",
      "Epoch 1/100\n",
      "3199/3199 - 3s - loss: 0.8889 - accuracy: 0.4940 - precision: 0.8320 - recall: 0.4940 - auc: 0.4871 - val_loss: 0.6961 - val_accuracy: 0.4935 - val_precision: 0.8294 - val_recall: 0.4930 - val_auc: 0.4912\n",
      "Epoch 2/100\n",
      "3199/3199 - 1s - loss: 0.8628 - accuracy: 0.4985 - precision: 0.8349 - recall: 0.4981 - auc: 0.5018 - val_loss: 0.7128 - val_accuracy: 0.4832 - val_precision: 0.8299 - val_recall: 0.4770 - val_auc: 0.4924\n",
      "Epoch 3/100\n",
      "3199/3199 - 1s - loss: 0.8413 - accuracy: 0.5001 - precision: 0.8367 - recall: 0.4989 - auc: 0.5020 - val_loss: 0.7312 - val_accuracy: 0.4818 - val_precision: 0.8313 - val_recall: 0.4736 - val_auc: 0.4953\n",
      "Epoch 4/100\n",
      "3199/3199 - 1s - loss: 0.8292 - accuracy: 0.4988 - precision: 0.8331 - recall: 0.5001 - auc: 0.4976 - val_loss: 0.7313 - val_accuracy: 0.4860 - val_precision: 0.8347 - val_recall: 0.4770 - val_auc: 0.4970\n",
      "Epoch 5/100\n",
      "3199/3199 - 1s - loss: 0.8129 - accuracy: 0.5003 - precision: 0.8334 - recall: 0.5022 - auc: 0.4978 - val_loss: 0.7274 - val_accuracy: 0.4876 - val_precision: 0.8349 - val_recall: 0.4793 - val_auc: 0.4970\n",
      "Epoch 6/100\n",
      "3199/3199 - 1s - loss: 0.7964 - accuracy: 0.5054 - precision: 0.8358 - recall: 0.5076 - auc: 0.4996 - val_loss: 0.7222 - val_accuracy: 0.4844 - val_precision: 0.8267 - val_recall: 0.4816 - val_auc: 0.4974\n",
      "Epoch 7/100\n",
      "3199/3199 - 1s - loss: 0.7831 - accuracy: 0.5068 - precision: 0.8366 - recall: 0.5090 - auc: 0.5051 - val_loss: 0.7154 - val_accuracy: 0.4903 - val_precision: 0.8281 - val_recall: 0.4893 - val_auc: 0.4975\n",
      "Epoch 8/100\n",
      "3199/3199 - 1s - loss: 0.7756 - accuracy: 0.5136 - precision: 0.8376 - recall: 0.5182 - auc: 0.5037 - val_loss: 0.7108 - val_accuracy: 0.4940 - val_precision: 0.8294 - val_recall: 0.4938 - val_auc: 0.4972\n",
      "Epoch 9/100\n",
      "3199/3199 - 1s - loss: 0.7656 - accuracy: 0.5127 - precision: 0.8349 - recall: 0.5194 - auc: 0.4981 - val_loss: 0.7071 - val_accuracy: 0.4999 - val_precision: 0.8317 - val_recall: 0.5005 - val_auc: 0.4982\n",
      "Epoch 10/100\n",
      "3199/3199 - 1s - loss: 0.7575 - accuracy: 0.5156 - precision: 0.8384 - recall: 0.5204 - auc: 0.5060 - val_loss: 0.7073 - val_accuracy: 0.4954 - val_precision: 0.8310 - val_recall: 0.4945 - val_auc: 0.4975\n",
      "Epoch 11/100\n",
      "3199/3199 - 1s - loss: 0.7543 - accuracy: 0.5144 - precision: 0.8359 - recall: 0.5209 - auc: 0.5019 - val_loss: 0.7029 - val_accuracy: 0.5019 - val_precision: 0.8315 - val_recall: 0.5038 - val_auc: 0.4990\n",
      "Epoch 12/100\n",
      "3199/3199 - 1s - loss: 0.7428 - accuracy: 0.5230 - precision: 0.8392 - recall: 0.5305 - auc: 0.5097 - val_loss: 0.7009 - val_accuracy: 0.5101 - val_precision: 0.8346 - val_recall: 0.5133 - val_auc: 0.4994\n",
      "Epoch 13/100\n",
      "3199/3199 - 1s - loss: 0.7400 - accuracy: 0.5229 - precision: 0.8362 - recall: 0.5333 - auc: 0.5043 - val_loss: 0.7003 - val_accuracy: 0.5065 - val_precision: 0.8332 - val_recall: 0.5092 - val_auc: 0.4988\n",
      "Epoch 14/100\n",
      "3199/3199 - 1s - loss: 0.7333 - accuracy: 0.5311 - precision: 0.8399 - recall: 0.5419 - auc: 0.5152 - val_loss: 0.6972 - val_accuracy: 0.5129 - val_precision: 0.8342 - val_recall: 0.5179 - val_auc: 0.4995\n",
      "Epoch 15/100\n",
      "3199/3199 - 1s - loss: 0.7308 - accuracy: 0.5319 - precision: 0.8355 - recall: 0.5473 - auc: 0.5033 - val_loss: 0.6948 - val_accuracy: 0.5136 - val_precision: 0.8300 - val_recall: 0.5229 - val_auc: 0.4982\n",
      "Epoch 16/100\n",
      "3199/3199 - 1s - loss: 0.7294 - accuracy: 0.5361 - precision: 0.8329 - recall: 0.5562 - auc: 0.4973 - val_loss: 0.6929 - val_accuracy: 0.5183 - val_precision: 0.8287 - val_recall: 0.5312 - val_auc: 0.4957\n",
      "Epoch 17/100\n",
      "3199/3199 - 1s - loss: 0.7222 - accuracy: 0.5447 - precision: 0.8375 - recall: 0.5644 - auc: 0.5002 - val_loss: 0.6882 - val_accuracy: 0.5300 - val_precision: 0.8299 - val_recall: 0.5477 - val_auc: 0.4944\n",
      "Epoch 18/100\n",
      "3199/3199 - 1s - loss: 0.7149 - accuracy: 0.5514 - precision: 0.8365 - recall: 0.5754 - auc: 0.5029 - val_loss: 0.6852 - val_accuracy: 0.5424 - val_precision: 0.8286 - val_recall: 0.5677 - val_auc: 0.4940\n",
      "Epoch 19/100\n",
      "3199/3199 - 1s - loss: 0.7089 - accuracy: 0.5566 - precision: 0.8367 - recall: 0.5829 - auc: 0.5077 - val_loss: 0.6831 - val_accuracy: 0.5517 - val_precision: 0.8302 - val_recall: 0.5801 - val_auc: 0.4946\n",
      "Epoch 20/100\n",
      "3199/3199 - 1s - loss: 0.7059 - accuracy: 0.5660 - precision: 0.8349 - recall: 0.5988 - auc: 0.5039 - val_loss: 0.6811 - val_accuracy: 0.5624 - val_precision: 0.8299 - val_recall: 0.5966 - val_auc: 0.4957\n",
      "Epoch 21/100\n",
      "3199/3199 - 1s - loss: 0.7009 - accuracy: 0.5749 - precision: 0.8414 - recall: 0.6051 - auc: 0.5174 - val_loss: 0.6804 - val_accuracy: 0.5615 - val_precision: 0.8292 - val_recall: 0.5961 - val_auc: 0.4961\n",
      "Epoch 22/100\n",
      "3199/3199 - 1s - loss: 0.7011 - accuracy: 0.5719 - precision: 0.8364 - recall: 0.6061 - auc: 0.5079 - val_loss: 0.6781 - val_accuracy: 0.5764 - val_precision: 0.8296 - val_recall: 0.6181 - val_auc: 0.4966\n",
      "Epoch 23/100\n",
      "3199/3199 - 1s - loss: 0.6974 - accuracy: 0.5829 - precision: 0.8390 - recall: 0.6196 - auc: 0.5120 - val_loss: 0.6773 - val_accuracy: 0.5868 - val_precision: 0.8301 - val_recall: 0.6333 - val_auc: 0.4967\n",
      "Epoch 24/100\n",
      "3199/3199 - 1s - loss: 0.6976 - accuracy: 0.5829 - precision: 0.8369 - recall: 0.6219 - auc: 0.5088 - val_loss: 0.6753 - val_accuracy: 0.5921 - val_precision: 0.8303 - val_recall: 0.6410 - val_auc: 0.4972\n",
      "Epoch 25/100\n",
      "3199/3199 - 1s - loss: 0.6955 - accuracy: 0.5821 - precision: 0.8364 - recall: 0.6212 - auc: 0.5100 - val_loss: 0.6745 - val_accuracy: 0.5979 - val_precision: 0.8307 - val_recall: 0.6493 - val_auc: 0.4983\n",
      "Epoch 26/100\n",
      "3199/3199 - 1s - loss: 0.6959 - accuracy: 0.5887 - precision: 0.8360 - recall: 0.6315 - auc: 0.5022 - val_loss: 0.6737 - val_accuracy: 0.6031 - val_precision: 0.8312 - val_recall: 0.6565 - val_auc: 0.4991\n",
      "Epoch 27/100\n",
      "3199/3199 - 1s - loss: 0.6930 - accuracy: 0.5897 - precision: 0.8357 - recall: 0.6334 - auc: 0.5071 - val_loss: 0.6707 - val_accuracy: 0.6162 - val_precision: 0.8314 - val_recall: 0.6762 - val_auc: 0.5001\n",
      "Epoch 28/100\n",
      "3199/3199 - 1s - loss: 0.6906 - accuracy: 0.5974 - precision: 0.8361 - recall: 0.6443 - auc: 0.5072 - val_loss: 0.6701 - val_accuracy: 0.6196 - val_precision: 0.8323 - val_recall: 0.6800 - val_auc: 0.4995\n",
      "Epoch 29/100\n",
      "3199/3199 - 1s - loss: 0.6871 - accuracy: 0.6012 - precision: 0.8375 - recall: 0.6483 - auc: 0.5165 - val_loss: 0.6691 - val_accuracy: 0.6232 - val_precision: 0.8327 - val_recall: 0.6850 - val_auc: 0.5003\n",
      "Epoch 30/100\n",
      "3199/3199 - 1s - loss: 0.6873 - accuracy: 0.6011 - precision: 0.8370 - recall: 0.6488 - auc: 0.5103 - val_loss: 0.6685 - val_accuracy: 0.6290 - val_precision: 0.8316 - val_recall: 0.6952 - val_auc: 0.5008\n",
      "Epoch 31/100\n",
      "3199/3199 - 1s - loss: 0.6854 - accuracy: 0.6102 - precision: 0.8383 - recall: 0.6608 - auc: 0.5087 - val_loss: 0.6668 - val_accuracy: 0.6397 - val_precision: 0.8329 - val_recall: 0.7095 - val_auc: 0.5018\n",
      "Epoch 32/100\n",
      "3199/3199 - 1s - loss: 0.6838 - accuracy: 0.6138 - precision: 0.8389 - recall: 0.6654 - auc: 0.5132 - val_loss: 0.6664 - val_accuracy: 0.6406 - val_precision: 0.8327 - val_recall: 0.7110 - val_auc: 0.5028\n",
      "Epoch 33/100\n",
      "3199/3199 - 1s - loss: 0.6832 - accuracy: 0.6147 - precision: 0.8412 - recall: 0.6641 - auc: 0.5173 - val_loss: 0.6644 - val_accuracy: 0.6482 - val_precision: 0.8335 - val_recall: 0.7216 - val_auc: 0.5035\n",
      "Epoch 34/100\n",
      "3199/3199 - 1s - loss: 0.6800 - accuracy: 0.6170 - precision: 0.8381 - recall: 0.6711 - auc: 0.5118 - val_loss: 0.6632 - val_accuracy: 0.6508 - val_precision: 0.8332 - val_recall: 0.7259 - val_auc: 0.5042\n",
      "Epoch 35/100\n",
      "3199/3199 - 1s - loss: 0.6794 - accuracy: 0.6187 - precision: 0.8346 - recall: 0.6779 - auc: 0.5059 - val_loss: 0.6624 - val_accuracy: 0.6576 - val_precision: 0.8331 - val_recall: 0.7362 - val_auc: 0.5047\n",
      "Epoch 36/100\n",
      "3199/3199 - 1s - loss: 0.6764 - accuracy: 0.6213 - precision: 0.8362 - recall: 0.6797 - auc: 0.5121 - val_loss: 0.6602 - val_accuracy: 0.6724 - val_precision: 0.8343 - val_recall: 0.7568 - val_auc: 0.5060\n",
      "Epoch 37/100\n",
      "3199/3199 - 1s - loss: 0.6756 - accuracy: 0.6270 - precision: 0.8368 - recall: 0.6876 - auc: 0.5113 - val_loss: 0.6593 - val_accuracy: 0.6753 - val_precision: 0.8342 - val_recall: 0.7613 - val_auc: 0.5068\n",
      "Epoch 38/100\n",
      "3199/3199 - 1s - loss: 0.6731 - accuracy: 0.6322 - precision: 0.8373 - recall: 0.6947 - auc: 0.5095 - val_loss: 0.6575 - val_accuracy: 0.6803 - val_precision: 0.8342 - val_recall: 0.7688 - val_auc: 0.5073\n"
     ]
    },
    {
     "name": "stdout",
     "output_type": "stream",
     "text": [
      "Epoch 39/100\n",
      "3199/3199 - 1s - loss: 0.6714 - accuracy: 0.6383 - precision: 0.8403 - recall: 0.6999 - auc: 0.5183 - val_loss: 0.6557 - val_accuracy: 0.6874 - val_precision: 0.8340 - val_recall: 0.7796 - val_auc: 0.5085\n",
      "Epoch 40/100\n",
      "3199/3199 - 1s - loss: 0.6706 - accuracy: 0.6375 - precision: 0.8393 - recall: 0.7000 - auc: 0.5141 - val_loss: 0.6552 - val_accuracy: 0.6899 - val_precision: 0.8349 - val_recall: 0.7821 - val_auc: 0.5100\n",
      "Epoch 41/100\n",
      "3199/3199 - 1s - loss: 0.6680 - accuracy: 0.6430 - precision: 0.8386 - recall: 0.7090 - auc: 0.5117 - val_loss: 0.6536 - val_accuracy: 0.6950 - val_precision: 0.8350 - val_recall: 0.7896 - val_auc: 0.5095\n",
      "Epoch 42/100\n",
      "3199/3199 - 1s - loss: 0.6662 - accuracy: 0.6462 - precision: 0.8385 - recall: 0.7140 - auc: 0.5166 - val_loss: 0.6521 - val_accuracy: 0.7022 - val_precision: 0.8352 - val_recall: 0.8001 - val_auc: 0.5105\n",
      "Epoch 43/100\n",
      "3199/3199 - 1s - loss: 0.6646 - accuracy: 0.6510 - precision: 0.8413 - recall: 0.7176 - auc: 0.5191 - val_loss: 0.6507 - val_accuracy: 0.7026 - val_precision: 0.8342 - val_recall: 0.8023 - val_auc: 0.5110\n",
      "Epoch 44/100\n",
      "3199/3199 - 1s - loss: 0.6627 - accuracy: 0.6551 - precision: 0.8399 - recall: 0.7254 - auc: 0.5186 - val_loss: 0.6478 - val_accuracy: 0.7182 - val_precision: 0.8361 - val_recall: 0.8228 - val_auc: 0.5133\n",
      "Epoch 45/100\n",
      "3199/3199 - 1s - loss: 0.6607 - accuracy: 0.6590 - precision: 0.8400 - recall: 0.7311 - auc: 0.5188 - val_loss: 0.6469 - val_accuracy: 0.7196 - val_precision: 0.8358 - val_recall: 0.8253 - val_auc: 0.5129\n",
      "Epoch 46/100\n",
      "3199/3199 - 1s - loss: 0.6584 - accuracy: 0.6578 - precision: 0.8406 - recall: 0.7285 - auc: 0.5222 - val_loss: 0.6455 - val_accuracy: 0.7233 - val_precision: 0.8361 - val_recall: 0.8305 - val_auc: 0.5146\n",
      "Epoch 47/100\n",
      "3199/3199 - 1s - loss: 0.6557 - accuracy: 0.6675 - precision: 0.8410 - recall: 0.7422 - auc: 0.5248 - val_loss: 0.6441 - val_accuracy: 0.7282 - val_precision: 0.8361 - val_recall: 0.8377 - val_auc: 0.5139\n",
      "Epoch 48/100\n",
      "3199/3199 - 1s - loss: 0.6541 - accuracy: 0.6673 - precision: 0.8394 - recall: 0.7441 - auc: 0.5199 - val_loss: 0.6420 - val_accuracy: 0.7349 - val_precision: 0.8365 - val_recall: 0.8470 - val_auc: 0.5150\n",
      "Epoch 49/100\n",
      "3199/3199 - 1s - loss: 0.6535 - accuracy: 0.6662 - precision: 0.8392 - recall: 0.7427 - auc: 0.5266 - val_loss: 0.6408 - val_accuracy: 0.7333 - val_precision: 0.8358 - val_recall: 0.8458 - val_auc: 0.5155\n",
      "Epoch 50/100\n",
      "3199/3199 - 1s - loss: 0.6500 - accuracy: 0.6772 - precision: 0.8417 - recall: 0.7557 - auc: 0.5302 - val_loss: 0.6393 - val_accuracy: 0.7417 - val_precision: 0.8363 - val_recall: 0.8575 - val_auc: 0.5163\n",
      "Epoch 51/100\n",
      "3199/3199 - 1s - loss: 0.6487 - accuracy: 0.6764 - precision: 0.8412 - recall: 0.7551 - auc: 0.5339 - val_loss: 0.6378 - val_accuracy: 0.7467 - val_precision: 0.8362 - val_recall: 0.8652 - val_auc: 0.5177\n",
      "Epoch 52/100\n",
      "3199/3199 - 1s - loss: 0.6492 - accuracy: 0.6798 - precision: 0.8395 - recall: 0.7624 - auc: 0.5245 - val_loss: 0.6362 - val_accuracy: 0.7510 - val_precision: 0.8360 - val_recall: 0.8719 - val_auc: 0.5182\n",
      "Epoch 53/100\n",
      "3199/3199 - 1s - loss: 0.6460 - accuracy: 0.6847 - precision: 0.8417 - recall: 0.7666 - auc: 0.5310 - val_loss: 0.6347 - val_accuracy: 0.7546 - val_precision: 0.8366 - val_recall: 0.8764 - val_auc: 0.5183\n",
      "Epoch 54/100\n",
      "3199/3199 - 1s - loss: 0.6441 - accuracy: 0.6872 - precision: 0.8399 - recall: 0.7728 - auc: 0.5249 - val_loss: 0.6330 - val_accuracy: 0.7594 - val_precision: 0.8367 - val_recall: 0.8836 - val_auc: 0.5203\n",
      "Epoch 55/100\n",
      "3199/3199 - 1s - loss: 0.6393 - accuracy: 0.6937 - precision: 0.8429 - recall: 0.7784 - auc: 0.5318 - val_loss: 0.6314 - val_accuracy: 0.7628 - val_precision: 0.8365 - val_recall: 0.8887 - val_auc: 0.5218\n",
      "Epoch 56/100\n",
      "3199/3199 - 1s - loss: 0.6392 - accuracy: 0.6928 - precision: 0.8418 - recall: 0.7785 - auc: 0.5347 - val_loss: 0.6300 - val_accuracy: 0.7631 - val_precision: 0.8364 - val_recall: 0.8894 - val_auc: 0.5216\n",
      "Epoch 57/100\n",
      "3199/3199 - 1s - loss: 0.6373 - accuracy: 0.7001 - precision: 0.8411 - recall: 0.7902 - auc: 0.5276 - val_loss: 0.6278 - val_accuracy: 0.7674 - val_precision: 0.8361 - val_recall: 0.8962 - val_auc: 0.5228\n",
      "Epoch 58/100\n",
      "3199/3199 - 1s - loss: 0.6370 - accuracy: 0.6989 - precision: 0.8387 - recall: 0.7918 - auc: 0.5225 - val_loss: 0.6262 - val_accuracy: 0.7697 - val_precision: 0.8357 - val_recall: 0.9004 - val_auc: 0.5236\n",
      "Epoch 59/100\n",
      "3199/3199 - 1s - loss: 0.6343 - accuracy: 0.6984 - precision: 0.8377 - recall: 0.7925 - auc: 0.5284 - val_loss: 0.6246 - val_accuracy: 0.7726 - val_precision: 0.8352 - val_recall: 0.9056 - val_auc: 0.5244\n",
      "Epoch 60/100\n",
      "3199/3199 - 1s - loss: 0.6307 - accuracy: 0.7084 - precision: 0.8406 - recall: 0.8032 - auc: 0.5355 - val_loss: 0.6221 - val_accuracy: 0.7774 - val_precision: 0.8353 - val_recall: 0.9124 - val_auc: 0.5243\n",
      "Epoch 61/100\n",
      "3199/3199 - 1s - loss: 0.6298 - accuracy: 0.7092 - precision: 0.8387 - recall: 0.8071 - auc: 0.5269 - val_loss: 0.6211 - val_accuracy: 0.7800 - val_precision: 0.8354 - val_recall: 0.9162 - val_auc: 0.5247\n",
      "Epoch 62/100\n",
      "3199/3199 - 1s - loss: 0.6284 - accuracy: 0.7127 - precision: 0.8422 - recall: 0.8072 - auc: 0.5365 - val_loss: 0.6189 - val_accuracy: 0.7844 - val_precision: 0.8354 - val_recall: 0.9229 - val_auc: 0.5254\n",
      "Epoch 63/100\n",
      "3199/3199 - 1s - loss: 0.6259 - accuracy: 0.7188 - precision: 0.8412 - recall: 0.8177 - auc: 0.5309 - val_loss: 0.6165 - val_accuracy: 0.7874 - val_precision: 0.8355 - val_recall: 0.9271 - val_auc: 0.5260\n",
      "Epoch 64/100\n",
      "3199/3199 - 1s - loss: 0.6236 - accuracy: 0.7176 - precision: 0.8418 - recall: 0.8151 - auc: 0.5347 - val_loss: 0.6155 - val_accuracy: 0.7868 - val_precision: 0.8355 - val_recall: 0.9263 - val_auc: 0.5270\n",
      "Epoch 65/100\n",
      "3199/3199 - 1s - loss: 0.6224 - accuracy: 0.7227 - precision: 0.8422 - recall: 0.8222 - auc: 0.5332 - val_loss: 0.6143 - val_accuracy: 0.7896 - val_precision: 0.8356 - val_recall: 0.9303 - val_auc: 0.5274\n",
      "Epoch 66/100\n",
      "3199/3199 - 1s - loss: 0.6203 - accuracy: 0.7220 - precision: 0.8403 - recall: 0.8238 - auc: 0.5346 - val_loss: 0.6122 - val_accuracy: 0.7935 - val_precision: 0.8351 - val_recall: 0.9369 - val_auc: 0.5287\n",
      "Epoch 67/100\n",
      "3199/3199 - 1s - loss: 0.6186 - accuracy: 0.7259 - precision: 0.8410 - recall: 0.8285 - auc: 0.5319 - val_loss: 0.6105 - val_accuracy: 0.7936 - val_precision: 0.8347 - val_recall: 0.9378 - val_auc: 0.5277\n",
      "Epoch 68/100\n",
      "3199/3199 - 1s - loss: 0.6158 - accuracy: 0.7265 - precision: 0.8407 - recall: 0.8298 - auc: 0.5359 - val_loss: 0.6081 - val_accuracy: 0.7965 - val_precision: 0.8353 - val_recall: 0.9411 - val_auc: 0.5282\n",
      "Epoch 69/100\n",
      "3199/3199 - 1s - loss: 0.6133 - accuracy: 0.7290 - precision: 0.8408 - recall: 0.8335 - auc: 0.5401 - val_loss: 0.6057 - val_accuracy: 0.8021 - val_precision: 0.8355 - val_recall: 0.9491 - val_auc: 0.5286\n",
      "Epoch 70/100\n",
      "3199/3199 - 1s - loss: 0.6113 - accuracy: 0.7345 - precision: 0.8417 - recall: 0.8402 - auc: 0.5394 - val_loss: 0.6047 - val_accuracy: 0.8017 - val_precision: 0.8356 - val_recall: 0.9483 - val_auc: 0.5292\n",
      "Epoch 71/100\n",
      "3199/3199 - 1s - loss: 0.6092 - accuracy: 0.7398 - precision: 0.8411 - recall: 0.8488 - auc: 0.5378 - val_loss: 0.6035 - val_accuracy: 0.8031 - val_precision: 0.8358 - val_recall: 0.9501 - val_auc: 0.5298\n",
      "Epoch 72/100\n",
      "3199/3199 - 1s - loss: 0.6078 - accuracy: 0.7378 - precision: 0.8412 - recall: 0.8458 - auc: 0.5358 - val_loss: 0.6005 - val_accuracy: 0.8068 - val_precision: 0.8352 - val_recall: 0.9568 - val_auc: 0.5309\n",
      "Epoch 73/100\n",
      "3199/3199 - 1s - loss: 0.6064 - accuracy: 0.7419 - precision: 0.8411 - recall: 0.8519 - auc: 0.5383 - val_loss: 0.5995 - val_accuracy: 0.8075 - val_precision: 0.8353 - val_recall: 0.9576 - val_auc: 0.5310\n",
      "Epoch 74/100\n",
      "3199/3199 - 1s - loss: 0.6029 - accuracy: 0.7466 - precision: 0.8420 - recall: 0.8576 - auc: 0.5443 - val_loss: 0.5972 - val_accuracy: 0.8092 - val_precision: 0.8343 - val_recall: 0.9618 - val_auc: 0.5313\n",
      "Epoch 75/100\n",
      "3199/3199 - 1s - loss: 0.6010 - accuracy: 0.7453 - precision: 0.8404 - recall: 0.8579 - auc: 0.5414 - val_loss: 0.5952 - val_accuracy: 0.8112 - val_precision: 0.8346 - val_recall: 0.9645 - val_auc: 0.5317\n",
      "Epoch 76/100\n",
      "3199/3199 - 1s - loss: 0.5976 - accuracy: 0.7519 - precision: 0.8411 - recall: 0.8667 - auc: 0.5453 - val_loss: 0.5929 - val_accuracy: 0.8129 - val_precision: 0.8344 - val_recall: 0.9673 - val_auc: 0.5323\n"
     ]
    },
    {
     "name": "stdout",
     "output_type": "stream",
     "text": [
      "Epoch 77/100\n",
      "3199/3199 - 1s - loss: 0.5958 - accuracy: 0.7523 - precision: 0.8412 - recall: 0.8672 - auc: 0.5497 - val_loss: 0.5913 - val_accuracy: 0.8162 - val_precision: 0.8346 - val_recall: 0.9718 - val_auc: 0.5328\n",
      "Epoch 78/100\n",
      "3199/3199 - 1s - loss: 0.5931 - accuracy: 0.7599 - precision: 0.8432 - recall: 0.8754 - auc: 0.5527 - val_loss: 0.5894 - val_accuracy: 0.8168 - val_precision: 0.8345 - val_recall: 0.9728 - val_auc: 0.5327\n",
      "Epoch 79/100\n",
      "3199/3199 - 1s - loss: 0.5913 - accuracy: 0.7555 - precision: 0.8408 - recall: 0.8725 - auc: 0.5488 - val_loss: 0.5868 - val_accuracy: 0.8175 - val_precision: 0.8342 - val_recall: 0.9745 - val_auc: 0.5333\n",
      "Epoch 80/100\n",
      "3199/3199 - 1s - loss: 0.5920 - accuracy: 0.7584 - precision: 0.8424 - recall: 0.8743 - auc: 0.5475 - val_loss: 0.5864 - val_accuracy: 0.8179 - val_precision: 0.8345 - val_recall: 0.9746 - val_auc: 0.5339\n",
      "Epoch 81/100\n",
      "3199/3199 - 1s - loss: 0.5882 - accuracy: 0.7608 - precision: 0.8419 - recall: 0.8785 - auc: 0.5524 - val_loss: 0.5836 - val_accuracy: 0.8196 - val_precision: 0.8335 - val_recall: 0.9788 - val_auc: 0.5334\n",
      "Epoch 82/100\n",
      "3199/3199 - 1s - loss: 0.5868 - accuracy: 0.7643 - precision: 0.8425 - recall: 0.8828 - auc: 0.5504 - val_loss: 0.5819 - val_accuracy: 0.8199 - val_precision: 0.8338 - val_recall: 0.9786 - val_auc: 0.5337\n",
      "Epoch 83/100\n",
      "3199/3199 - 1s - loss: 0.5835 - accuracy: 0.7667 - precision: 0.8425 - recall: 0.8865 - auc: 0.5506 - val_loss: 0.5804 - val_accuracy: 0.8210 - val_precision: 0.8335 - val_recall: 0.9808 - val_auc: 0.5342\n",
      "Epoch 84/100\n",
      "3199/3199 - 1s - loss: 0.5827 - accuracy: 0.7633 - precision: 0.8408 - recall: 0.8840 - auc: 0.5511 - val_loss: 0.5785 - val_accuracy: 0.8213 - val_precision: 0.8332 - val_recall: 0.9818 - val_auc: 0.5346\n",
      "Epoch 85/100\n",
      "3199/3199 - 1s - loss: 0.5801 - accuracy: 0.7701 - precision: 0.8415 - recall: 0.8928 - auc: 0.5502 - val_loss: 0.5757 - val_accuracy: 0.8231 - val_precision: 0.8330 - val_recall: 0.9850 - val_auc: 0.5362\n",
      "Epoch 86/100\n",
      "3199/3199 - 1s - loss: 0.5783 - accuracy: 0.7707 - precision: 0.8408 - recall: 0.8950 - auc: 0.5521 - val_loss: 0.5736 - val_accuracy: 0.8242 - val_precision: 0.8330 - val_recall: 0.9867 - val_auc: 0.5364\n",
      "Epoch 87/100\n",
      "3199/3199 - 1s - loss: 0.5747 - accuracy: 0.7715 - precision: 0.8416 - recall: 0.8949 - auc: 0.5584 - val_loss: 0.5726 - val_accuracy: 0.8236 - val_precision: 0.8331 - val_recall: 0.9855 - val_auc: 0.5352\n",
      "Epoch 88/100\n",
      "3199/3199 - 1s - loss: 0.5758 - accuracy: 0.7724 - precision: 0.8404 - recall: 0.8980 - auc: 0.5458 - val_loss: 0.5707 - val_accuracy: 0.8250 - val_precision: 0.8328 - val_recall: 0.9882 - val_auc: 0.5360\n",
      "Epoch 89/100\n",
      "3199/3199 - 1s - loss: 0.5722 - accuracy: 0.7768 - precision: 0.8418 - recall: 0.9023 - auc: 0.5522 - val_loss: 0.5690 - val_accuracy: 0.8256 - val_precision: 0.8329 - val_recall: 0.9888 - val_auc: 0.5366\n",
      "Epoch 90/100\n",
      "3199/3199 - 1s - loss: 0.5710 - accuracy: 0.7773 - precision: 0.8417 - recall: 0.9032 - auc: 0.5544 - val_loss: 0.5670 - val_accuracy: 0.8256 - val_precision: 0.8329 - val_recall: 0.9888 - val_auc: 0.5368\n",
      "Epoch 91/100\n",
      "3199/3199 - 1s - loss: 0.5675 - accuracy: 0.7802 - precision: 0.8417 - recall: 0.9075 - auc: 0.5598 - val_loss: 0.5660 - val_accuracy: 0.8253 - val_precision: 0.8329 - val_recall: 0.9885 - val_auc: 0.5369\n",
      "Epoch 92/100\n",
      "3199/3199 - 1s - loss: 0.5675 - accuracy: 0.7801 - precision: 0.8410 - recall: 0.9086 - auc: 0.5522 - val_loss: 0.5631 - val_accuracy: 0.8278 - val_precision: 0.8334 - val_recall: 0.9913 - val_auc: 0.5375\n",
      "Epoch 93/100\n",
      "3199/3199 - 1s - loss: 0.5653 - accuracy: 0.7821 - precision: 0.8406 - recall: 0.9121 - auc: 0.5513 - val_loss: 0.5615 - val_accuracy: 0.8278 - val_precision: 0.8332 - val_recall: 0.9917 - val_auc: 0.5371\n",
      "Epoch 94/100\n",
      "3199/3199 - 1s - loss: 0.5632 - accuracy: 0.7831 - precision: 0.8406 - recall: 0.9136 - auc: 0.5562 - val_loss: 0.5604 - val_accuracy: 0.8276 - val_precision: 0.8333 - val_recall: 0.9913 - val_auc: 0.5374\n",
      "Epoch 95/100\n",
      "3199/3199 - 1s - loss: 0.5596 - accuracy: 0.7897 - precision: 0.8427 - recall: 0.9199 - auc: 0.5602 - val_loss: 0.5580 - val_accuracy: 0.8286 - val_precision: 0.8331 - val_recall: 0.9930 - val_auc: 0.5383\n",
      "Epoch 96/100\n",
      "3199/3199 - 1s - loss: 0.5569 - accuracy: 0.7913 - precision: 0.8424 - recall: 0.9227 - auc: 0.5642 - val_loss: 0.5561 - val_accuracy: 0.8286 - val_precision: 0.8331 - val_recall: 0.9930 - val_auc: 0.5387\n",
      "Epoch 97/100\n",
      "3199/3199 - 1s - loss: 0.5544 - accuracy: 0.7930 - precision: 0.8426 - recall: 0.9250 - auc: 0.5639 - val_loss: 0.5545 - val_accuracy: 0.8282 - val_precision: 0.8329 - val_recall: 0.9928 - val_auc: 0.5381\n",
      "Epoch 98/100\n",
      "3199/3199 - 1s - loss: 0.5553 - accuracy: 0.7888 - precision: 0.8421 - recall: 0.9195 - auc: 0.5587 - val_loss: 0.5525 - val_accuracy: 0.8285 - val_precision: 0.8330 - val_recall: 0.9930 - val_auc: 0.5383\n",
      "Epoch 99/100\n",
      "3199/3199 - 1s - loss: 0.5526 - accuracy: 0.7934 - precision: 0.8416 - recall: 0.9272 - auc: 0.5613 - val_loss: 0.5508 - val_accuracy: 0.8293 - val_precision: 0.8330 - val_recall: 0.9943 - val_auc: 0.5391\n",
      "Epoch 100/100\n",
      "3199/3199 - 1s - loss: 0.5498 - accuracy: 0.7954 - precision: 0.8423 - recall: 0.9289 - auc: 0.5671 - val_loss: 0.5491 - val_accuracy: 0.8300 - val_precision: 0.8331 - val_recall: 0.9952 - val_auc: 0.5399\n"
     ]
    },
    {
     "data": {
      "text/plain": [
       "FeatureExtractedClassifier(activation='relu', batch_size=16, class_weight=None,\n",
       "                           epochs=100, is_multi_label=True,\n",
       "                           loss='binary_crossentropy',\n",
       "                           metrics=[<tensorflow.python.keras.metrics.BinaryAccuracy object at 0x000002076795C940>,\n",
       "                                    <tensorflow.python.keras.metrics.Precision object at 0x000002076795CF60>,\n",
       "                                    <tensorflow.python.keras.metrics.Recall object at 0x000002076797A2B0>,\n",
       "                                    <tensorflow.python.keras.metrics.AUC object at 0x000002076797A8D0>],\n",
       "                           optimizer=<tensorflow.python.keras.optimizer_v2.adam.Adam object at 0x000002076A48F160>,\n",
       "                           output_activation='sigmoid', validation_split=0.2)"
      ]
     },
     "execution_count": 21,
     "metadata": {},
     "output_type": "execute_result"
    }
   ],
   "source": [
    "clf3.fit(X_train, y_train)"
   ]
  },
  {
   "cell_type": "code",
   "execution_count": 22,
   "metadata": {},
   "outputs": [
    {
     "name": "stdout",
     "output_type": "stream",
     "text": [
      "loss : 0.5508\n",
      "accuracy : 0.8301\n",
      "precision : 0.8330\n",
      "recall : 0.9955\n",
      "auc : 0.5259\n"
     ]
    },
    {
     "data": {
      "image/png": "[encoded data removed]",
      "text/plain": [
       "<Figure size 432x288 with 4 Axes>"
      ]
     },
     "metadata": {
      "needs_background": "light"
     },
     "output_type": "display_data"
    }
   ],
   "source": [
    "plot_metrics(clf3.history)\n",
    "\n",
    "results = clf3.history.model.evaluate(X_test, y_test, verbose=0)\n",
    "for name, value in zip(clf3.history.model.metrics_names, results):\n",
    "    print(f\"{name} : {value:.4f}\")"
   ]
  },
  {
   "cell_type": "code",
   "execution_count": 25,
   "metadata": {},
   "outputs": [
    {
     "name": "stdout",
     "output_type": "stream",
     "text": [
      "hamming loss: 0.1699\n",
      "              precision    recall  f1-score   support\n",
      "\n",
      "           0       0.82      1.00      0.90       822\n",
      "           1       0.00      0.00      0.00       127\n",
      "           2       0.00      0.00      0.00        38\n",
      "           3       0.00      0.00      0.00         9\n",
      "           4       0.00      0.00      0.00         1\n",
      "           5       0.00      0.00      0.00         3\n",
      "\n",
      "    accuracy                           0.82      1000\n",
      "   macro avg       0.14      0.17      0.15      1000\n",
      "weighted avg       0.68      0.82      0.74      1000\n",
      "\n"
     ]
    },
    {
     "name": "stderr",
     "output_type": "stream",
     "text": [
      "C:\\Users\\user\\miniconda3\\envs\\test\\lib\\site-packages\\sklearn\\metrics\\classification.py:1437: UndefinedMetricWarning: Precision and F-score are ill-defined and being set to 0.0 in labels with no predicted samples.\n",
      "  'precision', 'predicted', average, warn_for)\n"
     ]
    },
    {
     "data": {
      "image/png": "[encoded data removed]",
      "text/plain": [
       "<Figure size 360x360 with 2 Axes>"
      ]
     },
     "metadata": {
      "needs_background": "light"
     },
     "output_type": "display_data"
    }
   ],
   "source": [
    "test_pred = clf3.predict(X_test)\n",
    "hamming_loss = hamming_loss(y_test, test_pred)\n",
    "print(f\"hamming loss: {hamming_loss:.4f}\")\n",
    "plot_cm(y_test, test_pred)\n",
    "plt.show()"
   ]
  },
  {
   "cell_type": "code",
   "execution_count": null,
   "metadata": {},
   "outputs": [],
   "source": []
  }
 ],
 "metadata": {
  "kernelspec": {
   "display_name": "Python 3",
   "language": "python",
   "name": "python3"
  },
  "language_info": {
   "codemirror_mode": {
    "name": "ipython",
    "version": 3
   },
   "file_extension": ".py",
   "mimetype": "text/x-python",
   "name": "python",
   "nbconvert_exporter": "python",
   "pygments_lexer": "ipython3",
   "version": "3.6.10"
  }
 },
 "nbformat": 4,
 "nbformat_minor": 4
}
