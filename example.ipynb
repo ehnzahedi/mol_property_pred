{
 "cells": [
  {
   "cell_type": "code",
   "execution_count": 2,
   "metadata": {},
   "outputs": [],
   "source": [
    "import numpy as np\n",
    "import matplotlib.pyplot as plt\n",
    "from sklearn.metrics import hamming_loss\n",
    "import tensorflow as tf\n",
    "from feature_extractor import fingerprint_features\n",
    "\n",
    "from classifiers.model1 import FeatureExtractedClassifier\n",
    "from classifiers.model2 import SmilePredictor\n",
    "from get_data import fetch_single_label_data, fetch_multi_label_data\n",
    "from utils import plot_cm, plot_metrics"
   ]
  },
  {
   "cell_type": "markdown",
   "metadata": {},
   "source": [
    "# Model 1"
   ]
  },
  {
   "cell_type": "code",
   "execution_count": 3,
   "metadata": {},
   "outputs": [],
   "source": [
    "def preprocess_smile(s):\n",
    "    s = str(s)\n",
    "    extracted_features = np.array(fingerprint_features(s, size=2048))\n",
    "    extracted_features = extracted_features.reshape(1, -1)\n",
    "    return extracted_features"
   ]
  },
  {
   "cell_type": "code",
   "execution_count": 4,
   "metadata": {},
   "outputs": [
    {
     "name": "stdout",
     "output_type": "stream",
     "text": [
      "class weights: {0: 2.81, 1: 0.61}\n"
     ]
    }
   ],
   "source": [
    "# we use class weight since the data is imbalanced\n",
    "# the following class weights is calculated in the data_exploration file\n",
    "class_weight = {0: 2.81, 1: 0.61}\n",
    "print(f\"class weights: {class_weight}\")\n",
    "\n",
    "METRICS = [\n",
    "    tf.keras.metrics.BinaryAccuracy(name='accuracy'),\n",
    "    tf.keras.metrics.Precision(name='precision'),\n",
    "    tf.keras.metrics.Recall(name='recall'),\n",
    "    tf.keras.metrics.AUC(name='auc')\n",
    "]"
   ]
  },
  {
   "cell_type": "code",
   "execution_count": 5,
   "metadata": {},
   "outputs": [],
   "source": [
    "X_train, X_test, y_train, y_test = fetch_single_label_data(\n",
    "    get_extracted_features=True)"
   ]
  },
  {
   "cell_type": "code",
   "execution_count": 8,
   "metadata": {},
   "outputs": [],
   "source": [
    "clf = FeatureExtractedClassifier(epochs=100,\n",
    "                                 batch_size=16,\n",
    "                                 metrics=METRICS,\n",
    "                                 optimizer=tf.keras.optimizers.Adam(lr=1e-5),\n",
    "                                 class_weight=class_weight\n",
    "                                 )"
   ]
  },
  {
   "cell_type": "code",
   "execution_count": 9,
   "metadata": {
    "scrolled": true
   },
   "outputs": [
    {
     "name": "stdout",
     "output_type": "stream",
     "text": [
      "Train on 3199 samples, validate on 800 samples\n",
      "Epoch 1/100\n",
      "3199/3199 - 3s - loss: 1.0664 - accuracy: 0.4789 - precision: 0.4789 - recall: 0.4789 - auc: 0.4798 - val_loss: 0.6909 - val_accuracy: 0.4375 - val_precision: 0.4375 - val_recall: 0.4375 - val_auc: 0.3806\n",
      "Epoch 2/100\n",
      "3199/3199 - 1s - loss: 1.0422 - accuracy: 0.4845 - precision: 0.4845 - recall: 0.4845 - auc: 0.4832 - val_loss: 0.7074 - val_accuracy: 0.4187 - val_precision: 0.4187 - val_recall: 0.4187 - val_auc: 0.3628\n",
      "Epoch 3/100\n",
      "3199/3199 - 1s - loss: 1.0168 - accuracy: 0.4939 - precision: 0.4939 - recall: 0.4939 - auc: 0.4961 - val_loss: 0.7320 - val_accuracy: 0.4025 - val_precision: 0.4025 - val_recall: 0.4025 - val_auc: 0.3447\n",
      "Epoch 4/100\n",
      "3199/3199 - 1s - loss: 1.0255 - accuracy: 0.4942 - precision: 0.4942 - recall: 0.4942 - auc: 0.4916 - val_loss: 0.7333 - val_accuracy: 0.4112 - val_precision: 0.4112 - val_recall: 0.4112 - val_auc: 0.3584\n",
      "Epoch 5/100\n",
      "3199/3199 - 1s - loss: 0.9308 - accuracy: 0.4995 - precision: 0.4995 - recall: 0.4995 - auc: 0.5082 - val_loss: 0.7273 - val_accuracy: 0.4200 - val_precision: 0.4200 - val_recall: 0.4200 - val_auc: 0.3690\n",
      "Epoch 6/100\n",
      "3199/3199 - 1s - loss: 0.9456 - accuracy: 0.5008 - precision: 0.5008 - recall: 0.5008 - auc: 0.5056 - val_loss: 0.7204 - val_accuracy: 0.4137 - val_precision: 0.4137 - val_recall: 0.4137 - val_auc: 0.3731\n",
      "Epoch 7/100\n",
      "3199/3199 - 1s - loss: 0.8935 - accuracy: 0.5255 - precision: 0.5255 - recall: 0.5255 - auc: 0.5289 - val_loss: 0.7130 - val_accuracy: 0.4475 - val_precision: 0.4475 - val_recall: 0.4475 - val_auc: 0.3980\n",
      "Epoch 8/100\n",
      "3199/3199 - 1s - loss: 0.9050 - accuracy: 0.5095 - precision: 0.5095 - recall: 0.5095 - auc: 0.5208 - val_loss: 0.7078 - val_accuracy: 0.4563 - val_precision: 0.4563 - val_recall: 0.4563 - val_auc: 0.4190\n",
      "Epoch 9/100\n",
      "3199/3199 - 1s - loss: 0.9014 - accuracy: 0.4952 - precision: 0.4952 - recall: 0.4952 - auc: 0.5022 - val_loss: 0.7038 - val_accuracy: 0.4650 - val_precision: 0.4650 - val_recall: 0.4650 - val_auc: 0.4347\n",
      "Epoch 10/100\n",
      "3199/3199 - 1s - loss: 0.9066 - accuracy: 0.4952 - precision: 0.4952 - recall: 0.4952 - auc: 0.5013 - val_loss: 0.6981 - val_accuracy: 0.4600 - val_precision: 0.4600 - val_recall: 0.4600 - val_auc: 0.4419\n",
      "Epoch 11/100\n",
      "3199/3199 - 1s - loss: 0.8911 - accuracy: 0.5195 - precision: 0.5195 - recall: 0.5195 - auc: 0.5214 - val_loss: 0.6929 - val_accuracy: 0.5038 - val_precision: 0.5038 - val_recall: 0.5038 - val_auc: 0.4831\n",
      "Epoch 12/100\n",
      "3199/3199 - 1s - loss: 0.8614 - accuracy: 0.5127 - precision: 0.5127 - recall: 0.5127 - auc: 0.5257 - val_loss: 0.6898 - val_accuracy: 0.5088 - val_precision: 0.5088 - val_recall: 0.5088 - val_auc: 0.4960\n",
      "Epoch 13/100\n",
      "3199/3199 - 1s - loss: 0.8173 - accuracy: 0.5399 - precision: 0.5399 - recall: 0.5399 - auc: 0.5507 - val_loss: 0.6892 - val_accuracy: 0.5000 - val_precision: 0.5000 - val_recall: 0.5000 - val_auc: 0.4734\n",
      "Epoch 14/100\n",
      "3199/3199 - 1s - loss: 0.8533 - accuracy: 0.5183 - precision: 0.5183 - recall: 0.5183 - auc: 0.5288 - val_loss: 0.6838 - val_accuracy: 0.5238 - val_precision: 0.5238 - val_recall: 0.5238 - val_auc: 0.5068\n",
      "Epoch 15/100\n",
      "3199/3199 - 1s - loss: 0.8745 - accuracy: 0.5089 - precision: 0.5089 - recall: 0.5089 - auc: 0.5107 - val_loss: 0.6806 - val_accuracy: 0.5250 - val_precision: 0.5250 - val_recall: 0.5250 - val_auc: 0.5103\n",
      "Epoch 16/100\n",
      "3199/3199 - 1s - loss: 0.8442 - accuracy: 0.5308 - precision: 0.5308 - recall: 0.5308 - auc: 0.5408 - val_loss: 0.6773 - val_accuracy: 0.5412 - val_precision: 0.5412 - val_recall: 0.5412 - val_auc: 0.5256\n",
      "Epoch 17/100\n",
      "3199/3199 - 1s - loss: 0.8150 - accuracy: 0.5270 - precision: 0.5270 - recall: 0.5270 - auc: 0.5371 - val_loss: 0.6763 - val_accuracy: 0.5300 - val_precision: 0.5300 - val_recall: 0.5300 - val_auc: 0.5075\n",
      "Epoch 18/100\n",
      "3199/3199 - 1s - loss: 0.7945 - accuracy: 0.5339 - precision: 0.5339 - recall: 0.5339 - auc: 0.5565 - val_loss: 0.6738 - val_accuracy: 0.5288 - val_precision: 0.5288 - val_recall: 0.5288 - val_auc: 0.5083\n",
      "Epoch 19/100\n",
      "3199/3199 - 1s - loss: 0.8162 - accuracy: 0.5392 - precision: 0.5392 - recall: 0.5392 - auc: 0.5536 - val_loss: 0.6718 - val_accuracy: 0.5425 - val_precision: 0.5425 - val_recall: 0.5425 - val_auc: 0.5203\n",
      "Epoch 20/100\n",
      "3199/3199 - 1s - loss: 0.8089 - accuracy: 0.5367 - precision: 0.5367 - recall: 0.5367 - auc: 0.5498 - val_loss: 0.6694 - val_accuracy: 0.5487 - val_precision: 0.5487 - val_recall: 0.5487 - val_auc: 0.5334\n",
      "Epoch 21/100\n",
      "3199/3199 - 1s - loss: 0.8166 - accuracy: 0.5358 - precision: 0.5358 - recall: 0.5358 - auc: 0.5445 - val_loss: 0.6684 - val_accuracy: 0.5437 - val_precision: 0.5437 - val_recall: 0.5437 - val_auc: 0.5340\n",
      "Epoch 22/100\n",
      "3199/3199 - 1s - loss: 0.7848 - accuracy: 0.5411 - precision: 0.5411 - recall: 0.5411 - auc: 0.5601 - val_loss: 0.6683 - val_accuracy: 0.5300 - val_precision: 0.5300 - val_recall: 0.5300 - val_auc: 0.5089\n",
      "Epoch 23/100\n",
      "3199/3199 - 1s - loss: 0.7899 - accuracy: 0.5445 - precision: 0.5445 - recall: 0.5445 - auc: 0.5587 - val_loss: 0.6657 - val_accuracy: 0.5375 - val_precision: 0.5375 - val_recall: 0.5375 - val_auc: 0.5293\n",
      "Epoch 24/100\n",
      "3199/3199 - 1s - loss: 0.7758 - accuracy: 0.5558 - precision: 0.5558 - recall: 0.5558 - auc: 0.5681 - val_loss: 0.6631 - val_accuracy: 0.5462 - val_precision: 0.5462 - val_recall: 0.5462 - val_auc: 0.5351\n",
      "Epoch 25/100\n",
      "3199/3199 - 1s - loss: 0.7530 - accuracy: 0.5495 - precision: 0.5495 - recall: 0.5495 - auc: 0.5798 - val_loss: 0.6620 - val_accuracy: 0.5337 - val_precision: 0.5337 - val_recall: 0.5337 - val_auc: 0.5216\n",
      "Epoch 26/100\n",
      "3199/3199 - 1s - loss: 0.7661 - accuracy: 0.5517 - precision: 0.5517 - recall: 0.5517 - auc: 0.5736 - val_loss: 0.6582 - val_accuracy: 0.5562 - val_precision: 0.5562 - val_recall: 0.5562 - val_auc: 0.5537\n",
      "Epoch 27/100\n",
      "3199/3199 - 1s - loss: 0.7713 - accuracy: 0.5452 - precision: 0.5452 - recall: 0.5452 - auc: 0.5731 - val_loss: 0.6561 - val_accuracy: 0.5638 - val_precision: 0.5638 - val_recall: 0.5638 - val_auc: 0.5608\n",
      "Epoch 28/100\n",
      "3199/3199 - 1s - loss: 0.7567 - accuracy: 0.5542 - precision: 0.5542 - recall: 0.5542 - auc: 0.5784 - val_loss: 0.6552 - val_accuracy: 0.5562 - val_precision: 0.5562 - val_recall: 0.5562 - val_auc: 0.5529\n",
      "Epoch 29/100\n",
      "3199/3199 - 1s - loss: 0.7548 - accuracy: 0.5586 - precision: 0.5586 - recall: 0.5586 - auc: 0.5886 - val_loss: 0.6556 - val_accuracy: 0.5500 - val_precision: 0.5500 - val_recall: 0.5500 - val_auc: 0.5451\n",
      "Epoch 30/100\n",
      "3199/3199 - 1s - loss: 0.7446 - accuracy: 0.5561 - precision: 0.5561 - recall: 0.5561 - auc: 0.5759 - val_loss: 0.6537 - val_accuracy: 0.5587 - val_precision: 0.5587 - val_recall: 0.5587 - val_auc: 0.5580\n",
      "Epoch 31/100\n",
      "3199/3199 - 1s - loss: 0.7592 - accuracy: 0.5524 - precision: 0.5524 - recall: 0.5524 - auc: 0.5718 - val_loss: 0.6546 - val_accuracy: 0.5500 - val_precision: 0.5500 - val_recall: 0.5500 - val_auc: 0.5384\n",
      "Epoch 32/100\n",
      "3199/3199 - 1s - loss: 0.7558 - accuracy: 0.5621 - precision: 0.5621 - recall: 0.5621 - auc: 0.5806 - val_loss: 0.6542 - val_accuracy: 0.5550 - val_precision: 0.5550 - val_recall: 0.5550 - val_auc: 0.5341\n",
      "Epoch 33/100\n",
      "3199/3199 - 1s - loss: 0.7305 - accuracy: 0.5621 - precision: 0.5621 - recall: 0.5621 - auc: 0.5891 - val_loss: 0.6521 - val_accuracy: 0.5638 - val_precision: 0.5638 - val_recall: 0.5638 - val_auc: 0.5474\n",
      "Epoch 34/100\n",
      "3199/3199 - 1s - loss: 0.7141 - accuracy: 0.5755 - precision: 0.5755 - recall: 0.5755 - auc: 0.6052 - val_loss: 0.6510 - val_accuracy: 0.5562 - val_precision: 0.5562 - val_recall: 0.5562 - val_auc: 0.5436\n",
      "Epoch 35/100\n",
      "3199/3199 - 1s - loss: 0.7244 - accuracy: 0.5611 - precision: 0.5611 - recall: 0.5611 - auc: 0.5977 - val_loss: 0.6507 - val_accuracy: 0.5625 - val_precision: 0.5625 - val_recall: 0.5625 - val_auc: 0.5456\n",
      "Epoch 36/100\n",
      "3199/3199 - 1s - loss: 0.7054 - accuracy: 0.5586 - precision: 0.5586 - recall: 0.5586 - auc: 0.6006 - val_loss: 0.6494 - val_accuracy: 0.5575 - val_precision: 0.5575 - val_recall: 0.5575 - val_auc: 0.5455\n",
      "Epoch 37/100\n",
      "3199/3199 - 1s - loss: 0.7016 - accuracy: 0.5736 - precision: 0.5736 - recall: 0.5736 - auc: 0.6045 - val_loss: 0.6477 - val_accuracy: 0.5638 - val_precision: 0.5638 - val_recall: 0.5638 - val_auc: 0.5571\n",
      "Epoch 38/100\n",
      "3199/3199 - 1s - loss: 0.6974 - accuracy: 0.5927 - precision: 0.5927 - recall: 0.5927 - auc: 0.6208 - val_loss: 0.6470 - val_accuracy: 0.5700 - val_precision: 0.5700 - val_recall: 0.5700 - val_auc: 0.5640\n"
     ]
    },
    {
     "name": "stdout",
     "output_type": "stream",
     "text": [
      "Epoch 39/100\n",
      "3199/3199 - 1s - loss: 0.7287 - accuracy: 0.5605 - precision: 0.5605 - recall: 0.5605 - auc: 0.5902 - val_loss: 0.6469 - val_accuracy: 0.5688 - val_precision: 0.5688 - val_recall: 0.5688 - val_auc: 0.5658\n",
      "Epoch 40/100\n",
      "3199/3199 - 1s - loss: 0.6962 - accuracy: 0.5896 - precision: 0.5896 - recall: 0.5896 - auc: 0.6182 - val_loss: 0.6471 - val_accuracy: 0.5625 - val_precision: 0.5625 - val_recall: 0.5625 - val_auc: 0.5489\n",
      "Epoch 41/100\n",
      "3199/3199 - 1s - loss: 0.6735 - accuracy: 0.5921 - precision: 0.5921 - recall: 0.5921 - auc: 0.6305 - val_loss: 0.6462 - val_accuracy: 0.5650 - val_precision: 0.5650 - val_recall: 0.5650 - val_auc: 0.5551\n",
      "Epoch 42/100\n",
      "3199/3199 - 1s - loss: 0.6949 - accuracy: 0.5861 - precision: 0.5861 - recall: 0.5861 - auc: 0.6206 - val_loss: 0.6467 - val_accuracy: 0.5625 - val_precision: 0.5625 - val_recall: 0.5625 - val_auc: 0.5579\n",
      "Epoch 43/100\n",
      "3199/3199 - 1s - loss: 0.6852 - accuracy: 0.5924 - precision: 0.5924 - recall: 0.5924 - auc: 0.6270 - val_loss: 0.6453 - val_accuracy: 0.5675 - val_precision: 0.5675 - val_recall: 0.5675 - val_auc: 0.5674\n",
      "Epoch 44/100\n",
      "3199/3199 - 1s - loss: 0.6861 - accuracy: 0.5892 - precision: 0.5892 - recall: 0.5892 - auc: 0.6214 - val_loss: 0.6431 - val_accuracy: 0.5713 - val_precision: 0.5713 - val_recall: 0.5713 - val_auc: 0.5762\n",
      "Epoch 45/100\n",
      "3199/3199 - 1s - loss: 0.6810 - accuracy: 0.5992 - precision: 0.5992 - recall: 0.5992 - auc: 0.6387 - val_loss: 0.6425 - val_accuracy: 0.5850 - val_precision: 0.5850 - val_recall: 0.5850 - val_auc: 0.5891\n",
      "Epoch 46/100\n",
      "3199/3199 - 1s - loss: 0.6840 - accuracy: 0.5971 - precision: 0.5971 - recall: 0.5971 - auc: 0.6362 - val_loss: 0.6438 - val_accuracy: 0.5800 - val_precision: 0.5800 - val_recall: 0.5800 - val_auc: 0.5729\n",
      "Epoch 47/100\n",
      "3199/3199 - 1s - loss: 0.6611 - accuracy: 0.6068 - precision: 0.6068 - recall: 0.6068 - auc: 0.6497 - val_loss: 0.6422 - val_accuracy: 0.5838 - val_precision: 0.5838 - val_recall: 0.5838 - val_auc: 0.5810\n",
      "Epoch 48/100\n",
      "3199/3199 - 1s - loss: 0.6642 - accuracy: 0.5989 - precision: 0.5989 - recall: 0.5989 - auc: 0.6380 - val_loss: 0.6409 - val_accuracy: 0.5825 - val_precision: 0.5825 - val_recall: 0.5825 - val_auc: 0.5816\n",
      "Epoch 49/100\n",
      "3199/3199 - 1s - loss: 0.6773 - accuracy: 0.5952 - precision: 0.5952 - recall: 0.5952 - auc: 0.6325 - val_loss: 0.6386 - val_accuracy: 0.6037 - val_precision: 0.6037 - val_recall: 0.6037 - val_auc: 0.5984\n",
      "Epoch 50/100\n",
      "3199/3199 - 1s - loss: 0.6602 - accuracy: 0.6108 - precision: 0.6108 - recall: 0.6108 - auc: 0.6455 - val_loss: 0.6389 - val_accuracy: 0.6087 - val_precision: 0.6087 - val_recall: 0.6087 - val_auc: 0.6050\n",
      "Epoch 51/100\n",
      "3199/3199 - 1s - loss: 0.6534 - accuracy: 0.6180 - precision: 0.6180 - recall: 0.6180 - auc: 0.6569 - val_loss: 0.6374 - val_accuracy: 0.6050 - val_precision: 0.6050 - val_recall: 0.6050 - val_auc: 0.6023\n",
      "Epoch 52/100\n",
      "3199/3199 - 1s - loss: 0.6512 - accuracy: 0.6164 - precision: 0.6164 - recall: 0.6164 - auc: 0.6580 - val_loss: 0.6383 - val_accuracy: 0.5925 - val_precision: 0.5925 - val_recall: 0.5925 - val_auc: 0.5939\n",
      "Epoch 53/100\n",
      "3199/3199 - 2s - loss: 0.6477 - accuracy: 0.6105 - precision: 0.6105 - recall: 0.6105 - auc: 0.6484 - val_loss: 0.6375 - val_accuracy: 0.5913 - val_precision: 0.5913 - val_recall: 0.5913 - val_auc: 0.5972\n",
      "Epoch 54/100\n",
      "3199/3199 - 2s - loss: 0.6759 - accuracy: 0.5930 - precision: 0.5930 - recall: 0.5930 - auc: 0.6366 - val_loss: 0.6368 - val_accuracy: 0.6137 - val_precision: 0.6137 - val_recall: 0.6137 - val_auc: 0.6139\n",
      "Epoch 55/100\n",
      "3199/3199 - 2s - loss: 0.6312 - accuracy: 0.6299 - precision: 0.6299 - recall: 0.6299 - auc: 0.6730 - val_loss: 0.6367 - val_accuracy: 0.6263 - val_precision: 0.6263 - val_recall: 0.6263 - val_auc: 0.6201\n",
      "Epoch 56/100\n",
      "3199/3199 - 1s - loss: 0.6353 - accuracy: 0.6249 - precision: 0.6249 - recall: 0.6249 - auc: 0.6643 - val_loss: 0.6373 - val_accuracy: 0.6250 - val_precision: 0.6250 - val_recall: 0.6250 - val_auc: 0.6191\n",
      "Epoch 57/100\n",
      "3199/3199 - 1s - loss: 0.6377 - accuracy: 0.6318 - precision: 0.6318 - recall: 0.6318 - auc: 0.6682 - val_loss: 0.6386 - val_accuracy: 0.6237 - val_precision: 0.6237 - val_recall: 0.6237 - val_auc: 0.6145\n",
      "Epoch 58/100\n",
      "3199/3199 - 1s - loss: 0.6231 - accuracy: 0.6214 - precision: 0.6214 - recall: 0.6214 - auc: 0.6731 - val_loss: 0.6367 - val_accuracy: 0.6350 - val_precision: 0.6350 - val_recall: 0.6350 - val_auc: 0.6288\n",
      "Epoch 59/100\n",
      "3199/3199 - 2s - loss: 0.6269 - accuracy: 0.6327 - precision: 0.6327 - recall: 0.6327 - auc: 0.6784 - val_loss: 0.6366 - val_accuracy: 0.6288 - val_precision: 0.6288 - val_recall: 0.6288 - val_auc: 0.6252\n",
      "Epoch 60/100\n",
      "3199/3199 - 2s - loss: 0.6288 - accuracy: 0.6277 - precision: 0.6277 - recall: 0.6277 - auc: 0.6770 - val_loss: 0.6355 - val_accuracy: 0.6375 - val_precision: 0.6375 - val_recall: 0.6375 - val_auc: 0.6290\n",
      "Epoch 61/100\n",
      "3199/3199 - 2s - loss: 0.6226 - accuracy: 0.6336 - precision: 0.6336 - recall: 0.6336 - auc: 0.6834 - val_loss: 0.6340 - val_accuracy: 0.6350 - val_precision: 0.6350 - val_recall: 0.6350 - val_auc: 0.6379\n",
      "Epoch 62/100\n",
      "3199/3199 - 2s - loss: 0.6175 - accuracy: 0.6327 - precision: 0.6327 - recall: 0.6327 - auc: 0.6819 - val_loss: 0.6352 - val_accuracy: 0.6212 - val_precision: 0.6212 - val_recall: 0.6212 - val_auc: 0.6191\n",
      "Epoch 63/100\n",
      "3199/3199 - 2s - loss: 0.6079 - accuracy: 0.6480 - precision: 0.6480 - recall: 0.6480 - auc: 0.7016 - val_loss: 0.6344 - val_accuracy: 0.6313 - val_precision: 0.6313 - val_recall: 0.6313 - val_auc: 0.6270\n",
      "Epoch 64/100\n",
      "3199/3199 - 2s - loss: 0.6125 - accuracy: 0.6368 - precision: 0.6368 - recall: 0.6368 - auc: 0.6873 - val_loss: 0.6334 - val_accuracy: 0.6275 - val_precision: 0.6275 - val_recall: 0.6275 - val_auc: 0.6246\n",
      "Epoch 65/100\n",
      "3199/3199 - 2s - loss: 0.6053 - accuracy: 0.6433 - precision: 0.6433 - recall: 0.6433 - auc: 0.6975 - val_loss: 0.6332 - val_accuracy: 0.6388 - val_precision: 0.6388 - val_recall: 0.6388 - val_auc: 0.6348\n",
      "Epoch 66/100\n",
      "3199/3199 - 2s - loss: 0.5936 - accuracy: 0.6536 - precision: 0.6536 - recall: 0.6536 - auc: 0.7058 - val_loss: 0.6330 - val_accuracy: 0.6400 - val_precision: 0.6400 - val_recall: 0.6400 - val_auc: 0.6351\n",
      "Epoch 67/100\n",
      "3199/3199 - 2s - loss: 0.5941 - accuracy: 0.6640 - precision: 0.6640 - recall: 0.6640 - auc: 0.7075 - val_loss: 0.6333 - val_accuracy: 0.6363 - val_precision: 0.6363 - val_recall: 0.6363 - val_auc: 0.6360\n",
      "Epoch 68/100\n",
      "3199/3199 - 2s - loss: 0.5916 - accuracy: 0.6621 - precision: 0.6621 - recall: 0.6621 - auc: 0.7083 - val_loss: 0.6347 - val_accuracy: 0.6325 - val_precision: 0.6325 - val_recall: 0.6325 - val_auc: 0.6295\n",
      "Epoch 69/100\n",
      "3199/3199 - 2s - loss: 0.5900 - accuracy: 0.6611 - precision: 0.6611 - recall: 0.6611 - auc: 0.7091 - val_loss: 0.6340 - val_accuracy: 0.6363 - val_precision: 0.6363 - val_recall: 0.6363 - val_auc: 0.6361\n",
      "Epoch 70/100\n",
      "3199/3199 - 2s - loss: 0.5897 - accuracy: 0.6596 - precision: 0.6596 - recall: 0.6596 - auc: 0.7138 - val_loss: 0.6330 - val_accuracy: 0.6413 - val_precision: 0.6413 - val_recall: 0.6413 - val_auc: 0.6435\n",
      "Epoch 71/100\n",
      "3199/3199 - 2s - loss: 0.5802 - accuracy: 0.6646 - precision: 0.6646 - recall: 0.6646 - auc: 0.7186 - val_loss: 0.6324 - val_accuracy: 0.6413 - val_precision: 0.6413 - val_recall: 0.6413 - val_auc: 0.6460\n",
      "Epoch 72/100\n",
      "3199/3199 - 1s - loss: 0.5803 - accuracy: 0.6643 - precision: 0.6643 - recall: 0.6643 - auc: 0.7136 - val_loss: 0.6342 - val_accuracy: 0.6425 - val_precision: 0.6425 - val_recall: 0.6425 - val_auc: 0.6404\n",
      "Epoch 73/100\n",
      "3199/3199 - 1s - loss: 0.5867 - accuracy: 0.6643 - precision: 0.6643 - recall: 0.6643 - auc: 0.7118 - val_loss: 0.6328 - val_accuracy: 0.6425 - val_precision: 0.6425 - val_recall: 0.6425 - val_auc: 0.6472\n",
      "Epoch 74/100\n",
      "3199/3199 - 1s - loss: 0.5592 - accuracy: 0.6724 - precision: 0.6724 - recall: 0.6724 - auc: 0.7315 - val_loss: 0.6327 - val_accuracy: 0.6488 - val_precision: 0.6488 - val_recall: 0.6488 - val_auc: 0.6521\n",
      "Epoch 75/100\n",
      "3199/3199 - 1s - loss: 0.5632 - accuracy: 0.6736 - precision: 0.6736 - recall: 0.6736 - auc: 0.7308 - val_loss: 0.6326 - val_accuracy: 0.6538 - val_precision: 0.6538 - val_recall: 0.6538 - val_auc: 0.6602\n",
      "Epoch 76/100\n",
      "3199/3199 - 1s - loss: 0.5618 - accuracy: 0.6696 - precision: 0.6696 - recall: 0.6696 - auc: 0.7272 - val_loss: 0.6341 - val_accuracy: 0.6562 - val_precision: 0.6562 - val_recall: 0.6562 - val_auc: 0.6576\n"
     ]
    },
    {
     "name": "stdout",
     "output_type": "stream",
     "text": [
      "Epoch 77/100\n",
      "3199/3199 - 1s - loss: 0.5683 - accuracy: 0.6752 - precision: 0.6752 - recall: 0.6752 - auc: 0.7288 - val_loss: 0.6338 - val_accuracy: 0.6587 - val_precision: 0.6587 - val_recall: 0.6587 - val_auc: 0.6560\n",
      "Epoch 78/100\n",
      "3199/3199 - 1s - loss: 0.5505 - accuracy: 0.6880 - precision: 0.6880 - recall: 0.6880 - auc: 0.7437 - val_loss: 0.6326 - val_accuracy: 0.6662 - val_precision: 0.6662 - val_recall: 0.6662 - val_auc: 0.6643\n",
      "Epoch 79/100\n",
      "3199/3199 - 1s - loss: 0.5639 - accuracy: 0.6883 - precision: 0.6883 - recall: 0.6883 - auc: 0.7355 - val_loss: 0.6329 - val_accuracy: 0.6587 - val_precision: 0.6587 - val_recall: 0.6587 - val_auc: 0.6598\n",
      "Epoch 80/100\n",
      "3199/3199 - 1s - loss: 0.5421 - accuracy: 0.6905 - precision: 0.6905 - recall: 0.6905 - auc: 0.7488 - val_loss: 0.6318 - val_accuracy: 0.6675 - val_precision: 0.6675 - val_recall: 0.6675 - val_auc: 0.6668\n",
      "Epoch 81/100\n",
      "3199/3199 - 1s - loss: 0.5521 - accuracy: 0.6849 - precision: 0.6849 - recall: 0.6849 - auc: 0.7443 - val_loss: 0.6306 - val_accuracy: 0.6787 - val_precision: 0.6787 - val_recall: 0.6787 - val_auc: 0.6763\n",
      "Epoch 82/100\n",
      "3199/3199 - 1s - loss: 0.5530 - accuracy: 0.6943 - precision: 0.6943 - recall: 0.6943 - auc: 0.7457 - val_loss: 0.6315 - val_accuracy: 0.6762 - val_precision: 0.6762 - val_recall: 0.6762 - val_auc: 0.6788\n",
      "Epoch 83/100\n",
      "3199/3199 - 1s - loss: 0.5286 - accuracy: 0.7033 - precision: 0.7033 - recall: 0.7033 - auc: 0.7666 - val_loss: 0.6317 - val_accuracy: 0.6737 - val_precision: 0.6737 - val_recall: 0.6737 - val_auc: 0.6730\n",
      "Epoch 84/100\n",
      "3199/3199 - 1s - loss: 0.5439 - accuracy: 0.6927 - precision: 0.6927 - recall: 0.6927 - auc: 0.7581 - val_loss: 0.6313 - val_accuracy: 0.6762 - val_precision: 0.6762 - val_recall: 0.6762 - val_auc: 0.6752\n",
      "Epoch 85/100\n",
      "3199/3199 - 1s - loss: 0.5413 - accuracy: 0.6968 - precision: 0.6968 - recall: 0.6968 - auc: 0.7547 - val_loss: 0.6306 - val_accuracy: 0.6787 - val_precision: 0.6787 - val_recall: 0.6787 - val_auc: 0.6855\n",
      "Epoch 86/100\n",
      "3199/3199 - 1s - loss: 0.5228 - accuracy: 0.7027 - precision: 0.7027 - recall: 0.7027 - auc: 0.7629 - val_loss: 0.6306 - val_accuracy: 0.6750 - val_precision: 0.6750 - val_recall: 0.6750 - val_auc: 0.6805\n",
      "Epoch 87/100\n",
      "3199/3199 - 1s - loss: 0.5158 - accuracy: 0.7121 - precision: 0.7121 - recall: 0.7121 - auc: 0.7744 - val_loss: 0.6302 - val_accuracy: 0.6812 - val_precision: 0.6812 - val_recall: 0.6812 - val_auc: 0.6870\n",
      "Epoch 88/100\n",
      "3199/3199 - 1s - loss: 0.5258 - accuracy: 0.7093 - precision: 0.7093 - recall: 0.7093 - auc: 0.7688 - val_loss: 0.6313 - val_accuracy: 0.6725 - val_precision: 0.6725 - val_recall: 0.6725 - val_auc: 0.6820\n",
      "Epoch 89/100\n",
      "3199/3199 - 1s - loss: 0.5180 - accuracy: 0.7105 - precision: 0.7105 - recall: 0.7105 - auc: 0.7769 - val_loss: 0.6324 - val_accuracy: 0.6725 - val_precision: 0.6725 - val_recall: 0.6725 - val_auc: 0.6820\n",
      "Epoch 90/100\n",
      "3199/3199 - 1s - loss: 0.5139 - accuracy: 0.7087 - precision: 0.7087 - recall: 0.7087 - auc: 0.7779 - val_loss: 0.6330 - val_accuracy: 0.6750 - val_precision: 0.6750 - val_recall: 0.6750 - val_auc: 0.6845\n",
      "Epoch 91/100\n",
      "3199/3199 - 1s - loss: 0.5179 - accuracy: 0.7224 - precision: 0.7224 - recall: 0.7224 - auc: 0.7762 - val_loss: 0.6325 - val_accuracy: 0.6787 - val_precision: 0.6787 - val_recall: 0.6787 - val_auc: 0.6818\n",
      "Epoch 92/100\n",
      "3199/3199 - 1s - loss: 0.5266 - accuracy: 0.7205 - precision: 0.7205 - recall: 0.7205 - auc: 0.7772 - val_loss: 0.6331 - val_accuracy: 0.6812 - val_precision: 0.6812 - val_recall: 0.6812 - val_auc: 0.6895\n",
      "Epoch 93/100\n",
      "3199/3199 - 1s - loss: 0.5187 - accuracy: 0.7112 - precision: 0.7112 - recall: 0.7112 - auc: 0.7776 - val_loss: 0.6341 - val_accuracy: 0.6775 - val_precision: 0.6775 - val_recall: 0.6775 - val_auc: 0.6858\n",
      "Epoch 94/100\n",
      "3199/3199 - 1s - loss: 0.5266 - accuracy: 0.7099 - precision: 0.7099 - recall: 0.7099 - auc: 0.7722 - val_loss: 0.6351 - val_accuracy: 0.6750 - val_precision: 0.6750 - val_recall: 0.6750 - val_auc: 0.6888\n",
      "Epoch 95/100\n",
      "3199/3199 - 1s - loss: 0.5070 - accuracy: 0.7224 - precision: 0.7224 - recall: 0.7224 - auc: 0.7843 - val_loss: 0.6347 - val_accuracy: 0.6812 - val_precision: 0.6812 - val_recall: 0.6812 - val_auc: 0.6900\n",
      "Epoch 96/100\n",
      "3199/3199 - 1s - loss: 0.4903 - accuracy: 0.7224 - precision: 0.7224 - recall: 0.7224 - auc: 0.7927 - val_loss: 0.6333 - val_accuracy: 0.6787 - val_precision: 0.6787 - val_recall: 0.6787 - val_auc: 0.6928\n",
      "Epoch 97/100\n",
      "3199/3199 - 1s - loss: 0.4932 - accuracy: 0.7359 - precision: 0.7359 - recall: 0.7359 - auc: 0.7948 - val_loss: 0.6337 - val_accuracy: 0.6837 - val_precision: 0.6837 - val_recall: 0.6837 - val_auc: 0.6949\n",
      "Epoch 98/100\n",
      "3199/3199 - 1s - loss: 0.4956 - accuracy: 0.7249 - precision: 0.7249 - recall: 0.7249 - auc: 0.7887 - val_loss: 0.6350 - val_accuracy: 0.6850 - val_precision: 0.6850 - val_recall: 0.6850 - val_auc: 0.6976\n",
      "Epoch 99/100\n",
      "3199/3199 - 1s - loss: 0.4733 - accuracy: 0.7334 - precision: 0.7334 - recall: 0.7334 - auc: 0.8005 - val_loss: 0.6368 - val_accuracy: 0.6862 - val_precision: 0.6862 - val_recall: 0.6862 - val_auc: 0.7001\n",
      "Epoch 100/100\n",
      "3199/3199 - 1s - loss: 0.4821 - accuracy: 0.7359 - precision: 0.7359 - recall: 0.7359 - auc: 0.8003 - val_loss: 0.6389 - val_accuracy: 0.6875 - val_precision: 0.6875 - val_recall: 0.6875 - val_auc: 0.7008\n"
     ]
    },
    {
     "data": {
      "text/plain": [
       "FeatureExtractedClassifier(activation='relu', batch_size=16,\n",
       "                           class_weight={0: 2.81, 1: 0.61}, epochs=100,\n",
       "                           is_multi_label=False,\n",
       "                           loss='categorical_crossentropy',\n",
       "                           metrics=[<tensorflow.python.keras.metrics.BinaryAccuracy object at 0x0000015F20EF69B0>,\n",
       "                                    <tensorflow.python.keras.metrics.Precision object at 0x0000015F20F15240>,\n",
       "                                    <tensorflow.python.keras.metrics.Recall object at 0x0000015F20F15550>,\n",
       "                                    <tensorflow.python.keras.metrics.AUC object at 0x0000015F20F15940>],\n",
       "                           optimizer=<tensorflow.python.keras.optimizer_v2.adam.Adam object at 0x0000015F288CB2E8>,\n",
       "                           output_activation='softmax', validation_split=0.2)"
      ]
     },
     "execution_count": 9,
     "metadata": {},
     "output_type": "execute_result"
    }
   ],
   "source": [
    "clf.fit(X_train, y_train)"
   ]
  },
  {
   "cell_type": "code",
   "execution_count": 10,
   "metadata": {},
   "outputs": [
    {
     "name": "stdout",
     "output_type": "stream",
     "text": [
      "loss : 0.6183\n",
      "accuracy : 0.7010\n",
      "precision : 0.7010\n",
      "recall : 0.7010\n",
      "auc : 0.7319\n"
     ]
    },
    {
     "data": {
      "image/png": "[encoded data removed]",
      "text/plain": [
       "<Figure size 432x288 with 4 Axes>"
      ]
     },
     "metadata": {
      "needs_background": "light"
     },
     "output_type": "display_data"
    }
   ],
   "source": [
    "# Evaluation\n",
    "\n",
    "plot_metrics(clf.history)\n",
    "\n",
    "results = clf.history.model.evaluate(X_test, y_test, verbose=0)\n",
    "for name, value in zip(clf.history.model.metrics_names, results):\n",
    "    print(f\"{name} : {value:.4f}\")"
   ]
  },
  {
   "cell_type": "code",
   "execution_count": 11,
   "metadata": {},
   "outputs": [
    {
     "name": "stdout",
     "output_type": "stream",
     "text": [
      "              precision    recall  f1-score   support\n",
      "\n",
      "           0       0.30      0.51      0.38       178\n",
      "           1       0.88      0.74      0.80       822\n",
      "\n",
      "    accuracy                           0.70      1000\n",
      "   macro avg       0.59      0.63      0.59      1000\n",
      "weighted avg       0.77      0.70      0.73      1000\n",
      "\n"
     ]
    },
    {
     "data": {
      "image/png": "[encoded data removed]",
      "text/plain": [
       "<Figure size 360x360 with 2 Axes>"
      ]
     },
     "metadata": {
      "needs_background": "light"
     },
     "output_type": "display_data"
    }
   ],
   "source": [
    "test_pred = clf.predict(X_test)\n",
    "plot_cm(y_test, test_pred)\n",
    "plt.show()"
   ]
  },
  {
   "cell_type": "code",
   "execution_count": 9,
   "metadata": {},
   "outputs": [],
   "source": [
    "# save model1\n",
    "# clf.history.model.save(\"saved_models/model1.h5\")"
   ]
  },
  {
   "cell_type": "markdown",
   "metadata": {},
   "source": [
    "# Model2"
   ]
  },
  {
   "cell_type": "code",
   "execution_count": 10,
   "metadata": {},
   "outputs": [],
   "source": [
    "X_train, X_test, y_train, y_test = fetch_single_label_data(\n",
    "    get_extracted_features=False)"
   ]
  },
  {
   "cell_type": "code",
   "execution_count": 11,
   "metadata": {},
   "outputs": [],
   "source": [
    "clf2 = SmilePredictor(epochs=150,\n",
    "                      batch_size=16,\n",
    "                      loss='binary_crossentropy',\n",
    "                      optimizer=tf.keras.optimizers.SGD(learning_rate=0.001,\n",
    "                                                        momentum=0.0,\n",
    "                                                        nesterov=False),\n",
    "                      metrics=METRICS,\n",
    "                      class_weight=class_weight,\n",
    "                      validation_split=0.2\n",
    "                      )"
   ]
  },
  {
   "cell_type": "code",
   "execution_count": 12,
   "metadata": {
    "scrolled": true
   },
   "outputs": [
    {
     "name": "stdout",
     "output_type": "stream",
     "text": [
      "Train on 3199 samples, validate on 800 samples\n",
      "Epoch 1/150\n",
      "3199/3199 - 5s - loss: 0.6982 - accuracy: 0.2332 - precision: 0.9200 - recall: 0.0702 - auc: 0.5469 - val_loss: 0.6767 - val_accuracy: 0.4725 - val_precision: 0.8882 - val_recall: 0.4180 - val_auc: 0.5767\n",
      "Epoch 2/150\n",
      "3199/3199 - 2s - loss: 0.6950 - accuracy: 0.3914 - precision: 0.8562 - recall: 0.3090 - auc: 0.5538 - val_loss: 0.6756 - val_accuracy: 0.4663 - val_precision: 0.8814 - val_recall: 0.4135 - val_auc: 0.5803\n",
      "Epoch 3/150\n",
      "3199/3199 - 3s - loss: 0.6943 - accuracy: 0.4598 - precision: 0.8604 - recall: 0.4067 - auc: 0.5538 - val_loss: 0.6744 - val_accuracy: 0.4900 - val_precision: 0.8768 - val_recall: 0.4496 - val_auc: 0.5827\n",
      "Epoch 4/150\n",
      "3199/3199 - 3s - loss: 0.6929 - accuracy: 0.4942 - precision: 0.8559 - recall: 0.4601 - auc: 0.5604 - val_loss: 0.6740 - val_accuracy: 0.4688 - val_precision: 0.8822 - val_recall: 0.4165 - val_auc: 0.5873\n",
      "Epoch 5/150\n",
      "3199/3199 - 2s - loss: 0.6921 - accuracy: 0.4605 - precision: 0.8543 - recall: 0.4117 - auc: 0.5659 - val_loss: 0.6734 - val_accuracy: 0.4675 - val_precision: 0.8818 - val_recall: 0.4150 - val_auc: 0.5954\n",
      "Epoch 6/150\n",
      "3199/3199 - 2s - loss: 0.6917 - accuracy: 0.5098 - precision: 0.8579 - recall: 0.4815 - auc: 0.5683 - val_loss: 0.6723 - val_accuracy: 0.4900 - val_precision: 0.8791 - val_recall: 0.4481 - val_auc: 0.5956\n",
      "Epoch 7/150\n",
      "3199/3199 - 2s - loss: 0.6905 - accuracy: 0.4989 - precision: 0.8610 - recall: 0.4632 - auc: 0.5758 - val_loss: 0.6710 - val_accuracy: 0.5312 - val_precision: 0.8796 - val_recall: 0.5053 - val_auc: 0.5956\n",
      "Epoch 8/150\n",
      "3199/3199 - 3s - loss: 0.6894 - accuracy: 0.4933 - precision: 0.8650 - recall: 0.4521 - auc: 0.5777 - val_loss: 0.6709 - val_accuracy: 0.4975 - val_precision: 0.8812 - val_recall: 0.4571 - val_auc: 0.5996\n",
      "Epoch 9/150\n",
      "3199/3199 - 3s - loss: 0.6902 - accuracy: 0.5177 - precision: 0.8518 - recall: 0.4979 - auc: 0.5751 - val_loss: 0.6705 - val_accuracy: 0.4988 - val_precision: 0.8837 - val_recall: 0.4571 - val_auc: 0.6015\n",
      "Epoch 10/150\n",
      "3199/3199 - 2s - loss: 0.6910 - accuracy: 0.5052 - precision: 0.8569 - recall: 0.4754 - auc: 0.5704 - val_loss: 0.6697 - val_accuracy: 0.5125 - val_precision: 0.8830 - val_recall: 0.4767 - val_auc: 0.6061\n",
      "Epoch 11/150\n",
      "3199/3199 - 2s - loss: 0.6899 - accuracy: 0.5089 - precision: 0.8543 - recall: 0.4830 - auc: 0.5780 - val_loss: 0.6694 - val_accuracy: 0.5075 - val_precision: 0.8860 - val_recall: 0.4677 - val_auc: 0.6103\n",
      "Epoch 12/150\n",
      "3199/3199 - 2s - loss: 0.6888 - accuracy: 0.5030 - precision: 0.8623 - recall: 0.4681 - auc: 0.5840 - val_loss: 0.6682 - val_accuracy: 0.5525 - val_precision: 0.8828 - val_recall: 0.5323 - val_auc: 0.6103\n",
      "Epoch 13/150\n",
      "3199/3199 - 2s - loss: 0.6884 - accuracy: 0.5511 - precision: 0.8542 - recall: 0.5452 - auc: 0.5873 - val_loss: 0.6676 - val_accuracy: 0.5562 - val_precision: 0.8818 - val_recall: 0.5383 - val_auc: 0.6132\n",
      "Epoch 14/150\n",
      "3199/3199 - 2s - loss: 0.6874 - accuracy: 0.5077 - precision: 0.8612 - recall: 0.4758 - auc: 0.5925 - val_loss: 0.6676 - val_accuracy: 0.5288 - val_precision: 0.8850 - val_recall: 0.4977 - val_auc: 0.6171\n",
      "Epoch 15/150\n",
      "3199/3199 - 2s - loss: 0.6876 - accuracy: 0.5405 - precision: 0.8577 - recall: 0.5265 - auc: 0.5905 - val_loss: 0.6674 - val_accuracy: 0.5138 - val_precision: 0.8833 - val_recall: 0.4782 - val_auc: 0.6200\n",
      "Epoch 16/150\n",
      "3199/3199 - 2s - loss: 0.6858 - accuracy: 0.5311 - precision: 0.8661 - recall: 0.5059 - auc: 0.6018 - val_loss: 0.6663 - val_accuracy: 0.5475 - val_precision: 0.8835 - val_recall: 0.5248 - val_auc: 0.6194\n",
      "Epoch 17/150\n",
      "3199/3199 - 2s - loss: 0.6861 - accuracy: 0.5508 - precision: 0.8632 - recall: 0.5368 - auc: 0.5970 - val_loss: 0.6666 - val_accuracy: 0.5088 - val_precision: 0.8864 - val_recall: 0.4692 - val_auc: 0.6227\n",
      "Epoch 18/150\n",
      "3199/3199 - 2s - loss: 0.6857 - accuracy: 0.5374 - precision: 0.8655 - recall: 0.5155 - auc: 0.6006 - val_loss: 0.6659 - val_accuracy: 0.5200 - val_precision: 0.8849 - val_recall: 0.4857 - val_auc: 0.6248\n",
      "Epoch 19/150\n",
      "3199/3199 - 2s - loss: 0.6853 - accuracy: 0.5449 - precision: 0.8666 - recall: 0.5254 - auc: 0.6010 - val_loss: 0.6661 - val_accuracy: 0.4975 - val_precision: 0.8973 - val_recall: 0.4466 - val_auc: 0.6262\n",
      "Epoch 20/150\n",
      "3199/3199 - 2s - loss: 0.6840 - accuracy: 0.5277 - precision: 0.8695 - recall: 0.4983 - auc: 0.6094 - val_loss: 0.6648 - val_accuracy: 0.5387 - val_precision: 0.8895 - val_recall: 0.5083 - val_auc: 0.6289\n",
      "Epoch 21/150\n",
      "3199/3199 - 2s - loss: 0.6860 - accuracy: 0.5208 - precision: 0.8726 - recall: 0.4861 - auc: 0.5978 - val_loss: 0.6640 - val_accuracy: 0.5675 - val_precision: 0.8900 - val_recall: 0.5474 - val_auc: 0.6293\n",
      "Epoch 22/150\n",
      "3199/3199 - 2s - loss: 0.6845 - accuracy: 0.5561 - precision: 0.8695 - recall: 0.5391 - auc: 0.6046 - val_loss: 0.6635 - val_accuracy: 0.5763 - val_precision: 0.8881 - val_recall: 0.5609 - val_auc: 0.6296\n",
      "Epoch 23/150\n",
      "3199/3199 - 2s - loss: 0.6844 - accuracy: 0.5455 - precision: 0.8663 - recall: 0.5265 - auc: 0.6043 - val_loss: 0.6630 - val_accuracy: 0.5813 - val_precision: 0.8873 - val_recall: 0.5684 - val_auc: 0.6302\n",
      "Epoch 24/150\n",
      "3199/3199 - 2s - loss: 0.6844 - accuracy: 0.5411 - precision: 0.8684 - recall: 0.5185 - auc: 0.6067 - val_loss: 0.6633 - val_accuracy: 0.5450 - val_precision: 0.8930 - val_recall: 0.5143 - val_auc: 0.6339\n",
      "Epoch 25/150\n",
      "3199/3199 - 2s - loss: 0.6844 - accuracy: 0.5380 - precision: 0.8694 - recall: 0.5132 - auc: 0.6059 - val_loss: 0.6624 - val_accuracy: 0.5738 - val_precision: 0.8894 - val_recall: 0.5564 - val_auc: 0.6358\n",
      "Epoch 26/150\n",
      "3199/3199 - 2s - loss: 0.6844 - accuracy: 0.5574 - precision: 0.8658 - recall: 0.5441 - auc: 0.6091 - val_loss: 0.6620 - val_accuracy: 0.5800 - val_precision: 0.8907 - val_recall: 0.5639 - val_auc: 0.6374\n",
      "Epoch 27/150\n",
      "3199/3199 - 2s - loss: 0.6819 - accuracy: 0.5474 - precision: 0.8710 - recall: 0.5254 - auc: 0.6188 - val_loss: 0.6617 - val_accuracy: 0.5788 - val_precision: 0.8961 - val_recall: 0.5579 - val_auc: 0.6379\n",
      "Epoch 28/150\n",
      "3199/3199 - 2s - loss: 0.6824 - accuracy: 0.5499 - precision: 0.8679 - recall: 0.5315 - auc: 0.6147 - val_loss: 0.6614 - val_accuracy: 0.5775 - val_precision: 0.8959 - val_recall: 0.5564 - val_auc: 0.6387\n",
      "Epoch 29/150\n",
      "3199/3199 - 2s - loss: 0.6824 - accuracy: 0.5605 - precision: 0.8698 - recall: 0.5452 - auc: 0.6169 - val_loss: 0.6614 - val_accuracy: 0.5587 - val_precision: 0.9000 - val_recall: 0.5278 - val_auc: 0.6392\n",
      "Epoch 30/150\n",
      "3199/3199 - 2s - loss: 0.6812 - accuracy: 0.5455 - precision: 0.8738 - recall: 0.5204 - auc: 0.6185 - val_loss: 0.6609 - val_accuracy: 0.5725 - val_precision: 0.8968 - val_recall: 0.5489 - val_auc: 0.6416\n",
      "Epoch 31/150\n",
      "3199/3199 - 2s - loss: 0.6821 - accuracy: 0.5808 - precision: 0.8682 - recall: 0.5757 - auc: 0.6181 - val_loss: 0.6608 - val_accuracy: 0.5625 - val_precision: 0.9049 - val_recall: 0.5293 - val_auc: 0.6410\n",
      "Epoch 32/150\n",
      "3199/3199 - 2s - loss: 0.6804 - accuracy: 0.5580 - precision: 0.8784 - recall: 0.5345 - auc: 0.6236 - val_loss: 0.6606 - val_accuracy: 0.5575 - val_precision: 0.9060 - val_recall: 0.5218 - val_auc: 0.6405\n",
      "Epoch 33/150\n",
      "3199/3199 - 2s - loss: 0.6812 - accuracy: 0.5430 - precision: 0.8703 - recall: 0.5196 - auc: 0.6183 - val_loss: 0.6599 - val_accuracy: 0.5775 - val_precision: 0.8978 - val_recall: 0.5549 - val_auc: 0.6416\n",
      "Epoch 34/150\n",
      "3199/3199 - 2s - loss: 0.6809 - accuracy: 0.5636 - precision: 0.8674 - recall: 0.5517 - auc: 0.6175 - val_loss: 0.6598 - val_accuracy: 0.5663 - val_precision: 0.9056 - val_recall: 0.5338 - val_auc: 0.6443\n",
      "Epoch 35/150\n",
      "3199/3199 - 2s - loss: 0.6803 - accuracy: 0.5486 - precision: 0.8722 - recall: 0.5261 - auc: 0.6231 - val_loss: 0.6591 - val_accuracy: 0.5938 - val_precision: 0.8953 - val_recall: 0.5789 - val_auc: 0.6440\n",
      "Epoch 36/150\n",
      "3199/3199 - 2s - loss: 0.6804 - accuracy: 0.5602 - precision: 0.8770 - recall: 0.5387 - auc: 0.6214 - val_loss: 0.6587 - val_accuracy: 0.5962 - val_precision: 0.8904 - val_recall: 0.5865 - val_auc: 0.6467\n",
      "Epoch 37/150\n",
      "3199/3199 - 2s - loss: 0.6798 - accuracy: 0.5702 - precision: 0.8767 - recall: 0.5532 - auc: 0.6250 - val_loss: 0.6587 - val_accuracy: 0.5800 - val_precision: 0.9002 - val_recall: 0.5564 - val_auc: 0.6482\n",
      "Epoch 38/150\n",
      "3199/3199 - 2s - loss: 0.6805 - accuracy: 0.5489 - precision: 0.8761 - recall: 0.5235 - auc: 0.6222 - val_loss: 0.6581 - val_accuracy: 0.5913 - val_precision: 0.8949 - val_recall: 0.5759 - val_auc: 0.6508\n"
     ]
    },
    {
     "name": "stdout",
     "output_type": "stream",
     "text": [
      "Epoch 39/150\n",
      "3199/3199 - 2s - loss: 0.6790 - accuracy: 0.5464 - precision: 0.8721 - recall: 0.5231 - auc: 0.6258 - val_loss: 0.6574 - val_accuracy: 0.6150 - val_precision: 0.8940 - val_recall: 0.6090 - val_auc: 0.6507\n",
      "Epoch 40/150\n",
      "3199/3199 - 2s - loss: 0.6793 - accuracy: 0.6099 - precision: 0.8650 - recall: 0.6208 - auc: 0.6260 - val_loss: 0.6593 - val_accuracy: 0.5175 - val_precision: 0.9020 - val_recall: 0.4707 - val_auc: 0.6519\n",
      "Epoch 41/150\n",
      "3199/3199 - 2s - loss: 0.6793 - accuracy: 0.5599 - precision: 0.8719 - recall: 0.5425 - auc: 0.6247 - val_loss: 0.6584 - val_accuracy: 0.5288 - val_precision: 0.9045 - val_recall: 0.4842 - val_auc: 0.6535\n",
      "Epoch 42/150\n",
      "3199/3199 - 2s - loss: 0.6782 - accuracy: 0.5686 - precision: 0.8772 - recall: 0.5506 - auc: 0.6290 - val_loss: 0.6578 - val_accuracy: 0.5487 - val_precision: 0.9064 - val_recall: 0.5098 - val_auc: 0.6544\n",
      "Epoch 43/150\n",
      "3199/3199 - 2s - loss: 0.6784 - accuracy: 0.5442 - precision: 0.8749 - recall: 0.5177 - auc: 0.6277 - val_loss: 0.6572 - val_accuracy: 0.5575 - val_precision: 0.8997 - val_recall: 0.5263 - val_auc: 0.6572\n",
      "Epoch 44/150\n",
      "3199/3199 - 2s - loss: 0.6780 - accuracy: 0.5739 - precision: 0.8749 - recall: 0.5601 - auc: 0.6311 - val_loss: 0.6562 - val_accuracy: 0.5938 - val_precision: 0.9009 - val_recall: 0.5744 - val_auc: 0.6576\n",
      "Epoch 45/150\n",
      "3199/3199 - 2s - loss: 0.6779 - accuracy: 0.5702 - precision: 0.8700 - recall: 0.5589 - auc: 0.6295 - val_loss: 0.6558 - val_accuracy: 0.5975 - val_precision: 0.9016 - val_recall: 0.5789 - val_auc: 0.6574\n",
      "Epoch 46/150\n",
      "3199/3199 - 3s - loss: 0.6780 - accuracy: 0.5599 - precision: 0.8793 - recall: 0.5364 - auc: 0.6293 - val_loss: 0.6562 - val_accuracy: 0.5725 - val_precision: 0.9007 - val_recall: 0.5459 - val_auc: 0.6606\n",
      "Epoch 47/150\n",
      "3199/3199 - 2s - loss: 0.6777 - accuracy: 0.5783 - precision: 0.8719 - recall: 0.5689 - auc: 0.6313 - val_loss: 0.6551 - val_accuracy: 0.6200 - val_precision: 0.9020 - val_recall: 0.6090 - val_auc: 0.6601\n",
      "Epoch 48/150\n",
      "3199/3199 - 2s - loss: 0.6771 - accuracy: 0.5611 - precision: 0.8815 - recall: 0.5364 - auc: 0.6337 - val_loss: 0.6545 - val_accuracy: 0.6413 - val_precision: 0.8921 - val_recall: 0.6466 - val_auc: 0.6586\n",
      "Epoch 49/150\n",
      "3199/3199 - 2s - loss: 0.6782 - accuracy: 0.5792 - precision: 0.8739 - recall: 0.5685 - auc: 0.6299 - val_loss: 0.6552 - val_accuracy: 0.5850 - val_precision: 0.9031 - val_recall: 0.5609 - val_auc: 0.6638\n",
      "Epoch 50/150\n",
      "3199/3199 - 2s - loss: 0.6760 - accuracy: 0.5630 - precision: 0.8791 - recall: 0.5410 - auc: 0.6402 - val_loss: 0.6541 - val_accuracy: 0.6300 - val_precision: 0.9002 - val_recall: 0.6241 - val_auc: 0.6623\n",
      "Epoch 51/150\n",
      "3199/3199 - 2s - loss: 0.6778 - accuracy: 0.5780 - precision: 0.8714 - recall: 0.5689 - auc: 0.6298 - val_loss: 0.6543 - val_accuracy: 0.6087 - val_precision: 0.9055 - val_recall: 0.5910 - val_auc: 0.6641\n",
      "Epoch 52/150\n",
      "3199/3199 - 2s - loss: 0.6758 - accuracy: 0.5783 - precision: 0.8777 - recall: 0.5639 - auc: 0.6390 - val_loss: 0.6538 - val_accuracy: 0.6200 - val_precision: 0.9038 - val_recall: 0.6075 - val_auc: 0.6641\n",
      "Epoch 53/150\n",
      "3199/3199 - 2s - loss: 0.6765 - accuracy: 0.5883 - precision: 0.8705 - recall: 0.5845 - auc: 0.6372 - val_loss: 0.6535 - val_accuracy: 0.6200 - val_precision: 0.9020 - val_recall: 0.6090 - val_auc: 0.6651\n",
      "Epoch 54/150\n",
      "3199/3199 - 2s - loss: 0.6764 - accuracy: 0.5839 - precision: 0.8741 - recall: 0.5750 - auc: 0.6338 - val_loss: 0.6542 - val_accuracy: 0.5688 - val_precision: 0.9020 - val_recall: 0.5398 - val_auc: 0.6642\n",
      "Epoch 55/150\n",
      "3199/3199 - 2s - loss: 0.6755 - accuracy: 0.5633 - precision: 0.8768 - recall: 0.5433 - auc: 0.6381 - val_loss: 0.6534 - val_accuracy: 0.5850 - val_precision: 0.9012 - val_recall: 0.5624 - val_auc: 0.6655\n",
      "Epoch 56/150\n",
      "3199/3199 - 2s - loss: 0.6745 - accuracy: 0.5696 - precision: 0.8774 - recall: 0.5517 - auc: 0.6401 - val_loss: 0.6540 - val_accuracy: 0.5575 - val_precision: 0.9018 - val_recall: 0.5248 - val_auc: 0.6668\n",
      "Epoch 57/150\n",
      "3199/3199 - 2s - loss: 0.6737 - accuracy: 0.5871 - precision: 0.8842 - recall: 0.5708 - auc: 0.6441 - val_loss: 0.6524 - val_accuracy: 0.6125 - val_precision: 0.9007 - val_recall: 0.6000 - val_auc: 0.6666\n",
      "Epoch 58/150\n",
      "3199/3199 - 2s - loss: 0.6757 - accuracy: 0.5955 - precision: 0.8709 - recall: 0.5944 - auc: 0.6368 - val_loss: 0.6528 - val_accuracy: 0.5850 - val_precision: 0.9031 - val_recall: 0.5609 - val_auc: 0.6689\n",
      "Epoch 59/150\n",
      "3199/3199 - 2s - loss: 0.6752 - accuracy: 0.5624 - precision: 0.8766 - recall: 0.5422 - auc: 0.6357 - val_loss: 0.6519 - val_accuracy: 0.6225 - val_precision: 0.9024 - val_recall: 0.6120 - val_auc: 0.6665\n",
      "Epoch 60/150\n",
      "3199/3199 - 2s - loss: 0.6752 - accuracy: 0.5821 - precision: 0.8754 - recall: 0.5712 - auc: 0.6368 - val_loss: 0.6523 - val_accuracy: 0.5838 - val_precision: 0.9029 - val_recall: 0.5594 - val_auc: 0.6698\n",
      "Epoch 61/150\n",
      "3199/3199 - 2s - loss: 0.6754 - accuracy: 0.5761 - precision: 0.8718 - recall: 0.5658 - auc: 0.6360 - val_loss: 0.6520 - val_accuracy: 0.5875 - val_precision: 0.8998 - val_recall: 0.5669 - val_auc: 0.6716\n",
      "Epoch 62/150\n",
      "3199/3199 - 2s - loss: 0.6746 - accuracy: 0.5802 - precision: 0.8777 - recall: 0.5666 - auc: 0.6379 - val_loss: 0.6520 - val_accuracy: 0.5775 - val_precision: 0.9037 - val_recall: 0.5504 - val_auc: 0.6716\n",
      "Epoch 63/150\n",
      "3199/3199 - 2s - loss: 0.6732 - accuracy: 0.5927 - precision: 0.8779 - recall: 0.5841 - auc: 0.6451 - val_loss: 0.6509 - val_accuracy: 0.6200 - val_precision: 0.9020 - val_recall: 0.6090 - val_auc: 0.6703\n",
      "Epoch 64/150\n",
      "3199/3199 - 2s - loss: 0.6730 - accuracy: 0.5721 - precision: 0.8785 - recall: 0.5544 - auc: 0.6444 - val_loss: 0.6507 - val_accuracy: 0.6212 - val_precision: 0.9004 - val_recall: 0.6120 - val_auc: 0.6718\n",
      "Epoch 65/150\n",
      "3199/3199 - 2s - loss: 0.6742 - accuracy: 0.5949 - precision: 0.8775 - recall: 0.5876 - auc: 0.6437 - val_loss: 0.6506 - val_accuracy: 0.6075 - val_precision: 0.8998 - val_recall: 0.5940 - val_auc: 0.6732\n",
      "Epoch 66/150\n",
      "3199/3199 - 2s - loss: 0.6729 - accuracy: 0.5833 - precision: 0.8797 - recall: 0.5692 - auc: 0.6442 - val_loss: 0.6507 - val_accuracy: 0.5913 - val_precision: 0.8986 - val_recall: 0.5729 - val_auc: 0.6738\n",
      "Epoch 67/150\n",
      "3199/3199 - 2s - loss: 0.6734 - accuracy: 0.5758 - precision: 0.8735 - recall: 0.5639 - auc: 0.6409 - val_loss: 0.6499 - val_accuracy: 0.6237 - val_precision: 0.8974 - val_recall: 0.6180 - val_auc: 0.6726\n",
      "Epoch 68/150\n",
      "3199/3199 - 2s - loss: 0.6724 - accuracy: 0.5721 - precision: 0.8789 - recall: 0.5540 - auc: 0.6472 - val_loss: 0.6491 - val_accuracy: 0.6712 - val_precision: 0.8972 - val_recall: 0.6827 - val_auc: 0.6743\n",
      "Epoch 69/150\n",
      "3199/3199 - 2s - loss: 0.6726 - accuracy: 0.5971 - precision: 0.8823 - recall: 0.5864 - auc: 0.6453 - val_loss: 0.6491 - val_accuracy: 0.6550 - val_precision: 0.9010 - val_recall: 0.6571 - val_auc: 0.6735\n",
      "Epoch 70/150\n",
      "3199/3199 - 2s - loss: 0.6719 - accuracy: 0.5949 - precision: 0.8784 - recall: 0.5868 - auc: 0.6488 - val_loss: 0.6495 - val_accuracy: 0.6212 - val_precision: 0.9004 - val_recall: 0.6120 - val_auc: 0.6731\n",
      "Epoch 71/150\n",
      "3199/3199 - 2s - loss: 0.6727 - accuracy: 0.5930 - precision: 0.8758 - recall: 0.5864 - auc: 0.6418 - val_loss: 0.6496 - val_accuracy: 0.5975 - val_precision: 0.8979 - val_recall: 0.5820 - val_auc: 0.6761\n",
      "Epoch 72/150\n",
      "3199/3199 - 2s - loss: 0.6732 - accuracy: 0.5880 - precision: 0.8821 - recall: 0.5738 - auc: 0.6425 - val_loss: 0.6497 - val_accuracy: 0.5888 - val_precision: 0.9000 - val_recall: 0.5684 - val_auc: 0.6756\n",
      "Epoch 73/150\n",
      "3199/3199 - 2s - loss: 0.6717 - accuracy: 0.5864 - precision: 0.8734 - recall: 0.5792 - auc: 0.6475 - val_loss: 0.6497 - val_accuracy: 0.5800 - val_precision: 0.9002 - val_recall: 0.5564 - val_auc: 0.6772\n",
      "Epoch 74/150\n",
      "3199/3199 - 2s - loss: 0.6723 - accuracy: 0.5896 - precision: 0.8737 - recall: 0.5834 - auc: 0.6447 - val_loss: 0.6498 - val_accuracy: 0.5675 - val_precision: 0.8997 - val_recall: 0.5398 - val_auc: 0.6795\n",
      "Epoch 75/150\n",
      "3199/3199 - 2s - loss: 0.6700 - accuracy: 0.5661 - precision: 0.8794 - recall: 0.5452 - auc: 0.6546 - val_loss: 0.6478 - val_accuracy: 0.6413 - val_precision: 0.9004 - val_recall: 0.6391 - val_auc: 0.6765\n",
      "Epoch 76/150\n",
      "3199/3199 - 2s - loss: 0.6720 - accuracy: 0.6093 - precision: 0.8789 - recall: 0.6066 - auc: 0.6480 - val_loss: 0.6484 - val_accuracy: 0.5962 - val_precision: 0.8995 - val_recall: 0.5789 - val_auc: 0.6794\n"
     ]
    },
    {
     "name": "stdout",
     "output_type": "stream",
     "text": [
      "Epoch 77/150\n",
      "3199/3199 - 2s - loss: 0.6709 - accuracy: 0.5777 - precision: 0.8753 - recall: 0.5651 - auc: 0.6499 - val_loss: 0.6490 - val_accuracy: 0.5663 - val_precision: 0.9015 - val_recall: 0.5368 - val_auc: 0.6802\n",
      "Epoch 78/150\n",
      "3199/3199 - 2s - loss: 0.6715 - accuracy: 0.5952 - precision: 0.8771 - recall: 0.5883 - auc: 0.6493 - val_loss: 0.6482 - val_accuracy: 0.5900 - val_precision: 0.8983 - val_recall: 0.5714 - val_auc: 0.6805\n",
      "Epoch 79/150\n",
      "3199/3199 - 2s - loss: 0.6713 - accuracy: 0.5811 - precision: 0.8792 - recall: 0.5666 - auc: 0.6476 - val_loss: 0.6473 - val_accuracy: 0.6125 - val_precision: 0.8971 - val_recall: 0.6030 - val_auc: 0.6802\n",
      "Epoch 80/150\n",
      "3199/3199 - 2s - loss: 0.6714 - accuracy: 0.5849 - precision: 0.8774 - recall: 0.5734 - auc: 0.6471 - val_loss: 0.6469 - val_accuracy: 0.6438 - val_precision: 0.9008 - val_recall: 0.6421 - val_auc: 0.6786\n",
      "Epoch 81/150\n",
      "3199/3199 - 2s - loss: 0.6694 - accuracy: 0.6058 - precision: 0.8812 - recall: 0.5998 - auc: 0.6537 - val_loss: 0.6468 - val_accuracy: 0.6250 - val_precision: 0.8976 - val_recall: 0.6195 - val_auc: 0.6805\n",
      "Epoch 82/150\n",
      "3199/3199 - 2s - loss: 0.6712 - accuracy: 0.5846 - precision: 0.8778 - recall: 0.5727 - auc: 0.6482 - val_loss: 0.6471 - val_accuracy: 0.6037 - val_precision: 0.8955 - val_recall: 0.5925 - val_auc: 0.6812\n",
      "Epoch 83/150\n",
      "3199/3199 - 2s - loss: 0.6699 - accuracy: 0.6021 - precision: 0.8847 - recall: 0.5914 - auc: 0.6519 - val_loss: 0.6468 - val_accuracy: 0.6062 - val_precision: 0.8977 - val_recall: 0.5940 - val_auc: 0.6823\n",
      "Epoch 84/150\n",
      "3199/3199 - 3s - loss: 0.6698 - accuracy: 0.6005 - precision: 0.8762 - recall: 0.5967 - auc: 0.6507 - val_loss: 0.6475 - val_accuracy: 0.5738 - val_precision: 0.8990 - val_recall: 0.5489 - val_auc: 0.6829\n",
      "Epoch 85/150\n",
      "3199/3199 - 3s - loss: 0.6691 - accuracy: 0.5936 - precision: 0.8847 - recall: 0.5795 - auc: 0.6566 - val_loss: 0.6459 - val_accuracy: 0.6325 - val_precision: 0.8989 - val_recall: 0.6286 - val_auc: 0.6824\n",
      "Epoch 86/150\n",
      "3199/3199 - 2s - loss: 0.6697 - accuracy: 0.5983 - precision: 0.8761 - recall: 0.5937 - auc: 0.6536 - val_loss: 0.6461 - val_accuracy: 0.6100 - val_precision: 0.8966 - val_recall: 0.6000 - val_auc: 0.6833\n",
      "Epoch 87/150\n",
      "3199/3199 - 2s - loss: 0.6690 - accuracy: 0.5936 - precision: 0.8781 - recall: 0.5853 - auc: 0.6523 - val_loss: 0.6473 - val_accuracy: 0.5688 - val_precision: 0.8980 - val_recall: 0.5429 - val_auc: 0.6835\n",
      "Epoch 88/150\n",
      "3199/3199 - 2s - loss: 0.6692 - accuracy: 0.6018 - precision: 0.8799 - recall: 0.5952 - auc: 0.6548 - val_loss: 0.6477 - val_accuracy: 0.5562 - val_precision: 0.9058 - val_recall: 0.5203 - val_auc: 0.6849\n",
      "Epoch 89/150\n",
      "3199/3199 - 2s - loss: 0.6690 - accuracy: 0.6008 - precision: 0.8805 - recall: 0.5933 - auc: 0.6549 - val_loss: 0.6466 - val_accuracy: 0.5763 - val_precision: 0.8995 - val_recall: 0.5519 - val_auc: 0.6846\n",
      "Epoch 90/150\n",
      "3199/3199 - 2s - loss: 0.6700 - accuracy: 0.5842 - precision: 0.8799 - recall: 0.5704 - auc: 0.6523 - val_loss: 0.6450 - val_accuracy: 0.6250 - val_precision: 0.8976 - val_recall: 0.6195 - val_auc: 0.6848\n",
      "Epoch 91/150\n",
      "3199/3199 - 2s - loss: 0.6675 - accuracy: 0.5877 - precision: 0.8794 - recall: 0.5757 - auc: 0.6585 - val_loss: 0.6447 - val_accuracy: 0.6300 - val_precision: 0.8985 - val_recall: 0.6256 - val_auc: 0.6849\n",
      "Epoch 92/150\n",
      "3199/3199 - 2s - loss: 0.6700 - accuracy: 0.5821 - precision: 0.8790 - recall: 0.5681 - auc: 0.6515 - val_loss: 0.6441 - val_accuracy: 0.6812 - val_precision: 0.9004 - val_recall: 0.6932 - val_auc: 0.6847\n",
      "Epoch 93/150\n",
      "3199/3199 - 2s - loss: 0.6681 - accuracy: 0.6080 - precision: 0.8816 - recall: 0.6024 - auc: 0.6576 - val_loss: 0.6441 - val_accuracy: 0.6612 - val_precision: 0.8988 - val_recall: 0.6677 - val_auc: 0.6849\n",
      "Epoch 94/150\n",
      "3199/3199 - 2s - loss: 0.6686 - accuracy: 0.6089 - precision: 0.8780 - recall: 0.6070 - auc: 0.6549 - val_loss: 0.6453 - val_accuracy: 0.5913 - val_precision: 0.8967 - val_recall: 0.5744 - val_auc: 0.6851\n",
      "Epoch 95/150\n",
      "3199/3199 - 2s - loss: 0.6687 - accuracy: 0.5871 - precision: 0.8860 - recall: 0.5692 - auc: 0.6536 - val_loss: 0.6450 - val_accuracy: 0.5900 - val_precision: 0.8983 - val_recall: 0.5714 - val_auc: 0.6876\n",
      "Epoch 96/150\n",
      "3199/3199 - 2s - loss: 0.6673 - accuracy: 0.6089 - precision: 0.8772 - recall: 0.6078 - auc: 0.6592 - val_loss: 0.6445 - val_accuracy: 0.6162 - val_precision: 0.8960 - val_recall: 0.6090 - val_auc: 0.6847\n",
      "Epoch 97/150\n",
      "3199/3199 - 3s - loss: 0.6676 - accuracy: 0.5971 - precision: 0.8832 - recall: 0.5857 - auc: 0.6583 - val_loss: 0.6444 - val_accuracy: 0.6075 - val_precision: 0.8962 - val_recall: 0.5970 - val_auc: 0.6860\n",
      "Epoch 98/150\n",
      "3199/3199 - 3s - loss: 0.6671 - accuracy: 0.5858 - precision: 0.8767 - recall: 0.5754 - auc: 0.6570 - val_loss: 0.6436 - val_accuracy: 0.6375 - val_precision: 0.8998 - val_recall: 0.6346 - val_auc: 0.6858\n",
      "Epoch 99/150\n",
      "3199/3199 - 2s - loss: 0.6684 - accuracy: 0.5861 - precision: 0.8755 - recall: 0.5769 - auc: 0.6516 - val_loss: 0.6432 - val_accuracy: 0.6488 - val_precision: 0.8983 - val_recall: 0.6511 - val_auc: 0.6862\n",
      "Epoch 100/150\n",
      "3199/3199 - 2s - loss: 0.6661 - accuracy: 0.6086 - precision: 0.8780 - recall: 0.6066 - auc: 0.6595 - val_loss: 0.6450 - val_accuracy: 0.5775 - val_precision: 0.9037 - val_recall: 0.5504 - val_auc: 0.6875\n",
      "Epoch 101/150\n",
      "3199/3199 - 2s - loss: 0.6678 - accuracy: 0.5921 - precision: 0.8777 - recall: 0.5834 - auc: 0.6546 - val_loss: 0.6441 - val_accuracy: 0.5938 - val_precision: 0.8953 - val_recall: 0.5789 - val_auc: 0.6881\n",
      "Epoch 102/150\n",
      "3199/3199 - 2s - loss: 0.6662 - accuracy: 0.5961 - precision: 0.8799 - recall: 0.5872 - auc: 0.6583 - val_loss: 0.6438 - val_accuracy: 0.6012 - val_precision: 0.8950 - val_recall: 0.5895 - val_auc: 0.6875\n",
      "Epoch 103/150\n",
      "3199/3199 - 2s - loss: 0.6682 - accuracy: 0.5930 - precision: 0.8775 - recall: 0.5849 - auc: 0.6526 - val_loss: 0.6433 - val_accuracy: 0.6313 - val_precision: 0.8970 - val_recall: 0.6286 - val_auc: 0.6856\n",
      "Epoch 104/150\n",
      "3199/3199 - 2s - loss: 0.6662 - accuracy: 0.5933 - precision: 0.8797 - recall: 0.5834 - auc: 0.6573 - val_loss: 0.6429 - val_accuracy: 0.6187 - val_precision: 0.8982 - val_recall: 0.6105 - val_auc: 0.6875\n",
      "Epoch 105/150\n",
      "3199/3199 - 2s - loss: 0.6666 - accuracy: 0.6127 - precision: 0.8818 - recall: 0.6089 - auc: 0.6582 - val_loss: 0.6457 - val_accuracy: 0.5450 - val_precision: 0.9057 - val_recall: 0.5053 - val_auc: 0.6889\n",
      "Epoch 106/150\n",
      "3199/3199 - 2s - loss: 0.6660 - accuracy: 0.5946 - precision: 0.8890 - recall: 0.5773 - auc: 0.6621 - val_loss: 0.6433 - val_accuracy: 0.5975 - val_precision: 0.8961 - val_recall: 0.5835 - val_auc: 0.6883\n",
      "Epoch 107/150\n",
      "3199/3199 - 3s - loss: 0.6659 - accuracy: 0.5849 - precision: 0.8841 - recall: 0.5677 - auc: 0.6604 - val_loss: 0.6418 - val_accuracy: 0.6513 - val_precision: 0.8971 - val_recall: 0.6556 - val_auc: 0.6902\n",
      "Epoch 108/150\n",
      "3199/3199 - 3s - loss: 0.6652 - accuracy: 0.6214 - precision: 0.8794 - recall: 0.6234 - auc: 0.6626 - val_loss: 0.6424 - val_accuracy: 0.6263 - val_precision: 0.8978 - val_recall: 0.6211 - val_auc: 0.6885\n",
      "Epoch 109/150\n",
      "3199/3199 - 3s - loss: 0.6653 - accuracy: 0.6011 - precision: 0.8836 - recall: 0.5910 - auc: 0.6631 - val_loss: 0.6427 - val_accuracy: 0.6000 - val_precision: 0.8984 - val_recall: 0.5850 - val_auc: 0.6896\n",
      "Epoch 110/150\n",
      "3199/3199 - 2s - loss: 0.6649 - accuracy: 0.5952 - precision: 0.8784 - recall: 0.5872 - auc: 0.6630 - val_loss: 0.6447 - val_accuracy: 0.5537 - val_precision: 0.9074 - val_recall: 0.5158 - val_auc: 0.6903\n",
      "Epoch 111/150\n",
      "3199/3199 - 3s - loss: 0.6650 - accuracy: 0.5939 - precision: 0.8852 - recall: 0.5795 - auc: 0.6642 - val_loss: 0.6413 - val_accuracy: 0.6450 - val_precision: 0.8960 - val_recall: 0.6481 - val_auc: 0.6903\n",
      "Epoch 112/150\n",
      "3199/3199 - 3s - loss: 0.6648 - accuracy: 0.5996 - precision: 0.8851 - recall: 0.5876 - auc: 0.6637 - val_loss: 0.6421 - val_accuracy: 0.6050 - val_precision: 0.8993 - val_recall: 0.5910 - val_auc: 0.6919\n",
      "Epoch 113/150\n",
      "3199/3199 - 2s - loss: 0.6642 - accuracy: 0.6133 - precision: 0.8798 - recall: 0.6116 - auc: 0.6629 - val_loss: 0.6424 - val_accuracy: 0.5938 - val_precision: 0.9009 - val_recall: 0.5744 - val_auc: 0.6917\n",
      "Epoch 114/150\n",
      "3199/3199 - 2s - loss: 0.6642 - accuracy: 0.5889 - precision: 0.8878 - recall: 0.5704 - auc: 0.6656 - val_loss: 0.6412 - val_accuracy: 0.6175 - val_precision: 0.8980 - val_recall: 0.6090 - val_auc: 0.6919\n"
     ]
    },
    {
     "name": "stdout",
     "output_type": "stream",
     "text": [
      "Epoch 115/150\n",
      "3199/3199 - 3s - loss: 0.6652 - accuracy: 0.5908 - precision: 0.8823 - recall: 0.5776 - auc: 0.6594 - val_loss: 0.6408 - val_accuracy: 0.6288 - val_precision: 0.9000 - val_recall: 0.6226 - val_auc: 0.6922\n",
      "Epoch 116/150\n",
      "3199/3199 - 4s - loss: 0.6664 - accuracy: 0.6149 - precision: 0.8781 - recall: 0.6154 - auc: 0.6562 - val_loss: 0.6433 - val_accuracy: 0.5663 - val_precision: 0.9077 - val_recall: 0.5323 - val_auc: 0.6930\n",
      "Epoch 117/150\n",
      "3199/3199 - 4s - loss: 0.6643 - accuracy: 0.5980 - precision: 0.8821 - recall: 0.5879 - auc: 0.6626 - val_loss: 0.6408 - val_accuracy: 0.6275 - val_precision: 0.8998 - val_recall: 0.6211 - val_auc: 0.6925\n",
      "Epoch 118/150\n",
      "3199/3199 - 3s - loss: 0.6636 - accuracy: 0.5986 - precision: 0.8835 - recall: 0.5876 - auc: 0.6652 - val_loss: 0.6410 - val_accuracy: 0.6087 - val_precision: 0.8982 - val_recall: 0.5970 - val_auc: 0.6923\n",
      "Epoch 119/150\n",
      "3199/3199 - 2s - loss: 0.6644 - accuracy: 0.5939 - precision: 0.8825 - recall: 0.5818 - auc: 0.6624 - val_loss: 0.6408 - val_accuracy: 0.6112 - val_precision: 0.8986 - val_recall: 0.6000 - val_auc: 0.6939\n",
      "Epoch 120/150\n",
      "3199/3199 - 2s - loss: 0.6635 - accuracy: 0.6149 - precision: 0.8835 - recall: 0.6105 - auc: 0.6656 - val_loss: 0.6400 - val_accuracy: 0.6325 - val_precision: 0.8972 - val_recall: 0.6301 - val_auc: 0.6938\n",
      "Epoch 121/150\n",
      "3199/3199 - 2s - loss: 0.6638 - accuracy: 0.5892 - precision: 0.8802 - recall: 0.5773 - auc: 0.6628 - val_loss: 0.6399 - val_accuracy: 0.6313 - val_precision: 0.8970 - val_recall: 0.6286 - val_auc: 0.6927\n",
      "Epoch 122/150\n",
      "3199/3199 - 2s - loss: 0.6633 - accuracy: 0.6152 - precision: 0.8823 - recall: 0.6120 - auc: 0.6649 - val_loss: 0.6403 - val_accuracy: 0.6112 - val_precision: 0.9005 - val_recall: 0.5985 - val_auc: 0.6931\n",
      "Epoch 123/150\n",
      "3199/3199 - 2s - loss: 0.6639 - accuracy: 0.6024 - precision: 0.8835 - recall: 0.5929 - auc: 0.6609 - val_loss: 0.6392 - val_accuracy: 0.6488 - val_precision: 0.8967 - val_recall: 0.6526 - val_auc: 0.6937\n",
      "Epoch 124/150\n",
      "3199/3199 - 2s - loss: 0.6642 - accuracy: 0.5883 - precision: 0.8817 - recall: 0.5746 - auc: 0.6609 - val_loss: 0.6388 - val_accuracy: 0.6612 - val_precision: 0.8988 - val_recall: 0.6677 - val_auc: 0.6946\n",
      "Epoch 125/150\n",
      "3199/3199 - 2s - loss: 0.6622 - accuracy: 0.6139 - precision: 0.8812 - recall: 0.6112 - auc: 0.6661 - val_loss: 0.6393 - val_accuracy: 0.6325 - val_precision: 0.8955 - val_recall: 0.6316 - val_auc: 0.6929\n",
      "Epoch 126/150\n",
      "3199/3199 - 2s - loss: 0.6603 - accuracy: 0.6177 - precision: 0.8883 - recall: 0.6101 - auc: 0.6732 - val_loss: 0.6395 - val_accuracy: 0.6187 - val_precision: 0.9000 - val_recall: 0.6090 - val_auc: 0.6945\n",
      "Epoch 127/150\n",
      "3199/3199 - 2s - loss: 0.6622 - accuracy: 0.5955 - precision: 0.8811 - recall: 0.5853 - auc: 0.6664 - val_loss: 0.6412 - val_accuracy: 0.5738 - val_precision: 0.8990 - val_recall: 0.5489 - val_auc: 0.6943\n",
      "Epoch 128/150\n",
      "3199/3199 - 2s - loss: 0.6639 - accuracy: 0.6064 - precision: 0.8861 - recall: 0.5963 - auc: 0.6635 - val_loss: 0.6397 - val_accuracy: 0.6087 - val_precision: 0.9018 - val_recall: 0.5940 - val_auc: 0.6955\n",
      "Epoch 129/150\n",
      "3199/3199 - 2s - loss: 0.6630 - accuracy: 0.5905 - precision: 0.8872 - recall: 0.5731 - auc: 0.6638 - val_loss: 0.6385 - val_accuracy: 0.6675 - val_precision: 0.8998 - val_recall: 0.6752 - val_auc: 0.6934\n",
      "Epoch 130/150\n",
      "3199/3199 - 2s - loss: 0.6600 - accuracy: 0.6164 - precision: 0.8855 - recall: 0.6108 - auc: 0.6731 - val_loss: 0.6399 - val_accuracy: 0.5962 - val_precision: 0.9014 - val_recall: 0.5774 - val_auc: 0.6953\n",
      "Epoch 131/150\n",
      "3199/3199 - 3s - loss: 0.6606 - accuracy: 0.6127 - precision: 0.8826 - recall: 0.6082 - auc: 0.6708 - val_loss: 0.6412 - val_accuracy: 0.5700 - val_precision: 0.9043 - val_recall: 0.5398 - val_auc: 0.6942\n",
      "Epoch 132/150\n",
      "3199/3199 - 3s - loss: 0.6610 - accuracy: 0.5980 - precision: 0.8830 - recall: 0.5872 - auc: 0.6699 - val_loss: 0.6403 - val_accuracy: 0.5863 - val_precision: 0.9014 - val_recall: 0.5639 - val_auc: 0.6946\n",
      "Epoch 133/150\n",
      "3199/3199 - 2s - loss: 0.6612 - accuracy: 0.5996 - precision: 0.8886 - recall: 0.5845 - auc: 0.6712 - val_loss: 0.6395 - val_accuracy: 0.6025 - val_precision: 0.9044 - val_recall: 0.5835 - val_auc: 0.6959\n",
      "Epoch 134/150\n",
      "3199/3199 - 2s - loss: 0.6611 - accuracy: 0.6033 - precision: 0.8854 - recall: 0.5925 - auc: 0.6680 - val_loss: 0.6396 - val_accuracy: 0.5888 - val_precision: 0.9019 - val_recall: 0.5669 - val_auc: 0.6970\n",
      "Epoch 135/150\n",
      "3199/3199 - 2s - loss: 0.6608 - accuracy: 0.6093 - precision: 0.8849 - recall: 0.6013 - auc: 0.6723 - val_loss: 0.6385 - val_accuracy: 0.6175 - val_precision: 0.9016 - val_recall: 0.6060 - val_auc: 0.6954\n",
      "Epoch 136/150\n",
      "3199/3199 - 2s - loss: 0.6607 - accuracy: 0.6118 - precision: 0.8837 - recall: 0.6059 - auc: 0.6684 - val_loss: 0.6388 - val_accuracy: 0.6175 - val_precision: 0.8998 - val_recall: 0.6075 - val_auc: 0.6947\n",
      "Epoch 137/150\n",
      "3199/3199 - 2s - loss: 0.6632 - accuracy: 0.6039 - precision: 0.8821 - recall: 0.5963 - auc: 0.6634 - val_loss: 0.6386 - val_accuracy: 0.6087 - val_precision: 0.9000 - val_recall: 0.5955 - val_auc: 0.6960\n",
      "Epoch 138/150\n",
      "3199/3199 - 2s - loss: 0.6607 - accuracy: 0.6030 - precision: 0.8858 - recall: 0.5918 - auc: 0.6696 - val_loss: 0.6400 - val_accuracy: 0.5725 - val_precision: 0.9007 - val_recall: 0.5459 - val_auc: 0.6954\n",
      "Epoch 139/150\n",
      "3199/3199 - 2s - loss: 0.6603 - accuracy: 0.6061 - precision: 0.8812 - recall: 0.6002 - auc: 0.6717 - val_loss: 0.6387 - val_accuracy: 0.6025 - val_precision: 0.9044 - val_recall: 0.5835 - val_auc: 0.6967\n",
      "Epoch 140/150\n",
      "3199/3199 - 2s - loss: 0.6620 - accuracy: 0.6043 - precision: 0.8896 - recall: 0.5902 - auc: 0.6689 - val_loss: 0.6383 - val_accuracy: 0.6000 - val_precision: 0.9040 - val_recall: 0.5805 - val_auc: 0.6978\n",
      "Epoch 141/150\n",
      "3199/3199 - 2s - loss: 0.6590 - accuracy: 0.6121 - precision: 0.8881 - recall: 0.6024 - auc: 0.6753 - val_loss: 0.6375 - val_accuracy: 0.6300 - val_precision: 0.9002 - val_recall: 0.6241 - val_auc: 0.6969\n",
      "Epoch 142/150\n",
      "3199/3199 - 2s - loss: 0.6603 - accuracy: 0.6102 - precision: 0.8873 - recall: 0.6005 - auc: 0.6700 - val_loss: 0.6373 - val_accuracy: 0.6325 - val_precision: 0.8989 - val_recall: 0.6286 - val_auc: 0.6968\n",
      "Epoch 143/150\n",
      "3199/3199 - 2s - loss: 0.6621 - accuracy: 0.6043 - precision: 0.8874 - recall: 0.5921 - auc: 0.6657 - val_loss: 0.6372 - val_accuracy: 0.6263 - val_precision: 0.9031 - val_recall: 0.6165 - val_auc: 0.6979\n",
      "Epoch 144/150\n",
      "3199/3199 - 2s - loss: 0.6600 - accuracy: 0.6099 - precision: 0.8890 - recall: 0.5986 - auc: 0.6726 - val_loss: 0.6367 - val_accuracy: 0.6575 - val_precision: 0.8982 - val_recall: 0.6632 - val_auc: 0.6977\n",
      "Epoch 145/150\n",
      "3199/3199 - 2s - loss: 0.6585 - accuracy: 0.6136 - precision: 0.8897 - recall: 0.6032 - auc: 0.6762 - val_loss: 0.6370 - val_accuracy: 0.6288 - val_precision: 0.9000 - val_recall: 0.6226 - val_auc: 0.6982\n",
      "Epoch 146/150\n",
      "3199/3199 - 2s - loss: 0.6589 - accuracy: 0.6180 - precision: 0.8850 - recall: 0.6135 - auc: 0.6725 - val_loss: 0.6384 - val_accuracy: 0.5813 - val_precision: 0.9005 - val_recall: 0.5579 - val_auc: 0.6984\n",
      "Epoch 147/150\n",
      "3199/3199 - 2s - loss: 0.6584 - accuracy: 0.6108 - precision: 0.8822 - recall: 0.6059 - auc: 0.6739 - val_loss: 0.6372 - val_accuracy: 0.6137 - val_precision: 0.8991 - val_recall: 0.6030 - val_auc: 0.6980\n",
      "Epoch 148/150\n",
      "3199/3199 - 2s - loss: 0.6582 - accuracy: 0.6080 - precision: 0.8855 - recall: 0.5990 - auc: 0.6755 - val_loss: 0.6375 - val_accuracy: 0.6025 - val_precision: 0.9044 - val_recall: 0.5835 - val_auc: 0.6982\n",
      "Epoch 149/150\n",
      "3199/3199 - 2s - loss: 0.6570 - accuracy: 0.6083 - precision: 0.8860 - recall: 0.5990 - auc: 0.6770 - val_loss: 0.6379 - val_accuracy: 0.5788 - val_precision: 0.9059 - val_recall: 0.5504 - val_auc: 0.7007\n",
      "Epoch 150/150\n",
      "3199/3199 - 2s - loss: 0.6591 - accuracy: 0.5921 - precision: 0.8889 - recall: 0.5738 - auc: 0.6733 - val_loss: 0.6353 - val_accuracy: 0.7013 - val_precision: 0.8989 - val_recall: 0.7218 - val_auc: 0.6994\n"
     ]
    },
    {
     "data": {
      "text/plain": [
       "SmilePredictor(activation='relu', batch_size=16,\n",
       "               class_weight={0: 2.81, 1: 0.61}, epochs=150,\n",
       "               loss='binary_crossentropy', max_length=74,\n",
       "               metrics=[<tensorflow.python.keras.metrics.BinaryAccuracy object at 0x0000019DBC148978>,\n",
       "                        <tensorflow.python.keras.metrics.Precision object at 0x0000019DBC162390>,\n",
       "                        <tensorflow.python.keras.metrics.Recall object at 0x0000019DBC162630>,\n",
       "                        <tensorflow.python.keras.metrics.AUC object at 0x0000019DBC162A20>],\n",
       "               optimizer=<tensorflow.python.keras.optimizer_v2.gradient_descent.SGD object at 0x0000019DC59FB400>,\n",
       "               validation_split=0.2)"
      ]
     },
     "execution_count": 12,
     "metadata": {},
     "output_type": "execute_result"
    }
   ],
   "source": [
    "clf2.fit(X_train, y_train)"
   ]
  },
  {
   "cell_type": "code",
   "execution_count": 13,
   "metadata": {},
   "outputs": [
    {
     "data": {
      "image/png": "[encoded data removed]",
      "text/plain": [
       "<Figure size 432x288 with 4 Axes>"
      ]
     },
     "metadata": {
      "needs_background": "light"
     },
     "output_type": "display_data"
    }
   ],
   "source": [
    "# Evaluation\n",
    "\n",
    "plot_metrics(clf2.history)"
   ]
  },
  {
   "cell_type": "code",
   "execution_count": 14,
   "metadata": {},
   "outputs": [
    {
     "name": "stdout",
     "output_type": "stream",
     "text": [
      "              precision    recall  f1-score   support\n",
      "\n",
      "           0       0.24      0.46      0.32       178\n",
      "           1       0.85      0.69      0.76       822\n",
      "\n",
      "    accuracy                           0.65      1000\n",
      "   macro avg       0.55      0.57      0.54      1000\n",
      "weighted avg       0.75      0.65      0.68      1000\n",
      "\n"
     ]
    },
    {
     "data": {
      "image/png": "[encoded data removed]",
      "text/plain": [
       "<Figure size 360x360 with 2 Axes>"
      ]
     },
     "metadata": {
      "needs_background": "light"
     },
     "output_type": "display_data"
    }
   ],
   "source": [
    "test_pred = clf2.predict(X_test)\n",
    "plot_cm(y_test, test_pred)\n",
    "plt.show()"
   ]
  },
  {
   "cell_type": "code",
   "execution_count": 15,
   "metadata": {},
   "outputs": [
    {
     "name": "stdout",
     "output_type": "stream",
     "text": [
      "smile property prediction: P1=[[1]]\n"
     ]
    }
   ],
   "source": [
    "# Precict \n",
    "smile = 'Cc1cccc(N2CCN(C(=O)C34CC5CC(CC(C5)C3)C4)CC2)c1C'\n",
    "print(f\"smile property prediction: P1={clf2.predict(smile)}\")"
   ]
  },
  {
   "cell_type": "code",
   "execution_count": 16,
   "metadata": {},
   "outputs": [],
   "source": [
    "# save model1\n",
    "# clf2.history.model.save(\"saved_models/model2.h5\")"
   ]
  },
  {
   "cell_type": "markdown",
   "metadata": {},
   "source": [
    "# Model3"
   ]
  },
  {
   "cell_type": "code",
   "execution_count": 17,
   "metadata": {},
   "outputs": [],
   "source": [
    "X_train, X_test, y_train, y_test = fetch_multi_label_data(\n",
    "    get_extracted_features=True)"
   ]
  },
  {
   "cell_type": "markdown",
   "metadata": {},
   "source": [
    "#### We should claculate  class_weight for all the P1, P2, ..., P9 and pass it to the model to get better results. "
   ]
  },
  {
   "cell_type": "code",
   "execution_count": 18,
   "metadata": {},
   "outputs": [],
   "source": [
    "clf3 = FeatureExtractedClassifier(epochs=50,\n",
    "                                 batch_size=16,\n",
    "                                 metrics=METRICS,\n",
    "                                 loss='binary_crossentropy',\n",
    "                                 output_activation='sigmoid',\n",
    "                                 optimizer=tf.keras.optimizers.Adam(lr=1e-5),\n",
    "                                 # class_weight=class_weight,\n",
    "                                 is_multi_label=True\n",
    "                                 )"
   ]
  },
  {
   "cell_type": "code",
   "execution_count": 19,
   "metadata": {
    "scrolled": true
   },
   "outputs": [
    {
     "name": "stdout",
     "output_type": "stream",
     "text": [
      "Train on 3199 samples, validate on 800 samples\n",
      "Epoch 1/50\n",
      "3199/3199 - 4s - loss: 0.8868 - accuracy: 0.5075 - precision: 0.8364 - recall: 0.5102 - auc: 0.5044 - val_loss: 0.6828 - val_accuracy: 0.5729 - val_precision: 0.8289 - val_recall: 0.6136 - val_auc: 0.4944\n",
      "Epoch 2/50\n",
      "3199/3199 - 1s - loss: 0.8704 - accuracy: 0.5074 - precision: 0.8377 - recall: 0.5089 - auc: 0.5049 - val_loss: 0.6636 - val_accuracy: 0.6139 - val_precision: 0.8327 - val_recall: 0.6710 - val_auc: 0.4971\n",
      "Epoch 3/50\n",
      "3199/3199 - 1s - loss: 0.8546 - accuracy: 0.5088 - precision: 0.8353 - recall: 0.5132 - auc: 0.4993 - val_loss: 0.6574 - val_accuracy: 0.6208 - val_precision: 0.8342 - val_recall: 0.6797 - val_auc: 0.4979\n",
      "Epoch 4/50\n",
      "3199/3199 - 1s - loss: 0.8353 - accuracy: 0.5141 - precision: 0.8358 - recall: 0.5206 - auc: 0.5010 - val_loss: 0.6540 - val_accuracy: 0.6281 - val_precision: 0.8348 - val_recall: 0.6897 - val_auc: 0.4978\n",
      "Epoch 5/50\n",
      "3199/3199 - 1s - loss: 0.8276 - accuracy: 0.5128 - precision: 0.8364 - recall: 0.5181 - auc: 0.5039 - val_loss: 0.6489 - val_accuracy: 0.6425 - val_precision: 0.8340 - val_recall: 0.7124 - val_auc: 0.4971\n",
      "Epoch 6/50\n",
      "3199/3199 - 2s - loss: 0.8171 - accuracy: 0.5072 - precision: 0.8321 - recall: 0.5138 - auc: 0.4952 - val_loss: 0.6459 - val_accuracy: 0.6572 - val_precision: 0.8353 - val_recall: 0.7327 - val_auc: 0.4979\n",
      "Epoch 7/50\n",
      "3199/3199 - 1s - loss: 0.7983 - accuracy: 0.5197 - precision: 0.8339 - recall: 0.5307 - auc: 0.4981 - val_loss: 0.6436 - val_accuracy: 0.6647 - val_precision: 0.8346 - val_recall: 0.7449 - val_auc: 0.4971\n",
      "Epoch 8/50\n",
      "3199/3199 - 2s - loss: 0.7823 - accuracy: 0.5230 - precision: 0.8355 - recall: 0.5340 - auc: 0.5047 - val_loss: 0.6401 - val_accuracy: 0.6743 - val_precision: 0.8347 - val_recall: 0.7591 - val_auc: 0.4986\n",
      "Epoch 9/50\n",
      "3199/3199 - 1s - loss: 0.7764 - accuracy: 0.5292 - precision: 0.8363 - recall: 0.5425 - auc: 0.5040 - val_loss: 0.6408 - val_accuracy: 0.6753 - val_precision: 0.8342 - val_recall: 0.7613 - val_auc: 0.5014\n",
      "Epoch 10/50\n",
      "3199/3199 - 1s - loss: 0.7686 - accuracy: 0.5287 - precision: 0.8353 - recall: 0.5429 - auc: 0.4983 - val_loss: 0.6416 - val_accuracy: 0.6728 - val_precision: 0.8357 - val_recall: 0.7554 - val_auc: 0.5045\n",
      "Epoch 11/50\n",
      "3199/3199 - 1s - loss: 0.7562 - accuracy: 0.5357 - precision: 0.8363 - recall: 0.5522 - auc: 0.5038 - val_loss: 0.6409 - val_accuracy: 0.6762 - val_precision: 0.8359 - val_recall: 0.7604 - val_auc: 0.5062\n",
      "Epoch 12/50\n",
      "3199/3199 - 1s - loss: 0.7504 - accuracy: 0.5333 - precision: 0.8355 - recall: 0.5494 - auc: 0.5058 - val_loss: 0.6410 - val_accuracy: 0.6738 - val_precision: 0.8355 - val_recall: 0.7573 - val_auc: 0.5082\n",
      "Epoch 13/50\n",
      "3199/3199 - 1s - loss: 0.7491 - accuracy: 0.5381 - precision: 0.8404 - recall: 0.5518 - auc: 0.5063 - val_loss: 0.6406 - val_accuracy: 0.6719 - val_precision: 0.8353 - val_recall: 0.7548 - val_auc: 0.5100\n",
      "Epoch 14/50\n",
      "3199/3199 - 1s - loss: 0.7350 - accuracy: 0.5462 - precision: 0.8417 - recall: 0.5626 - auc: 0.5138 - val_loss: 0.6416 - val_accuracy: 0.6663 - val_precision: 0.8339 - val_recall: 0.7481 - val_auc: 0.5107\n",
      "Epoch 15/50\n",
      "3199/3199 - 1s - loss: 0.7369 - accuracy: 0.5404 - precision: 0.8378 - recall: 0.5578 - auc: 0.5065 - val_loss: 0.6427 - val_accuracy: 0.6654 - val_precision: 0.8342 - val_recall: 0.7464 - val_auc: 0.5117\n",
      "Epoch 16/50\n",
      "3199/3199 - 1s - loss: 0.7336 - accuracy: 0.5430 - precision: 0.8357 - recall: 0.5637 - auc: 0.5059 - val_loss: 0.6409 - val_accuracy: 0.6706 - val_precision: 0.8336 - val_recall: 0.7549 - val_auc: 0.5130\n",
      "Epoch 17/50\n",
      "3199/3199 - 1s - loss: 0.7267 - accuracy: 0.5478 - precision: 0.8378 - recall: 0.5687 - auc: 0.5101 - val_loss: 0.6414 - val_accuracy: 0.6674 - val_precision: 0.8338 - val_recall: 0.7499 - val_auc: 0.5134\n",
      "Epoch 18/50\n",
      "3199/3199 - 1s - loss: 0.7256 - accuracy: 0.5461 - precision: 0.8383 - recall: 0.5657 - auc: 0.5104 - val_loss: 0.6414 - val_accuracy: 0.6675 - val_precision: 0.8341 - val_recall: 0.7497 - val_auc: 0.5148\n",
      "Epoch 19/50\n",
      "3199/3199 - 2s - loss: 0.7222 - accuracy: 0.5558 - precision: 0.8423 - recall: 0.5760 - auc: 0.5163 - val_loss: 0.6410 - val_accuracy: 0.6719 - val_precision: 0.8347 - val_recall: 0.7556 - val_auc: 0.5159\n",
      "Epoch 20/50\n",
      "3199/3199 - 2s - loss: 0.7205 - accuracy: 0.5487 - precision: 0.8384 - recall: 0.5696 - auc: 0.5126 - val_loss: 0.6381 - val_accuracy: 0.6807 - val_precision: 0.8357 - val_recall: 0.7673 - val_auc: 0.5170\n",
      "Epoch 21/50\n",
      "3199/3199 - 2s - loss: 0.7185 - accuracy: 0.5586 - precision: 0.8381 - recall: 0.5845 - auc: 0.5102 - val_loss: 0.6380 - val_accuracy: 0.6843 - val_precision: 0.8365 - val_recall: 0.7716 - val_auc: 0.5184\n",
      "Epoch 22/50\n",
      "3199/3199 - 2s - loss: 0.7194 - accuracy: 0.5566 - precision: 0.8388 - recall: 0.5808 - auc: 0.5094 - val_loss: 0.6342 - val_accuracy: 0.6932 - val_precision: 0.8370 - val_recall: 0.7841 - val_auc: 0.5194\n",
      "Epoch 23/50\n",
      "3199/3199 - 1s - loss: 0.7111 - accuracy: 0.5609 - precision: 0.8394 - recall: 0.5866 - auc: 0.5181 - val_loss: 0.6351 - val_accuracy: 0.6929 - val_precision: 0.8373 - val_recall: 0.7833 - val_auc: 0.5201\n",
      "Epoch 24/50\n",
      "3199/3199 - 1s - loss: 0.7107 - accuracy: 0.5654 - precision: 0.8421 - recall: 0.5905 - auc: 0.5199 - val_loss: 0.6341 - val_accuracy: 0.6940 - val_precision: 0.8376 - val_recall: 0.7846 - val_auc: 0.5214\n",
      "Epoch 25/50\n",
      "3199/3199 - 1s - loss: 0.7093 - accuracy: 0.5692 - precision: 0.8422 - recall: 0.5959 - auc: 0.5218 - val_loss: 0.6345 - val_accuracy: 0.6935 - val_precision: 0.8371 - val_recall: 0.7845 - val_auc: 0.5222\n",
      "Epoch 26/50\n",
      "3199/3199 - 1s - loss: 0.7057 - accuracy: 0.5766 - precision: 0.8458 - recall: 0.6031 - auc: 0.5258 - val_loss: 0.6323 - val_accuracy: 0.7001 - val_precision: 0.8369 - val_recall: 0.7946 - val_auc: 0.5238\n",
      "Epoch 27/50\n",
      "3199/3199 - 1s - loss: 0.7052 - accuracy: 0.5760 - precision: 0.8438 - recall: 0.6043 - auc: 0.5204 - val_loss: 0.6293 - val_accuracy: 0.7075 - val_precision: 0.8368 - val_recall: 0.8058 - val_auc: 0.5245\n",
      "Epoch 28/50\n",
      "3199/3199 - 1s - loss: 0.7003 - accuracy: 0.5815 - precision: 0.8423 - recall: 0.6139 - auc: 0.5216 - val_loss: 0.6299 - val_accuracy: 0.7061 - val_precision: 0.8369 - val_recall: 0.8036 - val_auc: 0.5258\n",
      "Epoch 29/50\n",
      "3199/3199 - 1s - loss: 0.7013 - accuracy: 0.5788 - precision: 0.8424 - recall: 0.6098 - auc: 0.5226 - val_loss: 0.6274 - val_accuracy: 0.7097 - val_precision: 0.8368 - val_recall: 0.8091 - val_auc: 0.5279\n",
      "Epoch 30/50\n",
      "3199/3199 - 1s - loss: 0.6974 - accuracy: 0.5824 - precision: 0.8426 - recall: 0.6149 - auc: 0.5253 - val_loss: 0.6267 - val_accuracy: 0.7117 - val_precision: 0.8372 - val_recall: 0.8115 - val_auc: 0.5292\n",
      "Epoch 31/50\n",
      "3199/3199 - 1s - loss: 0.6931 - accuracy: 0.5854 - precision: 0.8455 - recall: 0.6162 - auc: 0.5327 - val_loss: 0.6264 - val_accuracy: 0.7156 - val_precision: 0.8380 - val_recall: 0.8161 - val_auc: 0.5292\n",
      "Epoch 32/50\n",
      "3199/3199 - 1s - loss: 0.6916 - accuracy: 0.5883 - precision: 0.8449 - recall: 0.6212 - auc: 0.5290 - val_loss: 0.6240 - val_accuracy: 0.7225 - val_precision: 0.8375 - val_recall: 0.8272 - val_auc: 0.5297\n",
      "Epoch 33/50\n",
      "3199/3199 - 1s - loss: 0.6931 - accuracy: 0.5887 - precision: 0.8423 - recall: 0.6246 - auc: 0.5254 - val_loss: 0.6238 - val_accuracy: 0.7240 - val_precision: 0.8379 - val_recall: 0.8288 - val_auc: 0.5306\n",
      "Epoch 34/50\n",
      "3199/3199 - 1s - loss: 0.6878 - accuracy: 0.5928 - precision: 0.8435 - recall: 0.6292 - auc: 0.5332 - val_loss: 0.6231 - val_accuracy: 0.7249 - val_precision: 0.8377 - val_recall: 0.8303 - val_auc: 0.5317\n",
      "Epoch 35/50\n",
      "3199/3199 - 1s - loss: 0.6851 - accuracy: 0.5979 - precision: 0.8437 - recall: 0.6365 - auc: 0.5320 - val_loss: 0.6225 - val_accuracy: 0.7261 - val_precision: 0.8375 - val_recall: 0.8325 - val_auc: 0.5322\n",
      "Epoch 36/50\n",
      "3199/3199 - 2s - loss: 0.6850 - accuracy: 0.5990 - precision: 0.8438 - recall: 0.6379 - auc: 0.5273 - val_loss: 0.6204 - val_accuracy: 0.7307 - val_precision: 0.8377 - val_recall: 0.8390 - val_auc: 0.5333\n",
      "Epoch 37/50\n",
      "3199/3199 - 2s - loss: 0.6810 - accuracy: 0.6044 - precision: 0.8466 - recall: 0.6429 - auc: 0.5368 - val_loss: 0.6199 - val_accuracy: 0.7336 - val_precision: 0.8385 - val_recall: 0.8422 - val_auc: 0.5338\n",
      "Epoch 38/50\n",
      "3199/3199 - 2s - loss: 0.6812 - accuracy: 0.5990 - precision: 0.8425 - recall: 0.6395 - auc: 0.5289 - val_loss: 0.6182 - val_accuracy: 0.7362 - val_precision: 0.8385 - val_recall: 0.8462 - val_auc: 0.5338\n"
     ]
    },
    {
     "name": "stdout",
     "output_type": "stream",
     "text": [
      "Epoch 39/50\n",
      "3199/3199 - 1s - loss: 0.6780 - accuracy: 0.6055 - precision: 0.8431 - recall: 0.6483 - auc: 0.5322 - val_loss: 0.6161 - val_accuracy: 0.7410 - val_precision: 0.8375 - val_recall: 0.8547 - val_auc: 0.5342\n",
      "Epoch 40/50\n",
      "3199/3199 - 1s - loss: 0.6771 - accuracy: 0.6088 - precision: 0.8454 - recall: 0.6506 - auc: 0.5331 - val_loss: 0.6161 - val_accuracy: 0.7418 - val_precision: 0.8374 - val_recall: 0.8560 - val_auc: 0.5343\n",
      "Epoch 41/50\n",
      "3199/3199 - 1s - loss: 0.6724 - accuracy: 0.6110 - precision: 0.8450 - recall: 0.6543 - auc: 0.5369 - val_loss: 0.6144 - val_accuracy: 0.7436 - val_precision: 0.8376 - val_recall: 0.8585 - val_auc: 0.5351\n",
      "Epoch 42/50\n",
      "3199/3199 - 1s - loss: 0.6705 - accuracy: 0.6213 - precision: 0.8476 - recall: 0.6665 - auc: 0.5412 - val_loss: 0.6152 - val_accuracy: 0.7443 - val_precision: 0.8375 - val_recall: 0.8597 - val_auc: 0.5356\n",
      "Epoch 43/50\n",
      "3199/3199 - 1s - loss: 0.6692 - accuracy: 0.6203 - precision: 0.8448 - recall: 0.6681 - auc: 0.5409 - val_loss: 0.6137 - val_accuracy: 0.7494 - val_precision: 0.8380 - val_recall: 0.8665 - val_auc: 0.5361\n",
      "Epoch 44/50\n",
      "3199/3199 - 1s - loss: 0.6689 - accuracy: 0.6237 - precision: 0.8427 - recall: 0.6756 - auc: 0.5278 - val_loss: 0.6128 - val_accuracy: 0.7511 - val_precision: 0.8380 - val_recall: 0.8690 - val_auc: 0.5371\n",
      "Epoch 45/50\n",
      "3199/3199 - 1s - loss: 0.6642 - accuracy: 0.6281 - precision: 0.8451 - recall: 0.6792 - auc: 0.5357 - val_loss: 0.6123 - val_accuracy: 0.7536 - val_precision: 0.8380 - val_recall: 0.8727 - val_auc: 0.5369\n",
      "Epoch 46/50\n",
      "3199/3199 - 1s - loss: 0.6653 - accuracy: 0.6260 - precision: 0.8438 - recall: 0.6777 - auc: 0.5350 - val_loss: 0.6102 - val_accuracy: 0.7571 - val_precision: 0.8375 - val_recall: 0.8787 - val_auc: 0.5381\n",
      "Epoch 47/50\n",
      "3199/3199 - 1s - loss: 0.6608 - accuracy: 0.6308 - precision: 0.8442 - recall: 0.6842 - auc: 0.5387 - val_loss: 0.6090 - val_accuracy: 0.7608 - val_precision: 0.8377 - val_recall: 0.8841 - val_auc: 0.5389\n",
      "Epoch 48/50\n",
      "3199/3199 - 1s - loss: 0.6595 - accuracy: 0.6371 - precision: 0.8451 - recall: 0.6925 - auc: 0.5347 - val_loss: 0.6092 - val_accuracy: 0.7633 - val_precision: 0.8380 - val_recall: 0.8872 - val_auc: 0.5396\n",
      "Epoch 49/50\n",
      "3199/3199 - 1s - loss: 0.6567 - accuracy: 0.6436 - precision: 0.8473 - recall: 0.6994 - auc: 0.5419 - val_loss: 0.6099 - val_accuracy: 0.7632 - val_precision: 0.8376 - val_recall: 0.8877 - val_auc: 0.5400\n",
      "Epoch 50/50\n",
      "3199/3199 - 1s - loss: 0.6561 - accuracy: 0.6385 - precision: 0.8441 - recall: 0.6957 - auc: 0.5361 - val_loss: 0.6089 - val_accuracy: 0.7650 - val_precision: 0.8369 - val_recall: 0.8914 - val_auc: 0.5414\n"
     ]
    },
    {
     "data": {
      "text/plain": [
       "FeatureExtractedClassifier(activation='relu', batch_size=16, class_weight=None,\n",
       "                           epochs=50, is_multi_label=True,\n",
       "                           loss='binary_crossentropy',\n",
       "                           metrics=[<tensorflow.python.keras.metrics.BinaryAccuracy object at 0x0000019DBC148978>,\n",
       "                                    <tensorflow.python.keras.metrics.Precision object at 0x0000019DBC162390>,\n",
       "                                    <tensorflow.python.keras.metrics.Recall object at 0x0000019DBC162630>,\n",
       "                                    <tensorflow.python.keras.metrics.AUC object at 0x0000019DBC162A20>],\n",
       "                           optimizer=<tensorflow.python.keras.optimizer_v2.adam.Adam object at 0x0000019DC80943C8>,\n",
       "                           output_activation='sigmoid', validation_split=0.2)"
      ]
     },
     "execution_count": 19,
     "metadata": {},
     "output_type": "execute_result"
    }
   ],
   "source": [
    "clf3.fit(X_train, y_train)"
   ]
  },
  {
   "cell_type": "code",
   "execution_count": 20,
   "metadata": {},
   "outputs": [
    {
     "name": "stdout",
     "output_type": "stream",
     "text": [
      "loss : 0.6116\n",
      "accuracy : 0.7569\n",
      "precision : 0.8330\n",
      "recall : 0.8855\n",
      "auc : 0.5243\n"
     ]
    },
    {
     "data": {
      "image/png": "[encoded data removed]",
      "text/plain": [
       "<Figure size 432x288 with 4 Axes>"
      ]
     },
     "metadata": {
      "needs_background": "light"
     },
     "output_type": "display_data"
    }
   ],
   "source": [
    "plot_metrics(clf3.history)\n",
    "\n",
    "results = clf3.history.model.evaluate(X_test, y_test, verbose=0)\n",
    "for name, value in zip(clf3.history.model.metrics_names, results):\n",
    "    print(f\"{name} : {value:.4f}\")"
   ]
  },
  {
   "cell_type": "code",
   "execution_count": 21,
   "metadata": {},
   "outputs": [
    {
     "name": "stdout",
     "output_type": "stream",
     "text": [
      "hamming loss: 0.2431\n",
      "              precision    recall  f1-score   support\n",
      "\n",
      "           0       0.82      0.87      0.85       822\n",
      "           1       0.11      0.11      0.11       127\n",
      "           2       0.00      0.00      0.00        38\n",
      "           3       0.00      0.00      0.00         9\n",
      "           4       0.00      0.00      0.00         1\n",
      "           5       0.00      0.00      0.00         3\n",
      "\n",
      "    accuracy                           0.73      1000\n",
      "   macro avg       0.16      0.16      0.16      1000\n",
      "weighted avg       0.69      0.73      0.71      1000\n",
      "\n"
     ]
    },
    {
     "name": "stderr",
     "output_type": "stream",
     "text": [
      "C:\\Users\\user\\miniconda3\\envs\\test\\lib\\site-packages\\sklearn\\metrics\\classification.py:1437: UndefinedMetricWarning: Precision and F-score are ill-defined and being set to 0.0 in labels with no predicted samples.\n",
      "  'precision', 'predicted', average, warn_for)\n"
     ]
    },
    {
     "data": {
      "image/png": "[encoded data removed]",
      "text/plain": [
       "<Figure size 360x360 with 2 Axes>"
      ]
     },
     "metadata": {
      "needs_background": "light"
     },
     "output_type": "display_data"
    }
   ],
   "source": [
    "test_pred = clf3.predict(X_test)\n",
    "hamming_loss = hamming_loss(y_test, test_pred)\n",
    "print(f\"hamming loss: {hamming_loss:.4f}\")\n",
    "plot_cm(y_test, test_pred)\n",
    "plt.show()"
   ]
  },
  {
   "cell_type": "code",
   "execution_count": 22,
   "metadata": {},
   "outputs": [],
   "source": [
    "# save model1\n",
    "# clf3.history.model.save(\"saved_models/model3.h5\")"
   ]
  }
 ],
 "metadata": {
  "kernelspec": {
   "display_name": "Python 3",
   "language": "python",
   "name": "python3"
  },
  "language_info": {
   "codemirror_mode": {
    "name": "ipython",
    "version": 3
   },
   "file_extension": ".py",
   "mimetype": "text/x-python",
   "name": "python",
   "nbconvert_exporter": "python",
   "pygments_lexer": "ipython3",
   "version": "3.6.10"
  }
 },
 "nbformat": 4,
 "nbformat_minor": 4
}
